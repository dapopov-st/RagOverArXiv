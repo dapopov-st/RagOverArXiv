{
 "cells": [
  {
   "cell_type": "code",
   "execution_count": 1,
   "metadata": {},
   "outputs": [
    {
     "name": "stdout",
     "output_type": "stream",
     "text": [
      "../data/pdfs_ws_mrkp_test/eval_outputs/pdf_2000_200_mxbai-embe_CriticMiStralInf_QagenMiStralInf_Rerank.csv\n",
      "(77, 15)\n",
      "../data/pdfs_ws_mrkp_test/eval_outputs/pdf_2000_200_mxbai-embe_CriticMiStralInf_QagenMiStralInf_NoRerank.csv\n",
      "(80, 15)\n",
      "../data/pdfs_ws_mrkp_test/eval_outputs/pdf_4000_200_mxbai-embe_CriticMixtral-8x_QagenMixtral-8x_NoRerank.csv\n",
      "(56, 15)\n",
      "../data/pdfs_ws_mrkp_test/eval_outputs/pdf_1000_200_mxbai-embe_CriticMixtral-8x_QagenMixtral-8x_NoRerank.csv\n",
      "(47, 15)\n",
      "../data/pdfs_ws_mrkp_test/eval_outputs/pdf_1500_200_mxbai-embe_CriticMixtral-8x_QagenMixtral-8x_NoRerank.csv\n",
      "(51, 15)\n",
      "../data/pdfs_ws_mrkp_test/eval_outputs/pdf_2000_200_mxbai-embe_CriticMixtral-8x_QagenMixtral-8x_Rerank.csv\n",
      "(55, 15)\n",
      "../data/pdfs_ws_mrkp_test/eval_outputs/txt_2000_200_mxbai-embe_CriticMixtral-8x_QagenMixtral-8x_NoRerank.csv\n",
      "(66, 15)\n",
      "../data/pdfs_ws_mrkp_test/eval_outputs/txt_2000_200_mxbai-embe_CriticMiStralInf_QagenMiStralInf_Rerank.csv\n",
      "(84, 15)\n",
      "../data/pdfs_ws_mrkp_test/eval_outputs/txt_1000_200_mxbai-embe_CriticMixtral-8x_QagenMixtral-8x_NoRerank.csv\n",
      "(67, 15)\n",
      "../data/pdfs_ws_mrkp_test/eval_outputs/txt_4000_200_mxbai-embe_CriticMixtral-8x_QagenMixtral-8x_NoRerank.csv\n",
      "(64, 15)\n",
      "../data/pdfs_ws_mrkp_test/eval_outputs/txt_2000_200_mxbai-embe_CriticMiStralInf_QagenMiStralInf_NoRerank.csv\n",
      "(84, 15)\n",
      "(731, 16)\n"
     ]
    },
    {
     "data": {
      "text/html": [
       "<div>\n",
       "<style scoped>\n",
       "    .dataframe tbody tr th:only-of-type {\n",
       "        vertical-align: middle;\n",
       "    }\n",
       "\n",
       "    .dataframe tbody tr th {\n",
       "        vertical-align: top;\n",
       "    }\n",
       "\n",
       "    .dataframe thead th {\n",
       "        text-align: right;\n",
       "    }\n",
       "</style>\n",
       "<table border=\"1\" class=\"dataframe\">\n",
       "  <thead>\n",
       "    <tr style=\"text-align: right;\">\n",
       "      <th></th>\n",
       "      <th>eval_score</th>\n",
       "      <th>settings</th>\n",
       "    </tr>\n",
       "  </thead>\n",
       "  <tbody>\n",
       "    <tr>\n",
       "      <th>0</th>\n",
       "      <td>5.0</td>\n",
       "      <td>pdf_2000_200_mxbai-embe_CriticMiStralInf_QagenMiStralInf_Rerank</td>\n",
       "    </tr>\n",
       "    <tr>\n",
       "      <th>1</th>\n",
       "      <td>5.0</td>\n",
       "      <td>pdf_2000_200_mxbai-embe_CriticMiStralInf_QagenMiStralInf_Rerank</td>\n",
       "    </tr>\n",
       "    <tr>\n",
       "      <th>2</th>\n",
       "      <td>5.0</td>\n",
       "      <td>pdf_2000_200_mxbai-embe_CriticMiStralInf_QagenMiStralInf_Rerank</td>\n",
       "    </tr>\n",
       "    <tr>\n",
       "      <th>3</th>\n",
       "      <td>5.0</td>\n",
       "      <td>pdf_2000_200_mxbai-embe_CriticMiStralInf_QagenMiStralInf_Rerank</td>\n",
       "    </tr>\n",
       "    <tr>\n",
       "      <th>4</th>\n",
       "      <td>2.0</td>\n",
       "      <td>pdf_2000_200_mxbai-embe_CriticMiStralInf_QagenMiStralInf_Rerank</td>\n",
       "    </tr>\n",
       "    <tr>\n",
       "      <th>5</th>\n",
       "      <td>4.0</td>\n",
       "      <td>pdf_2000_200_mxbai-embe_CriticMiStralInf_QagenMiStralInf_Rerank</td>\n",
       "    </tr>\n",
       "    <tr>\n",
       "      <th>6</th>\n",
       "      <td>1.0</td>\n",
       "      <td>pdf_2000_200_mxbai-embe_CriticMiStralInf_QagenMiStralInf_Rerank</td>\n",
       "    </tr>\n",
       "    <tr>\n",
       "      <th>7</th>\n",
       "      <td>3.0</td>\n",
       "      <td>pdf_2000_200_mxbai-embe_CriticMiStralInf_QagenMiStralInf_Rerank</td>\n",
       "    </tr>\n",
       "    <tr>\n",
       "      <th>8</th>\n",
       "      <td>1.0</td>\n",
       "      <td>pdf_2000_200_mxbai-embe_CriticMiStralInf_QagenMiStralInf_Rerank</td>\n",
       "    </tr>\n",
       "    <tr>\n",
       "      <th>9</th>\n",
       "      <td>5.0</td>\n",
       "      <td>pdf_2000_200_mxbai-embe_CriticMiStralInf_QagenMiStralInf_Rerank</td>\n",
       "    </tr>\n",
       "    <tr>\n",
       "      <th>10</th>\n",
       "      <td>5.0</td>\n",
       "      <td>pdf_2000_200_mxbai-embe_CriticMiStralInf_QagenMiStralInf_Rerank</td>\n",
       "    </tr>\n",
       "    <tr>\n",
       "      <th>11</th>\n",
       "      <td>5.0</td>\n",
       "      <td>pdf_2000_200_mxbai-embe_CriticMiStralInf_QagenMiStralInf_Rerank</td>\n",
       "    </tr>\n",
       "    <tr>\n",
       "      <th>12</th>\n",
       "      <td>5.0</td>\n",
       "      <td>pdf_2000_200_mxbai-embe_CriticMiStralInf_QagenMiStralInf_Rerank</td>\n",
       "    </tr>\n",
       "    <tr>\n",
       "      <th>13</th>\n",
       "      <td>1.0</td>\n",
       "      <td>pdf_2000_200_mxbai-embe_CriticMiStralInf_QagenMiStralInf_Rerank</td>\n",
       "    </tr>\n",
       "    <tr>\n",
       "      <th>14</th>\n",
       "      <td>3.0</td>\n",
       "      <td>pdf_2000_200_mxbai-embe_CriticMiStralInf_QagenMiStralInf_Rerank</td>\n",
       "    </tr>\n",
       "    <tr>\n",
       "      <th>15</th>\n",
       "      <td>NaN</td>\n",
       "      <td>pdf_2000_200_mxbai-embe_CriticMiStralInf_QagenMiStralInf_Rerank</td>\n",
       "    </tr>\n",
       "    <tr>\n",
       "      <th>16</th>\n",
       "      <td>5.0</td>\n",
       "      <td>pdf_2000_200_mxbai-embe_CriticMiStralInf_QagenMiStralInf_Rerank</td>\n",
       "    </tr>\n",
       "    <tr>\n",
       "      <th>17</th>\n",
       "      <td>5.0</td>\n",
       "      <td>pdf_2000_200_mxbai-embe_CriticMiStralInf_QagenMiStralInf_Rerank</td>\n",
       "    </tr>\n",
       "    <tr>\n",
       "      <th>18</th>\n",
       "      <td>5.0</td>\n",
       "      <td>pdf_2000_200_mxbai-embe_CriticMiStralInf_QagenMiStralInf_Rerank</td>\n",
       "    </tr>\n",
       "    <tr>\n",
       "      <th>19</th>\n",
       "      <td>5.0</td>\n",
       "      <td>pdf_2000_200_mxbai-embe_CriticMiStralInf_QagenMiStralInf_Rerank</td>\n",
       "    </tr>\n",
       "    <tr>\n",
       "      <th>20</th>\n",
       "      <td>3.0</td>\n",
       "      <td>pdf_2000_200_mxbai-embe_CriticMiStralInf_QagenMiStralInf_Rerank</td>\n",
       "    </tr>\n",
       "    <tr>\n",
       "      <th>21</th>\n",
       "      <td>5.0</td>\n",
       "      <td>pdf_2000_200_mxbai-embe_CriticMiStralInf_QagenMiStralInf_Rerank</td>\n",
       "    </tr>\n",
       "    <tr>\n",
       "      <th>22</th>\n",
       "      <td>NaN</td>\n",
       "      <td>pdf_2000_200_mxbai-embe_CriticMiStralInf_QagenMiStralInf_Rerank</td>\n",
       "    </tr>\n",
       "    <tr>\n",
       "      <th>23</th>\n",
       "      <td>5.0</td>\n",
       "      <td>pdf_2000_200_mxbai-embe_CriticMiStralInf_QagenMiStralInf_Rerank</td>\n",
       "    </tr>\n",
       "    <tr>\n",
       "      <th>24</th>\n",
       "      <td>NaN</td>\n",
       "      <td>pdf_2000_200_mxbai-embe_CriticMiStralInf_QagenMiStralInf_Rerank</td>\n",
       "    </tr>\n",
       "  </tbody>\n",
       "</table>\n",
       "</div>"
      ],
      "text/plain": [
       "    eval_score  \\\n",
       "0          5.0   \n",
       "1          5.0   \n",
       "2          5.0   \n",
       "3          5.0   \n",
       "4          2.0   \n",
       "5          4.0   \n",
       "6          1.0   \n",
       "7          3.0   \n",
       "8          1.0   \n",
       "9          5.0   \n",
       "10         5.0   \n",
       "11         5.0   \n",
       "12         5.0   \n",
       "13         1.0   \n",
       "14         3.0   \n",
       "15         NaN   \n",
       "16         5.0   \n",
       "17         5.0   \n",
       "18         5.0   \n",
       "19         5.0   \n",
       "20         3.0   \n",
       "21         5.0   \n",
       "22         NaN   \n",
       "23         5.0   \n",
       "24         NaN   \n",
       "\n",
       "                                                           settings  \n",
       "0   pdf_2000_200_mxbai-embe_CriticMiStralInf_QagenMiStralInf_Rerank  \n",
       "1   pdf_2000_200_mxbai-embe_CriticMiStralInf_QagenMiStralInf_Rerank  \n",
       "2   pdf_2000_200_mxbai-embe_CriticMiStralInf_QagenMiStralInf_Rerank  \n",
       "3   pdf_2000_200_mxbai-embe_CriticMiStralInf_QagenMiStralInf_Rerank  \n",
       "4   pdf_2000_200_mxbai-embe_CriticMiStralInf_QagenMiStralInf_Rerank  \n",
       "5   pdf_2000_200_mxbai-embe_CriticMiStralInf_QagenMiStralInf_Rerank  \n",
       "6   pdf_2000_200_mxbai-embe_CriticMiStralInf_QagenMiStralInf_Rerank  \n",
       "7   pdf_2000_200_mxbai-embe_CriticMiStralInf_QagenMiStralInf_Rerank  \n",
       "8   pdf_2000_200_mxbai-embe_CriticMiStralInf_QagenMiStralInf_Rerank  \n",
       "9   pdf_2000_200_mxbai-embe_CriticMiStralInf_QagenMiStralInf_Rerank  \n",
       "10  pdf_2000_200_mxbai-embe_CriticMiStralInf_QagenMiStralInf_Rerank  \n",
       "11  pdf_2000_200_mxbai-embe_CriticMiStralInf_QagenMiStralInf_Rerank  \n",
       "12  pdf_2000_200_mxbai-embe_CriticMiStralInf_QagenMiStralInf_Rerank  \n",
       "13  pdf_2000_200_mxbai-embe_CriticMiStralInf_QagenMiStralInf_Rerank  \n",
       "14  pdf_2000_200_mxbai-embe_CriticMiStralInf_QagenMiStralInf_Rerank  \n",
       "15  pdf_2000_200_mxbai-embe_CriticMiStralInf_QagenMiStralInf_Rerank  \n",
       "16  pdf_2000_200_mxbai-embe_CriticMiStralInf_QagenMiStralInf_Rerank  \n",
       "17  pdf_2000_200_mxbai-embe_CriticMiStralInf_QagenMiStralInf_Rerank  \n",
       "18  pdf_2000_200_mxbai-embe_CriticMiStralInf_QagenMiStralInf_Rerank  \n",
       "19  pdf_2000_200_mxbai-embe_CriticMiStralInf_QagenMiStralInf_Rerank  \n",
       "20  pdf_2000_200_mxbai-embe_CriticMiStralInf_QagenMiStralInf_Rerank  \n",
       "21  pdf_2000_200_mxbai-embe_CriticMiStralInf_QagenMiStralInf_Rerank  \n",
       "22  pdf_2000_200_mxbai-embe_CriticMiStralInf_QagenMiStralInf_Rerank  \n",
       "23  pdf_2000_200_mxbai-embe_CriticMiStralInf_QagenMiStralInf_Rerank  \n",
       "24  pdf_2000_200_mxbai-embe_CriticMiStralInf_QagenMiStralInf_Rerank  "
      ]
     },
     "execution_count": 1,
     "metadata": {},
     "output_type": "execute_result"
    }
   ],
   "source": [
    "import glob\n",
    "import pandas as pd\n",
    "#outputs = []\n",
    "#RagOverArXiv/data/pdfs_ws_mrkp_test/eval_outputs\n",
    "pdf_files = glob.glob(\"../data/pdfs_ws_mrkp_test/eval_outputs/pdf*.csv\")\n",
    "txt_files = glob.glob(\"../data/pdfs_ws_mrkp_test/eval_outputs/txt*.csv\")\n",
    "all_files = pdf_files+txt_files\n",
    "result = pd.DataFrame()#index=list(all_files.index))\n",
    "for file_path in all_files:\n",
    "    print(file_path)\n",
    "    output = pd.read_csv(file_path)\n",
    "    print(output.shape)\n",
    "    output[\"settings\"] = file_path.split('/')[-1].replace('.csv','')\n",
    "    result = pd.concat([result,output])\n",
    "print(result.shape)\n",
    "pd.set_option('display.max_colwidth',500)\n",
    "result[['eval_score','settings']].head(25)"
   ]
  },
  {
   "cell_type": "code",
   "execution_count": 2,
   "metadata": {},
   "outputs": [
    {
     "data": {
      "text/plain": [
       "Series([], Name: count, dtype: int64)"
      ]
     },
     "execution_count": 2,
     "metadata": {},
     "output_type": "execute_result"
    }
   ],
   "source": [
    "result[result.settings=='pdf_2000_200_mxbai-embe_CriticMiStralInf_QagenMiStralInf_Rerank.csv'].eval_score.value_counts()"
   ]
  },
  {
   "cell_type": "code",
   "execution_count": 3,
   "metadata": {},
   "outputs": [
    {
     "data": {
      "text/html": [
       "<div>\n",
       "<style scoped>\n",
       "    .dataframe tbody tr th:only-of-type {\n",
       "        vertical-align: middle;\n",
       "    }\n",
       "\n",
       "    .dataframe tbody tr th {\n",
       "        vertical-align: top;\n",
       "    }\n",
       "\n",
       "    .dataframe thead th {\n",
       "        text-align: right;\n",
       "    }\n",
       "</style>\n",
       "<table border=\"1\" class=\"dataframe\">\n",
       "  <thead>\n",
       "    <tr style=\"text-align: right;\">\n",
       "      <th></th>\n",
       "      <th>eval_score</th>\n",
       "      <th>settings</th>\n",
       "      <th>eval_feedback</th>\n",
       "    </tr>\n",
       "  </thead>\n",
       "  <tbody>\n",
       "    <tr>\n",
       "      <th>0</th>\n",
       "      <td>5.0</td>\n",
       "      <td>pdf_2000_200_mxbai-embe_CriticMiStralInf_QagenMiStralInf_Rerank</td>\n",
       "      <td>The response correctly identifies the term that penalizes the difference between the action logit and next state value as 2[V(si)−γV(si+1)]|{z}. This is a critical aspect of the loss function J(ℓθ) in equation (6), and its correct identification demonstrates a deep understanding of the topic. So the overall score is 5.\\n\\nSo the score is 5.</td>\n",
       "    </tr>\n",
       "    <tr>\n",
       "      <th>1</th>\n",
       "      <td>5.0</td>\n",
       "      <td>pdf_2000_200_mxbai-embe_CriticMiStralInf_QagenMiStralInf_Rerank</td>\n",
       "      <td>The response accurately explains how the choice of odds ratio over probability ratio affects the stability of preference alignment in a generative model. It correctly identifies the odds ratio as a better choice because it is less discriminatory towards the disfavored response. This response aligns with the reference answer and is completely correct, accurate, and factual. So the overall score is 5.</td>\n",
       "    </tr>\n",
       "  </tbody>\n",
       "</table>\n",
       "</div>"
      ],
      "text/plain": [
       "   eval_score  \\\n",
       "0         5.0   \n",
       "1         5.0   \n",
       "\n",
       "                                                          settings  \\\n",
       "0  pdf_2000_200_mxbai-embe_CriticMiStralInf_QagenMiStralInf_Rerank   \n",
       "1  pdf_2000_200_mxbai-embe_CriticMiStralInf_QagenMiStralInf_Rerank   \n",
       "\n",
       "                                                                                                                                                                                                                                                                                                                                                                                                        eval_feedback  \n",
       "0                                                              The response correctly identifies the term that penalizes the difference between the action logit and next state value as 2[V(si)−γV(si+1)]|{z}. This is a critical aspect of the loss function J(ℓθ) in equation (6), and its correct identification demonstrates a deep understanding of the topic. So the overall score is 5.\\n\\nSo the score is 5.  \n",
       "1  The response accurately explains how the choice of odds ratio over probability ratio affects the stability of preference alignment in a generative model. It correctly identifies the odds ratio as a better choice because it is less discriminatory towards the disfavored response. This response aligns with the reference answer and is completely correct, accurate, and factual. So the overall score is 5.  "
      ]
     },
     "execution_count": 3,
     "metadata": {},
     "output_type": "execute_result"
    }
   ],
   "source": [
    "result.columns\n",
    "result[['eval_score','settings','eval_feedback']].head(2)"
   ]
  },
  {
   "cell_type": "code",
   "execution_count": 4,
   "metadata": {},
   "outputs": [
    {
     "name": "stdout",
     "output_type": "stream",
     "text": [
      "[ 5.  2.  4.  1.  3. nan]\n"
     ]
    }
   ],
   "source": [
    "print(result['eval_score'].unique())"
   ]
  },
  {
   "cell_type": "code",
   "execution_count": 5,
   "metadata": {},
   "outputs": [
    {
     "data": {
      "text/plain": [
       "(731, 16)"
      ]
     },
     "execution_count": 5,
     "metadata": {},
     "output_type": "execute_result"
    }
   ],
   "source": [
    "result.shape"
   ]
  },
  {
   "cell_type": "code",
   "execution_count": 6,
   "metadata": {},
   "outputs": [],
   "source": [
    "result_orig = result.copy()"
   ]
  },
  {
   "cell_type": "code",
   "execution_count": 7,
   "metadata": {},
   "outputs": [],
   "source": [
    "\n",
    "result = result.dropna(subset=['eval_score'])"
   ]
  },
  {
   "cell_type": "code",
   "execution_count": 8,
   "metadata": {},
   "outputs": [
    {
     "data": {
      "text/plain": [
       "False"
      ]
     },
     "execution_count": 8,
     "metadata": {},
     "output_type": "execute_result"
    }
   ],
   "source": [
    "any(result.eval_score.isna())"
   ]
  },
  {
   "cell_type": "code",
   "execution_count": 9,
   "metadata": {},
   "outputs": [],
   "source": [
    "import numpy as np\n",
    "result[\"eval_score\"] = result[\"eval_score\"].apply(\n",
    "    lambda x: x if not pd.isna(x) else 1\n",
    ")\n",
    "result[\"eval_score\"] = 100*(result[\"eval_score\"] - 1) / 4"
   ]
  },
  {
   "cell_type": "code",
   "execution_count": 10,
   "metadata": {},
   "outputs": [
    {
     "data": {
      "text/plain": [
       "0    100.0\n",
       "1    100.0\n",
       "2    100.0\n",
       "3    100.0\n",
       "4     25.0\n",
       "Name: eval_score, dtype: float64"
      ]
     },
     "execution_count": 10,
     "metadata": {},
     "output_type": "execute_result"
    }
   ],
   "source": [
    "result.eval_score.head()"
   ]
  },
  {
   "cell_type": "code",
   "execution_count": 11,
   "metadata": {},
   "outputs": [
    {
     "name": "stderr",
     "output_type": "stream",
     "text": [
      "No artists with labels found to put in legend.  Note that artists whose label start with an underscore are ignored when legend() is called with no argument.\n"
     ]
    },
    {
     "data": {
      "image/png": "[encoded data removed]",
      "text/plain": [
       "<Figure size 1000x600 with 1 Axes>"
      ]
     },
     "metadata": {},
     "output_type": "display_data"
    }
   ],
   "source": [
    "import matplotlib.pyplot as plt\n",
    "plt.style.use('ggplot')\n",
    "\n",
    "# Calculate the average scores and sort them\n",
    "average_scores = result.groupby(\"settings\")[\"eval_score\"].mean().sort_values()\n",
    "average_scores.index = average_scores.index.str.replace('CriticMiStralInf_QagenMiStralInf','Mistral')\n",
    "average_scores.index = average_scores.index.str.replace('CriticMixtral-8x_QagenMixtral-8x','Mixtral')\n",
    "average_scores.index = average_scores.index.str.replace('mxbai-embe_','')\n",
    "\n",
    "color_cycle = plt.rcParams['axes.prop_cycle'].by_key()['color']\n",
    "colors = [color_cycle[1] if label.startswith('txt') else color_cycle[2] for label in average_scores.index]\n",
    "# average_scores.index = average_scores.index.str.replace('txt_','')\n",
    "# average_scores.index = average_scores.index.str.replace('pdf_','')\n",
    "\n",
    "# Create the bar plot\n",
    "plt.figure(figsize=(10, 6))\n",
    "#labels = [f\"{name.split('_')[0]}_{name.split('_')[1]}_{name.split('_')[-1].split('.')[0]}\" for name in average_scores.index]\n",
    "#plt.bar(labels, average_scores.values,color=color_cycle[1:3])\n",
    "plt.bar(average_scores.index, average_scores.values,color=colors)\n",
    "\n",
    "# Set the plot title and labels\n",
    "plt.title(\"Average Evaluation Score by Configuration\", fontsize=15)\n",
    "plt.xlabel(\"Evaluated Configuration\", fontsize=12)\n",
    "#plt.xlabel(\"Additional description\", fontsize=10, loc='center')\n",
    "plt.figtext(0.51, -0.35, \"(txtOrPdf_chunkSize_chunkOverlap_evalAndReaderModel_rerankOrNotr)\", ha=\"center\", fontsize=10)\n",
    "#plt.text(0.51, -0.4, \"Description text\", fontsize=10, ha='center', va='center', bbox=dict(facecolor='none', edgecolor='black', boxstyle='round,pad=1'))\n",
    "plt.ylabel(\"Average Evaluation Score (%)\", fontsize=12)\n",
    "\n",
    "# Rotate the x-axis labels if they overlap\n",
    "plt.xticks(rotation=90)\n",
    "plt.yticks(range(0,int(average_scores.max())+10,10))\n",
    "plt.legend()\n",
    "# Show the plot\n",
    "# Add markers on top of the bars\n",
    "# Create the bar plot\n",
    "# plt.figure(figsize=(10, 6))\n",
    "bars = plt.bar(average_scores.index, average_scores.values, color=colors)\n",
    "\n",
    "for bar, label in zip(bars, average_scores.index):\n",
    "    if 'Mistral' in label:\n",
    "        plt.scatter(bar.get_x() + bar.get_width() / 2, bar.get_height(), marker='o', color='black')\n",
    "    elif 'Mixtral' in label:\n",
    "        plt.scatter(bar.get_x() + bar.get_width() / 2, bar.get_height(), marker='x', color='black')\n",
    "\n",
    "import matplotlib.patches as mpatches\n",
    "\n",
    "# Create legend handles manually\n",
    "txt_patch = mpatches.Patch(color=color_cycle[1], label='txt')\n",
    "pdf_patch = mpatches.Patch(color=color_cycle[2], label='pdf')\n",
    "# mistral_patch = mpatches.Patch(marker='o', label='mistral')\n",
    "# mixtral_patch = mpatches.Patch(marker='x', label='mixtral')\n",
    "from matplotlib.lines import Line2D\n",
    "\n",
    "o_marker = Line2D([], [], marker='o', color='black', label='Mistral', markersize=8,linestyle='None')\n",
    "x_marker = Line2D([0], [0], marker='x', color='black', label='Mixtral', markersize=8,linestyle='None')\n",
    "\n",
    "# Add the legend to the plot\n",
    "#plt.legend(handles=[txt_patch, pdf_patch])\n",
    "plt.legend(handles=[o_marker, x_marker, txt_patch, pdf_patch])\n",
    "plt.savefig('../assets/eval_scores.png')\n",
    "plt.show()"
   ]
  },
  {
   "cell_type": "code",
   "execution_count": 12,
   "metadata": {},
   "outputs": [],
   "source": [
    "# Add a new column 'id' that contains a unique identifier for each row\n",
    "result['id'] = range(len(result))\n",
    "\n",
    "# Create the eval_scores Series\n",
    "eval_scores = pd.Series(result[\"eval_score\"].values, index=result[\"id\"])"
   ]
  },
  {
   "cell_type": "code",
   "execution_count": 13,
   "metadata": {},
   "outputs": [
    {
     "data": {
      "text/plain": [
       "settings\n",
       "txt_2000_200_Mistral_NoRerank    55.514706\n",
       "pdf_2000_200_Mistral_NoRerank    56.060606\n",
       "txt_2000_200_Mistral_Rerank      64.682540\n",
       "pdf_2000_200_Mistral_Rerank      67.910448\n",
       "txt_1000_200_Mixtral_NoRerank    72.083333\n",
       "pdf_4000_200_Mixtral_NoRerank    80.102041\n",
       "txt_2000_200_Mixtral_NoRerank    83.035714\n",
       "txt_4000_200_Mixtral_NoRerank    84.905660\n",
       "pdf_2000_200_Mixtral_Rerank      85.000000\n",
       "pdf_1500_200_Mixtral_NoRerank    85.714286\n",
       "pdf_1000_200_Mixtral_NoRerank    89.772727\n",
       "Name: eval_score, dtype: float64"
      ]
     },
     "execution_count": 13,
     "metadata": {},
     "output_type": "execute_result"
    }
   ],
   "source": [
    "average_scores"
   ]
  }
 ],
 "metadata": {
  "kernelspec": {
   "display_name": "dl",
   "language": "python",
   "name": "python3"
  },
  "language_info": {
   "codemirror_mode": {
    "name": "ipython",
    "version": 3
   },
   "file_extension": ".py",
   "mimetype": "text/x-python",
   "name": "python",
   "nbconvert_exporter": "python",
   "pygments_lexer": "ipython3",
   "version": "3.12.2"
  }
 },
 "nbformat": 4,
 "nbformat_minor": 2
}
