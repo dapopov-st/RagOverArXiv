{
  "cells": [
    {
      "cell_type": "code",
      "execution_count": 1,
      "metadata": {
        "id": "oIlNZ1Mn9jVL"
      },
      "outputs": [],
      "source": [
        "from tqdm.auto import tqdm\n",
        "import pandas as pd\n",
        "from typing import Optional, List, Tuple\n",
        "import json\n",
        "import datasets\n",
        "\n",
        "pd.set_option(\"display.max_colwidth\", None)"
      ]
    },
    {
      "cell_type": "code",
      "execution_count": 44,
      "metadata": {},
      "outputs": [],
      "source": [
        "from langchain.text_splitter import RecursiveCharacterTextSplitter\n",
        "from langchain.docstore.document import Document\n",
        "from langchain_community.vectorstores import FAISS "
      ]
    },
    {
      "cell_type": "code",
      "execution_count": 3,
      "metadata": {},
      "outputs": [],
      "source": [
        "import sys, os\n",
        "#sys.path.append(os.path.dirname(os.path.dirname(os.path.abspath(__file__))))\n",
        "# Get the current working directory\n",
        "cwd = os.getcwd()\n",
        "\n",
        "# Add the parent directory to the system path\n",
        "sys.path.append(os.path.dirname(cwd))\n",
        "from scripts import utils"
      ]
    },
    {
      "cell_type": "code",
      "execution_count": 4,
      "metadata": {},
      "outputs": [
        {
          "data": {
            "text/plain": [
              "('2305.18290_cleaned.txt', 6)"
            ]
          },
          "execution_count": 4,
          "metadata": {},
          "output_type": "execute_result"
        }
      ],
      "source": [
        "import os\n",
        "from pathlib import Path\n",
        "MARKUPS_EXISTING = os.listdir('../markups_existing')\n",
        "MARKUPS_EXISTING[0], len(MARKUPS_EXISTING)"
      ]
    },
    {
      "cell_type": "code",
      "execution_count": 5,
      "metadata": {},
      "outputs": [
        {
          "data": {
            "text/plain": [
              "['2305.18290_cleaned.txt',\n",
              " '2308.07922_cleaned.txt',\n",
              " '2402.01306_cleaned.txt',\n",
              " '2306.11644_cleaned.txt',\n",
              " '2310.11511_cleaned.txt',\n",
              " '2402.09668_cleaned.txt']"
            ]
          },
          "execution_count": 5,
          "metadata": {},
          "output_type": "execute_result"
        }
      ],
      "source": [
        "os.listdir('../markups_existing')"
      ]
    },
    {
      "cell_type": "code",
      "execution_count": 14,
      "metadata": {},
      "outputs": [
        {
          "data": {
            "text/plain": [
              "'../markups_existing/2305.18290_cleaned.txt'"
            ]
          },
          "execution_count": 14,
          "metadata": {},
          "output_type": "execute_result"
        }
      ],
      "source": [
        "os.path.join('../markups_existing', MARKUPS_EXISTING[0])"
      ]
    },
    {
      "cell_type": "code",
      "execution_count": 6,
      "metadata": {},
      "outputs": [
        {
          "data": {
            "text/plain": [
              "'2305.18290'"
            ]
          },
          "execution_count": 6,
          "metadata": {},
          "output_type": "execute_result"
        }
      ],
      "source": [
        "MARKUPS_EXISTING[0].split('_')[0]"
      ]
    },
    {
      "cell_type": "code",
      "execution_count": 13,
      "metadata": {},
      "outputs": [
        {
          "data": {
            "text/plain": [
              "'RAVEN: In-Context Learning with Retrieval-Augmented Encoder-Decoder  Language Models'"
            ]
          },
          "execution_count": 13,
          "metadata": {},
          "output_type": "execute_result"
        }
      ],
      "source": [
        "utils.get_title(MARKUPS_EXISTING[1].split('_')[0])"
      ]
    },
    {
      "cell_type": "code",
      "execution_count": 58,
      "metadata": {},
      "outputs": [],
      "source": [
        "\n",
        "CHUNK_SIZE = 2000 #try 2000 next\n",
        "CHUNK_OVERLAP = 200 #try 200 next\n",
        "    \n",
        "text_splitter = RecursiveCharacterTextSplitter(\n",
        "    chunk_size=CHUNK_SIZE,\n",
        "    chunk_overlap = CHUNK_OVERLAP,\n",
        "    length_function=len,\n",
        ")\n",
        "all_docs,all_titles=[],[]\n",
        "for MARKUP in MARKUPS_EXISTING:\n",
        "    with open(os.path.join('../markups_existing', MARKUP)) as f:\n",
        "        text = f.read()\n",
        "        all_docs.append(text)\n",
        "        all_titles.append(utils.get_title(MARKUP.split('_')[0]))\n",
        "# with open(os.path.join('../markups_existing', MARKUPS_EXISTING[0])) as f:\n",
        "#     text = f.read()\n",
        "#     text_splitter.create_document(text)\n",
        "\n",
        "docs_processed  = [text_splitter.split_documents([Document(page_content=doc, metadata={'title':all_titles[idx]})]) \n",
        "         for idx,doc in enumerate(all_docs)]\n",
        "# docs_processed  = [text_splitter.split_documents([Document(page_content=doc)]) \n",
        "#          for idx,doc in enumerate(all_docs)]\n"
      ]
    },
    {
      "cell_type": "markdown",
      "metadata": {},
      "source": [
        "- Note: There seems to be a bug (?) or at least unusual behavior when Document is processed with metadata and without.  Without metadata, returns a list of chunked docs (len of 700!), with metadata returns a nested list of 6."
      ]
    },
    {
      "cell_type": "code",
      "execution_count": 63,
      "metadata": {},
      "outputs": [
        {
          "data": {
            "text/plain": [
              "6"
            ]
          },
          "execution_count": 63,
          "metadata": {},
          "output_type": "execute_result"
        }
      ],
      "source": [
        "len(docs_processed)"
      ]
    },
    {
      "cell_type": "code",
      "execution_count": 66,
      "metadata": {},
      "outputs": [
        {
          "data": {
            "text/plain": [
              "['Abstract\\nWhile large-scale unsupervised language models (LMs) learn broad world knowledge and some reasoning skills, achieving precise control of their behavior is difficult due to the completely unsupervised nature of their training.\\nExisting methods for gaining such steerability collect human labels of the relative quality of model generations and fine-tune the unsupervised LM to align with these preferences, often with reinforcement learning from human feedback (RLHF).\\nHowever, RLHF is a complex and often unstable procedure, first fitting a reward model that reflects the human preferences, and then fine-tuning the large unsupervised LM using reinforcement learning to maximize this estimated reward without drifting too far from the original model.\\nIn this paper we introduce a new parameterization of the reward model in RLHF that enables extraction of the corresponding optimal policy in closed form, allowing us to solve the standard RLHF problem with only a simple classification loss.\\nThe resulting algorithm, which we call Direct Preference Optimization (DPO), is stable, performant, and computationally lightweight, eliminating the need for  sampling from the LM during fine-tuning or performing significant hyperparameter tuning.\\nOur experiments show that DPO can fine-tune LMs to align with human preferences as well as or better than existing methods. Notably, fine-tuning with DPO exceeds PPO-based RLHF in ability to control sentiment of generations, and matches or improves response quality in summarization and single-turn dialogue while being substantially simpler to implement and train.\\n1 Introduction\\nLarge unsupervised language models (LMs) trained on very large datasets',\n",
              " '1 Introduction\\nLarge unsupervised language models (LMs) trained on very large datasets\\nacquire surprising capabilities\\xa0(Chowdhery et\\xa0al., 2022; Brown et\\xa0al., 2020b; Touvron et\\xa0al., 2023; Bubeck et\\xa0al., 2023). However, these models are trained on data generated by humans with a wide variety of goals, priorities, and skillsets. Some of these goals and skillsets may not be desirable to imitate; for example, while we may want our AI coding assistant to understand common programming mistakes in order to correct them, nevertheless, when generating code, we would like to bias our model toward the (potentially rare) high-quality coding ability present in its training data. Similarly, we might want our language model to be aware of a common misconception believed by 50% of people, but we certainly do not want the model to claim this misconception to be true in 50% of queries about it! In other words, selecting the model’s desired responses and behavior from its very wide knowledge and abilities is crucial to building AI systems that are safe, performant, and controllable (Ouyang et\\xa0al., 2022). While existing methods typically steer LMs to match human preferences using reinforcement learning (RL), we will show that the RL-based objective used by existing methods can be optimized exactly with a simple binary cross-entropy objective, greatly simplifying the preference learning pipeline.\\nFigure 1: DPO optimizes for human preferences while avoiding reinforcement learning. Existing methods for fine-tuning language models with human feedback first fit a reward model to a dataset of prompts and human preferences over pairs of responses, and then use RL to find a policy that maximizes the learned reward. In contrast, DPO directly optimizes for the policy best satisfying the preferences with a simple classification objective, fitting an implicit reward model whose corresponding optimal policy can be extracted in closed form.',\n",
              " 'At a high level, existing methods instill the desired behaviors into a language model using curated sets of human preferences representing the types of behaviors that humans find safe and helpful. This preference learning stage occurs after an initial stage of large-scale unsupervised pre-training on a large text dataset. While the most straightforward approach to preference learning is supervised fine-tuning on human demonstrations of high quality responses, the most successful class of methods is reinforcement learning from human (or AI) feedback (RLHF/RLAIF; (Christiano et\\xa0al., 2017; Bai et\\xa0al., 2022b)). RLHF methods fit a reward model to a dataset of human preferences and then use RL to optimize a language model policy to produce responses assigned high reward without drifting excessively far from the original model. While RLHF produces models with impressive conversational and coding abilities, the RLHF pipeline is considerably more complex than supervised learning, involving training multiple LMs and sampling from the LM policy in the loop of training, incurring significant computational costs.\\nIn this paper, we show how to directly optimize a language model to adhere to human preferences, without explicit reward modeling or reinforcement learning.\\nWe propose',\n",
              " 'In this paper, we show how to directly optimize a language model to adhere to human preferences, without explicit reward modeling or reinforcement learning.\\nWe propose\\nDirect Preference Optimization (DPO), an algorithm that implicitly optimizes the same objective as existing RLHF algorithms (reward maximization with a KL-divergence constraint) but is simple to implement and straightforward to train. Intuitively, the DPO update increases the relative log probability of preferred to dispreferred responses, but it incorporates a dynamic, per-example importance weight that prevents the model degeneration that we find occurs with a naive probability ratio objective. Like existing algorithms, DPO relies on a theoretical preference model (such as the Bradley-Terry model; Bradley and Terry (1952)) that measures how well a given reward function aligns with empirical preference data. However, while existing methods use the preference model to define a preference loss to train a reward model and then train a policy that optimizes the learned reward model, DPO uses a change of variables to define the preference loss as a function of the policy directly. Given a dataset of human preferences over model responses, DPO can therefore optimize a policy using a simple binary cross entropy objective, producing the optimal policy to an implicit reward function fit to the preference data.\\nOur main contribution is Direct Preference Optimization (DPO), a simple RL-free algorithm for training language models from preferences. Our experiments show that DPO is at least as effective as existing methods, including PPO-based RLHF, for learning from preferences in tasks such as sentiment modulation, summarization, and dialogue, using language models with up to 6B parameters.\\n2 Related Work',\n",
              " '2 Related Work\\nSelf-supervised language models of increasing scale learn to complete some tasks zero-shot (Radford et\\xa0al., 2019) or with few-shot prompts (Brown et\\xa0al., 2020a; Narayanan et\\xa0al., 2021; Chowdhery et\\xa0al., 2022). However, their performance on downstream tasks and alignment with user intent can be significantly improved by fine-tuning on datasets of instructions and human-written completions (Mishra et\\xa0al., 2022; Sanh et\\xa0al., 2022; Chung et\\xa0al., 2022; Thoppilan et\\xa0al., 2022). This ‘instruction-tuning’ procedure',\n",
              " 'enables LLMs to generalize to instructions outside of the instruction-tuning set and generally increase their usability (Chung et\\xa0al., 2022). Despite the success of instruction tuning, relative human judgments of response quality are often easier to collect than expert demonstrations, and thus subsequent works have fine-tuned LLMs with datasets of human preferences, improving proficiency in translation (Kreutzer et\\xa0al., 2018), summarization (Stiennon et\\xa0al., 2022; Ziegler et\\xa0al., 2020), story-telling (Ziegler et\\xa0al., 2020), and instruction-following (Ouyang et\\xa0al., 2022; Ramamurthy et\\xa0al., 2023). These methods first optimize a neural network reward function for compatibility with the dataset of preferences under a preference model such as the Bradley-Terry model (Bradley and Terry, 1952), then fine-tune a language model to maximize the given reward using reinforcement learning algorithms, commonly REINFORCE (Williams, 1992), proximal policy optimization (PPO; Schulman et\\xa0al. (2017)), or variants (Ramamurthy et\\xa0al., 2023). A closely-related line of work leverages LLMs fine-tuned for instruction following with human feedback to generate additional synthetic preference data for targeted attributes such as safety or harmlessness (Bai et\\xa0al., 2022b), using only weak supervision from humans in the form of a text rubric for the LLM’s annotations. These methods represent a convergence of two bodies of work: one body of work on training language models with reinforcement learning for a variety of objectives\\xa0(Ranzato et\\xa0al., 2015; Paulus et\\xa0al., 2018; Wu and Hu, 2018) and another body of work on general methods for learning from human preferences (Christiano et\\xa0al., 2017; Kupcsik et\\xa0al., 2018).\\nDespite the appeal of using relative human preferences, fine-tuning large language models with reinforcement learning remains a major practical challenge; this work provides a theoretically-justified approach to optimizing relative preferences without RL.',\n",
              " 'Outside of the context of language, learning policies from preferences has been studied in both bandit and reinforcement learning settings, and several approaches have been proposed. Contextual bandit learning using preferences or rankings of actions, rather than rewards, is known as a contextual dueling bandit (CDB; Yue et\\xa0al. (2012); Dudík et\\xa0al. (2015)). In the absence of absolute rewards, theoretical analysis of CDBs substitutes the notion of an optimal policy with a von Neumann winner, a policy whose expected win rate against any other policy is at least 50% (Dudík et\\xa0al., 2015). However, in the CDB setting, preference labels are given online, while in learning from human preferences, we typically learn from a fixed batch of offline preference-annotated action pairs (Yan et\\xa0al., 2022). Similarly, preference-based RL (PbRL) learns from binary preferences generated by an unknown ‘scoring’ function rather than rewards (Busa-Fekete et\\xa0al., 2014; Saha et\\xa0al., 2023). Various algorithms for PbRL exist, including methods that can reuse off-policy preference data, but generally involve first explicitly estimating the latent scoring function (i.e. the reward model) and subsequently optimizing it (Jain et\\xa0al., 2013; Busa-Fekete et\\xa0al., 2014; Christiano et\\xa0al., 2017; Sadigh et\\xa0al., 2017; Kupcsik et\\xa0al., 2018). We instead present a single stage policy learning approach that directly optimizes a policy to satisfy preferences.\\n3 Preliminaries\\nWe review the RLHF pipeline in Ziegler et\\xa0al. (and later (Stiennon et\\xa0al., 2022; Bai et\\xa0al., 2022a; Ouyang et\\xa0al., 2022)). It usually includes three phases: 1) supervised fine-tuning (SFT); 2) preference sampling and reward learning and 3) RL optimization.\\nSFT: RLHF typically begins by fine-tuning a pre-trained LM with supervised learning on high-quality data for the downstream task(s) of interest (dialogue, summarization, etc.), to obtain a model πSFTsuperscript𝜋SFT\\\\pi^{\\\\text{SFT}}italic_π start_POSTSUPERSCRIPT SFT end_POSTSUPERSCRIPT.',\n",
              " 'Reward Modelling Phase: In the second phase the SFT model is prompted with prompts x𝑥xitalic_x to produce pairs of answers (y1,y2)∼πSFT\\u2062(y∣x)similar-tosubscript𝑦1subscript𝑦2superscript𝜋SFTconditional𝑦𝑥(y_{1},y_{2})\\\\sim\\\\pi^{\\\\text{SFT}}(y\\\\mid x)( italic_y start_POSTSUBSCRIPT 1 end_POSTSUBSCRIPT , italic_y start_POSTSUBSCRIPT 2 end_POSTSUBSCRIPT ) ∼ italic_π start_POSTSUPERSCRIPT SFT end_POSTSUPERSCRIPT ( italic_y ∣ italic_x ). These are then presented to human labelers who express preferences for one answer, denoted as yw≻yl∣xsucceedssubscript𝑦𝑤conditionalsubscript𝑦𝑙𝑥y_{w}\\\\succ y_{l}\\\\mid xitalic_y start_POSTSUBSCRIPT italic_w end_POSTSUBSCRIPT ≻ italic_y start_POSTSUBSCRIPT italic_l end_POSTSUBSCRIPT ∣ italic_x where ywsubscript𝑦𝑤y_{w}italic_y start_POSTSUBSCRIPT italic_w end_POSTSUBSCRIPT and ylsubscript𝑦𝑙y_{l}italic_y start_POSTSUBSCRIPT italic_l end_POSTSUBSCRIPT denotes the preferred and dispreferred completion amongst (y1,y2)subscript𝑦1subscript𝑦2(y_{1},y_{2})( italic_y start_POSTSUBSCRIPT 1 end_POSTSUBSCRIPT , italic_y start_POSTSUBSCRIPT 2 end_POSTSUBSCRIPT ) respectively. The preferences are assumed to be generated by some latent reward model r*\\u2062(y,x)superscript𝑟𝑦𝑥r^{*}(y,x)italic_r start_POSTSUPERSCRIPT * end_POSTSUPERSCRIPT ( italic_y , italic_x ), which we do not have access to. There are a number of approaches used to model preferences, the Bradley-Terry (BT) Bradley and Terry (1952) model being a popular choice (although more general Plackett-Luce ranking models (Plackett, 1975; Luce, 2012) are also compatible with the framework if we have access to several ranked answers). The BT model stipulates that the human preference distribution p*superscript𝑝p^{*}italic_p start_POSTSUPERSCRIPT * end_POSTSUPERSCRIPT can be written as:',\n",
              " 'p*\\u2062(y1≻y2∣x)=exp\\u2061(r*\\u2062(x,y1))exp\\u2061(r*\\u2062(x,y1))+exp\\u2061(r*\\u2062(x,y2)).superscript𝑝succeedssubscript𝑦1conditionalsubscript𝑦2𝑥superscript𝑟𝑥subscript𝑦1superscript𝑟𝑥subscript𝑦1superscript𝑟𝑥subscript𝑦2p^{*}(y_{1}\\\\succ y_{2}\\\\mid x)=\\\\frac{\\\\exp\\\\left(r^{*}(x,y_{1})\\\\right)}{\\\\exp\\\\left%\\n(r^{*}(x,y_{1})\\\\right)+\\\\exp\\\\left(r^{*}(x,y_{2})\\\\right)}.italic_p start_POSTSUPERSCRIPT * end_POSTSUPERSCRIPT ( italic_y start_POSTSUBSCRIPT 1 end_POSTSUBSCRIPT ≻ italic_y start_POSTSUBSCRIPT 2 end_POSTSUBSCRIPT ∣ italic_x ) = divide start_ARG roman_exp ( italic_r start_POSTSUPERSCRIPT * end_POSTSUPERSCRIPT ( italic_x , italic_y start_POSTSUBSCRIPT 1 end_POSTSUBSCRIPT ) ) end_ARG start_ARG roman_exp ( italic_r start_POSTSUPERSCRIPT * end_POSTSUPERSCRIPT ( italic_x , italic_y start_POSTSUBSCRIPT 1 end_POSTSUBSCRIPT ) ) + roman_exp ( italic_r start_POSTSUPERSCRIPT * end_POSTSUPERSCRIPT ( italic_x , italic_y start_POSTSUBSCRIPT 2 end_POSTSUBSCRIPT ) ) end_ARG .\\n(1)\\nAssuming access to a static dataset of comparisons 𝒟={x(i),yw(i),yl(i)}i=1N𝒟superscriptsubscriptsuperscript𝑥𝑖superscriptsubscript𝑦𝑤𝑖superscriptsubscript𝑦𝑙𝑖𝑖1𝑁\\\\mathcal{D}=\\\\bigl{\\\\{}x^{(i)},y_{w}^{(i)},y_{l}^{(i)}\\\\bigr{\\\\}}_{i=1}^{N}caligraphic_D = { italic_x start_POSTSUPERSCRIPT ( italic_i ) end_POSTSUPERSCRIPT , italic_y start_POSTSUBSCRIPT italic_w end_POSTSUBSCRIPT start_POSTSUPERSCRIPT ( italic_i ) end_POSTSUPERSCRIPT , italic_y start_POSTSUBSCRIPT italic_l end_POSTSUBSCRIPT start_POSTSUPERSCRIPT ( italic_i ) end_POSTSUPERSCRIPT } start_POSTSUBSCRIPT italic_i = 1 end_POSTSUBSCRIPT start_POSTSUPERSCRIPT italic_N end_POSTSUPERSCRIPT sampled from p*superscript𝑝p^{*}italic_p start_POSTSUPERSCRIPT * end_POSTSUPERSCRIPT, we can parametrize a reward model rϕ\\u2062(x,y)subscript𝑟italic-ϕ𝑥𝑦r_{\\\\phi}(x,y)italic_r start_POSTSUBSCRIPT italic_ϕ end_POSTSUBSCRIPT ( italic_x , italic_y ) and estimate the parameters via maximum likelihood. Framing the problem as a binary classification we have the negative log-likelihood loss:',\n",
              " 'ℒR\\u2062(rϕ,𝒟)=−𝔼(x,yw,yl)∼𝒟\\u2062[log\\u2061σ\\u2062(rϕ\\u2062(x,yw)−rϕ\\u2062(x,yl))]subscriptℒ𝑅subscript𝑟italic-ϕ𝒟subscript𝔼similar-to𝑥subscript𝑦𝑤subscript𝑦𝑙𝒟delimited-[]𝜎subscript𝑟italic-ϕ𝑥subscript𝑦𝑤subscript𝑟italic-ϕ𝑥subscript𝑦𝑙\\\\mathcal{L}_{R}(r_{\\\\phi},\\\\mathcal{D})=-\\\\mathbb{E}_{(x,y_{w},y_{l})\\\\sim\\\\mathcal%\\n{D}}\\\\bigl{[}\\\\log\\\\sigma(r_{\\\\phi}(x,y_{w})-r_{\\\\phi}(x,y_{l}))\\\\bigr{]}caligraphic_L start_POSTSUBSCRIPT italic_R end_POSTSUBSCRIPT ( italic_r start_POSTSUBSCRIPT italic_ϕ end_POSTSUBSCRIPT , caligraphic_D ) = - blackboard_E start_POSTSUBSCRIPT ( italic_x , italic_y start_POSTSUBSCRIPT italic_w end_POSTSUBSCRIPT , italic_y start_POSTSUBSCRIPT italic_l end_POSTSUBSCRIPT ) ∼ caligraphic_D end_POSTSUBSCRIPT [ roman_log italic_σ ( italic_r start_POSTSUBSCRIPT italic_ϕ end_POSTSUBSCRIPT ( italic_x , italic_y start_POSTSUBSCRIPT italic_w end_POSTSUBSCRIPT ) - italic_r start_POSTSUBSCRIPT italic_ϕ end_POSTSUBSCRIPT ( italic_x , italic_y start_POSTSUBSCRIPT italic_l end_POSTSUBSCRIPT ) ) ]\\n(2)\\nwhere σ𝜎\\\\sigmaitalic_σ is the logistic function. In the context of LMs, the network rϕ\\u2062(x,y)subscript𝑟italic-ϕ𝑥𝑦r_{\\\\phi}(x,y)italic_r start_POSTSUBSCRIPT italic_ϕ end_POSTSUBSCRIPT ( italic_x , italic_y ) is often initialized from the SFT model πSFT\\u2062(y∣x)superscript𝜋SFTconditional𝑦𝑥\\\\pi^{\\\\text{SFT}}(y\\\\mid x)italic_π start_POSTSUPERSCRIPT SFT end_POSTSUPERSCRIPT ( italic_y ∣ italic_x ) with the addition of a linear layer on top of the final transformer layer that produces a single scalar prediction for the reward value Ziegler et\\xa0al. (2020). To ensure a reward function with lower variance, prior works normalize the rewards, such that 𝔼x,y∼𝒟\\u2062[rϕ\\u2062(x,y)]=0subscript𝔼similar-to𝑥𝑦𝒟delimited-[]subscript𝑟italic-ϕ𝑥𝑦0\\\\mathbb{E}_{x,y\\\\sim\\\\mathcal{D}}\\\\left[r_{\\\\phi}(x,y)\\\\right]=0blackboard_E start_POSTSUBSCRIPT italic_x , italic_y ∼ caligraphic_D end_POSTSUBSCRIPT [ italic_r start_POSTSUBSCRIPT italic_ϕ end_POSTSUBSCRIPT ( italic_x , italic_y ) ] = 0 for all x𝑥xitalic_x.',\n",
              " 'RL Fine-Tuning Phase: During the RL phase, we use the learned reward function to provide feedback to the language model. In particular, we formulate the following optimization problem\\nmaxπθ𝔼x∼𝒟,y∼πθ\\u2062(y∣x)[rϕ(x,y)]−β𝔻KL[πθ(y∣x)∣∣πref(y∣x)]\\\\max_{\\\\pi_{\\\\theta}}\\\\mathbb{E}_{x\\\\sim\\\\mathcal{D},y\\\\sim\\\\pi_{\\\\theta}(y\\\\mid x)}%\\n\\\\bigl{[}r_{\\\\phi}(x,y)\\\\bigr{]}-\\\\beta\\\\mathbb{D}_{\\\\textrm{KL}}\\\\bigl{[}\\\\pi_{\\\\theta%\\n}(y\\\\mid x)\\\\mid\\\\mid\\\\pi_{\\\\text{ref}}(y\\\\mid x)\\\\bigr{]}roman_max start_POSTSUBSCRIPT italic_π start_POSTSUBSCRIPT italic_θ end_POSTSUBSCRIPT end_POSTSUBSCRIPT blackboard_E start_POSTSUBSCRIPT italic_x ∼ caligraphic_D , italic_y ∼ italic_π start_POSTSUBSCRIPT italic_θ end_POSTSUBSCRIPT ( italic_y ∣ italic_x ) end_POSTSUBSCRIPT [ italic_r start_POSTSUBSCRIPT italic_ϕ end_POSTSUBSCRIPT ( italic_x , italic_y ) ] - italic_β blackboard_D start_POSTSUBSCRIPT KL end_POSTSUBSCRIPT [ italic_π start_POSTSUBSCRIPT italic_θ end_POSTSUBSCRIPT ( italic_y ∣ italic_x ) ∣ ∣ italic_π start_POSTSUBSCRIPT ref end_POSTSUBSCRIPT ( italic_y ∣ italic_x ) ]\\n(3)\\nwhere β𝛽\\\\betaitalic_β is a parameter controlling the deviation from the base reference policy πrefsubscript𝜋ref\\\\pi_{\\\\text{ref}}italic_π start_POSTSUBSCRIPT ref end_POSTSUBSCRIPT, namely the initial SFT model πSFTsuperscript𝜋SFT\\\\pi^{\\\\text{SFT}}italic_π start_POSTSUPERSCRIPT SFT end_POSTSUPERSCRIPT.',\n",
              " 'In practice, the language model policy πθsubscript𝜋𝜃\\\\pi_{\\\\theta}italic_π start_POSTSUBSCRIPT italic_θ end_POSTSUBSCRIPT is also initialized to πSFTsuperscript𝜋SFT\\\\pi^{\\\\text{SFT}}italic_π start_POSTSUPERSCRIPT SFT end_POSTSUPERSCRIPT. The added constraint is important, as it prevents the model from deviating too far from the distribution on which the reward model is accurate, as well as maintaining the generation diversity and preventing mode-collapse to single high-reward answers. Due to the discrete nature of language generation, this objective is not differentiable and is typically optimized with reinforcement learning. The standard approach (Ziegler et\\xa0al., 2020; Stiennon et\\xa0al., 2022; Bai et\\xa0al., 2022a; Ouyang et\\xa0al., 2022) has been to construct the reward function r\\u2062(x,y)=rϕ\\u2062(x,y)−β\\u2062(log\\u2061πθ\\u2062(y∣x)−log\\u2061πref\\u2062(y∣x))𝑟𝑥𝑦subscript𝑟italic-ϕ𝑥𝑦𝛽subscript𝜋𝜃conditional𝑦𝑥subscript𝜋refconditional𝑦𝑥{r(x,y)=r_{\\\\phi}(x,y)-\\\\beta(\\\\log\\\\pi_{\\\\theta}(y\\\\mid x)-\\\\log\\\\pi_{\\\\text{ref}}(y%\\n\\\\mid x))}italic_r ( italic_x , italic_y ) = italic_r start_POSTSUBSCRIPT italic_ϕ end_POSTSUBSCRIPT ( italic_x , italic_y ) - italic_β ( roman_log italic_π start_POSTSUBSCRIPT italic_θ end_POSTSUBSCRIPT ( italic_y ∣ italic_x ) - roman_log italic_π start_POSTSUBSCRIPT ref end_POSTSUBSCRIPT ( italic_y ∣ italic_x ) ), and maximize using PPO Schulman et\\xa0al. (2017).\\n4 Direct Preference Optimization\\nMotivated by the challenges of applying reinforcement learning algorithms on large-scale problems such as fine-tuning language models, our goal is to derive a simple approach for policy optimization using preferences directly. Unlike prior RLHF methods, which learn a reward and then optimize it via RL, our approach leverages a particular choice of reward model parameterization that enables extraction of its optimal policy in closed form, without an RL training loop.',\n",
              " 'As we will describe next in detail, our key insight is to leverage an analytical mapping from reward functions to optimal policies, which enables us to transform a loss function over reward functions into a loss function over policies.\\nThis change-of-variables approach avoids fitting an explicit, standalone reward model, while still optimizing under existing models of human preferences, such as the Bradley-Terry model. In essence, the policy network represents both the language model and the (implicit) reward.\\nDeriving the DPO objective. We start with the same RL objective as prior work, Eq.\\xa03, under a general reward function r𝑟ritalic_r. Following prior work\\xa0(Peters and Schaal, 2007; Peng et\\xa0al., 2019; Korbak et\\xa0al., 2022; Go et\\xa0al., 2023), it is straightforward to show that the optimal solution to the KL-constrained reward maximization objective in Eq.\\xa03 takes the form:\\nπr\\u2062(y∣x)=1Z\\u2062(x)\\u2062πref\\u2062(y∣x)\\u2062exp\\u2061(1β\\u2062r\\u2062(x,y)),subscript𝜋𝑟conditional𝑦𝑥1𝑍𝑥subscript𝜋refconditional𝑦𝑥1𝛽𝑟𝑥𝑦\\\\pi_{r}(y\\\\mid x)=\\\\frac{1}{Z(x)}\\\\pi_{\\\\text{ref}}(y\\\\mid x)\\\\exp\\\\left(\\\\frac{1}{%\\n\\\\beta}r(x,y)\\\\right),italic_π start_POSTSUBSCRIPT italic_r end_POSTSUBSCRIPT ( italic_y ∣ italic_x ) = divide start_ARG 1 end_ARG start_ARG italic_Z ( italic_x ) end_ARG italic_π start_POSTSUBSCRIPT ref end_POSTSUBSCRIPT ( italic_y ∣ italic_x ) roman_exp ( divide start_ARG 1 end_ARG start_ARG italic_β end_ARG italic_r ( italic_x , italic_y ) ) ,\\n(4)',\n",
              " '(4)\\nwhere Z\\u2062(x)=∑yπref\\u2062(y∣x)\\u2062exp\\u2061(1β\\u2062r\\u2062(x,y))𝑍𝑥subscript𝑦subscript𝜋refconditional𝑦𝑥1𝛽𝑟𝑥𝑦Z(x)=\\\\sum_{y}\\\\pi_{\\\\text{ref}}(y\\\\mid x)\\\\exp\\\\left(\\\\frac{1}{\\\\beta}r(x,y)\\\\right)italic_Z ( italic_x ) = ∑ start_POSTSUBSCRIPT italic_y end_POSTSUBSCRIPT italic_π start_POSTSUBSCRIPT ref end_POSTSUBSCRIPT ( italic_y ∣ italic_x ) roman_exp ( divide start_ARG 1 end_ARG start_ARG italic_β end_ARG italic_r ( italic_x , italic_y ) ) is the partition function. See Appendix A.1 for a complete derivation. Even if we use the MLE estimate rϕsubscript𝑟italic-ϕr_{\\\\phi}italic_r start_POSTSUBSCRIPT italic_ϕ end_POSTSUBSCRIPT of the ground-truth reward function r*superscript𝑟r^{*}italic_r start_POSTSUPERSCRIPT * end_POSTSUPERSCRIPT, it is still expensive to estimate the partition function Z\\u2062(x)𝑍𝑥Z(x)italic_Z ( italic_x ) (Korbak et\\xa0al., 2022; Go et\\xa0al., 2023), which makes this representation hard to utilize in practice. However, we can rearrange Eq.\\xa04 to express the reward function in terms of its corresponding optimal policy πrsubscript𝜋𝑟\\\\pi_{r}italic_π start_POSTSUBSCRIPT italic_r end_POSTSUBSCRIPT, the reference policy πrefsubscript𝜋ref\\\\pi_{\\\\text{ref}}italic_π start_POSTSUBSCRIPT ref end_POSTSUBSCRIPT, and the unknown partition function Z\\u2062(⋅)𝑍⋅Z(\\\\cdot)italic_Z ( ⋅ ). Specifically, we first take the logarithm of both sides of Eq.\\xa04 and then with some algebra we obtain:\\nr\\u2062(x,y)=β\\u2062log\\u2061πr\\u2062(y∣x)πref\\u2062(y∣x)+β\\u2062log\\u2061Z\\u2062(x).𝑟𝑥𝑦𝛽subscript𝜋𝑟conditional𝑦𝑥subscript𝜋refconditional𝑦𝑥𝛽𝑍𝑥r(x,y)=\\\\beta\\\\log\\\\frac{\\\\pi_{r}(y\\\\mid x)}{\\\\pi_{\\\\text{ref}}(y\\\\mid x)}+\\\\beta\\\\log Z%\\n(x).italic_r ( italic_x , italic_y ) = italic_β roman_log divide start_ARG italic_π start_POSTSUBSCRIPT italic_r end_POSTSUBSCRIPT ( italic_y ∣ italic_x ) end_ARG start_ARG italic_π start_POSTSUBSCRIPT ref end_POSTSUBSCRIPT ( italic_y ∣ italic_x ) end_ARG + italic_β roman_log italic_Z ( italic_x ) .\\n(5)',\n",
              " '(5)\\nWe can apply this reparameterization to the ground-truth reward r*superscript𝑟r^{*}italic_r start_POSTSUPERSCRIPT * end_POSTSUPERSCRIPT and corresponding optimal model π*superscript𝜋\\\\pi^{*}italic_π start_POSTSUPERSCRIPT * end_POSTSUPERSCRIPT. Fortunately, the Bradley-Terry model depends only on the difference of rewards between two completions, i.e., p*\\u2062(y1≻y2∣x)=σ\\u2062(r*\\u2062(x,y1)−r*\\u2062(x,y2))superscript𝑝succeedssubscript𝑦1conditionalsubscript𝑦2𝑥𝜎superscript𝑟𝑥subscript𝑦1superscript𝑟𝑥subscript𝑦2{p^{*}(y_{1}\\\\succ y_{2}\\\\mid x)=\\\\sigma(r^{*}(x,y_{1})-r^{*}(x,y_{2}))}italic_p start_POSTSUPERSCRIPT * end_POSTSUPERSCRIPT ( italic_y start_POSTSUBSCRIPT 1 end_POSTSUBSCRIPT ≻ italic_y start_POSTSUBSCRIPT 2 end_POSTSUBSCRIPT ∣ italic_x ) = italic_σ ( italic_r start_POSTSUPERSCRIPT * end_POSTSUPERSCRIPT ( italic_x , italic_y start_POSTSUBSCRIPT 1 end_POSTSUBSCRIPT ) - italic_r start_POSTSUPERSCRIPT * end_POSTSUPERSCRIPT ( italic_x , italic_y start_POSTSUBSCRIPT 2 end_POSTSUBSCRIPT ) ). Substituting the reparameterization in Eq.\\xa05 for r*\\u2062(x,y)superscript𝑟𝑥𝑦r^{*}(x,y)italic_r start_POSTSUPERSCRIPT * end_POSTSUPERSCRIPT ( italic_x , italic_y ) into the preference model Eq.\\xa01, the partition function cancels, and we can express the human preference probability in terms of only the optimal policy π*superscript𝜋\\\\pi^{*}italic_π start_POSTSUPERSCRIPT * end_POSTSUPERSCRIPT and reference policy πrefsubscript𝜋ref\\\\pi_{\\\\text{ref}}italic_π start_POSTSUBSCRIPT ref end_POSTSUBSCRIPT. Thus, the optimal RLHF policy π*superscript𝜋\\\\pi^{*}italic_π start_POSTSUPERSCRIPT * end_POSTSUPERSCRIPT under the Bradley-Terry model satisfies the preference model:\\np*\\u2062(y1≻y2∣x)=11+exp\\u2061(β\\u2062log\\u2061π*\\u2062(y2∣x)πref\\u2062(y2∣x)−β\\u2062log\\u2061π*\\u2062(y1∣x)πref\\u2062(y1∣x))superscript𝑝succeedssubscript𝑦1conditionalsubscript𝑦2𝑥11𝛽superscript𝜋conditionalsubscript𝑦2𝑥subscript𝜋refconditionalsubscript𝑦2𝑥𝛽superscript𝜋conditionalsubscript𝑦1𝑥subscript𝜋refconditionalsubscript𝑦1𝑥p^{*}(y_{1}\\\\succ y_{2}\\\\mid x)=\\\\frac{1}{1+\\\\exp\\\\left(\\\\beta\\\\log\\\\frac{\\\\pi^{*}(y_{2%',\n",
              " '}\\\\mid x)}{\\\\pi_{\\\\text{ref}}(y_{2}\\\\mid x)}-\\\\beta\\\\log\\\\frac{\\\\pi^{*}(y_{1}\\\\mid x)}{%\\n\\\\pi_{\\\\text{ref}}(y_{1}\\\\mid x)}\\\\right)}italic_p start_POSTSUPERSCRIPT * end_POSTSUPERSCRIPT ( italic_y start_POSTSUBSCRIPT 1 end_POSTSUBSCRIPT ≻ italic_y start_POSTSUBSCRIPT 2 end_POSTSUBSCRIPT ∣ italic_x ) = divide start_ARG 1 end_ARG start_ARG 1 + roman_exp ( italic_β roman_log divide start_ARG italic_π start_POSTSUPERSCRIPT * end_POSTSUPERSCRIPT ( italic_y start_POSTSUBSCRIPT 2 end_POSTSUBSCRIPT ∣ italic_x ) end_ARG start_ARG italic_π start_POSTSUBSCRIPT ref end_POSTSUBSCRIPT ( italic_y start_POSTSUBSCRIPT 2 end_POSTSUBSCRIPT ∣ italic_x ) end_ARG - italic_β roman_log divide start_ARG italic_π start_POSTSUPERSCRIPT * end_POSTSUPERSCRIPT ( italic_y start_POSTSUBSCRIPT 1 end_POSTSUBSCRIPT ∣ italic_x ) end_ARG start_ARG italic_π start_POSTSUBSCRIPT ref end_POSTSUBSCRIPT ( italic_y start_POSTSUBSCRIPT 1 end_POSTSUBSCRIPT ∣ italic_x ) end_ARG ) end_ARG\\n(6)\\nThe derivation is in Appendix\\xa0A.2. While Eq.\\xa06 uses the Bradley-Terry model, we can similarly derive expressions under the more general Plackett-Luce models\\xa0(Plackett, 1975; Luce, 2012), shown in Appendix\\xa0A.3.\\nNow that we have\\nthe probability of human preference data in terms of the optimal policy rather than the reward model, we can formulate a maximum likelihood objective for a parametrized policy πθsubscript𝜋𝜃\\\\pi_{\\\\theta}italic_π start_POSTSUBSCRIPT italic_θ end_POSTSUBSCRIPT. Analogous to the reward modeling approach (i.e. Eq.\\xa02), our policy objective becomes:\\nℒDPO\\u2062(πθ;πref)=−𝔼(x,yw,yl)∼𝒟\\u2062[log\\u2061σ\\u2062(β\\u2062log\\u2061πθ\\u2062(yw∣x)πref\\u2062(yw∣x)−β\\u2062log\\u2061πθ\\u2062(yl∣x)πref\\u2062(yl∣x))].subscriptℒDPOsubscript𝜋𝜃subscript𝜋refsubscript𝔼similar-to𝑥subscript𝑦𝑤subscript𝑦𝑙𝒟delimited-[]𝜎𝛽subscript𝜋𝜃conditionalsubscript𝑦𝑤𝑥subscript𝜋refconditionalsubscript𝑦𝑤𝑥𝛽subscript𝜋𝜃conditionalsubscript𝑦𝑙𝑥subscript𝜋refconditionalsubscript𝑦𝑙𝑥\\\\mathcal{L}_{\\\\text{DPO}}(\\\\pi_{\\\\theta};\\\\pi_{\\\\text{ref}})=-\\\\mathbb{E}_{(x,y_{w},%',\n",
              " 'y_{l})\\\\sim\\\\mathcal{D}}\\\\left[\\\\log\\\\sigma\\\\left(\\\\beta\\\\log\\\\frac{\\\\pi_{\\\\theta}(y_{w}%\\n\\\\mid x)}{\\\\pi_{\\\\text{ref}}(y_{w}\\\\mid x)}-\\\\beta\\\\log\\\\frac{\\\\pi_{\\\\theta}(y_{l}\\\\mid x%\\n)}{\\\\pi_{\\\\text{ref}}(y_{l}\\\\mid x)}\\\\right)\\\\right].caligraphic_L start_POSTSUBSCRIPT DPO end_POSTSUBSCRIPT ( italic_π start_POSTSUBSCRIPT italic_θ end_POSTSUBSCRIPT ; italic_π start_POSTSUBSCRIPT ref end_POSTSUBSCRIPT ) = - blackboard_E start_POSTSUBSCRIPT ( italic_x , italic_y start_POSTSUBSCRIPT italic_w end_POSTSUBSCRIPT , italic_y start_POSTSUBSCRIPT italic_l end_POSTSUBSCRIPT ) ∼ caligraphic_D end_POSTSUBSCRIPT [ roman_log italic_σ ( italic_β roman_log divide start_ARG italic_π start_POSTSUBSCRIPT italic_θ end_POSTSUBSCRIPT ( italic_y start_POSTSUBSCRIPT italic_w end_POSTSUBSCRIPT ∣ italic_x ) end_ARG start_ARG italic_π start_POSTSUBSCRIPT ref end_POSTSUBSCRIPT ( italic_y start_POSTSUBSCRIPT italic_w end_POSTSUBSCRIPT ∣ italic_x ) end_ARG - italic_β roman_log divide start_ARG italic_π start_POSTSUBSCRIPT italic_θ end_POSTSUBSCRIPT ( italic_y start_POSTSUBSCRIPT italic_l end_POSTSUBSCRIPT ∣ italic_x ) end_ARG start_ARG italic_π start_POSTSUBSCRIPT ref end_POSTSUBSCRIPT ( italic_y start_POSTSUBSCRIPT italic_l end_POSTSUBSCRIPT ∣ italic_x ) end_ARG ) ] .\\n(7)\\nThis way, we fit an implicit reward using an alternative parameterization, whose optimal policy is simply πθsubscript𝜋𝜃\\\\pi_{\\\\theta}italic_π start_POSTSUBSCRIPT italic_θ end_POSTSUBSCRIPT. Moreover, since our procedure is equivalent to fitting a reparametrized Bradley-Terry model, it enjoys certain theoretical properties, such as consistencies under suitable assumption of the preference data distribution Bong and Rinaldo (2022). In Section\\xa05, we further discuss theoretical properties of DPO in relation to other works.',\n",
              " 'What does the DPO update do? For a mechanistic understanding of DPO, it is useful to analyze the gradient of the loss function ℒDPOsubscriptℒDPO\\\\mathcal{L}_{\\\\text{DPO}}caligraphic_L start_POSTSUBSCRIPT DPO end_POSTSUBSCRIPT. The gradient with respect to the parameters θ𝜃\\\\thetaitalic_θ can be written as:\\n∇θℒDPO\\u2062(πθ;πref)=−β\\u2062𝔼(x,yw,yl)∼𝒟\\u2062[σ\\u2062(r^θ\\u2062(x,yl)−r^θ\\u2062(x,yw))⏟higher weight when reward estimate is wrong\\u2062[∇θlog\\u2061π\\u2062(yw∣x)⏟increase likelihood of\\xa0yw−∇θlog\\u2061π\\u2062(yl∣x)⏟decrease likelihood of\\xa0yl]],subscript∇𝜃subscriptℒDPOsubscript𝜋𝜃subscript𝜋ref𝛽subscript𝔼similar-to𝑥subscript𝑦𝑤subscript𝑦𝑙𝒟delimited-[]subscript⏟𝜎subscript^𝑟𝜃𝑥subscript𝑦𝑙subscript^𝑟𝜃𝑥subscript𝑦𝑤higher weight when reward estimate is wrongdelimited-[]subscript⏟subscript∇𝜃𝜋conditionalsubscript𝑦𝑤𝑥increase likelihood of\\xa0ywsubscript⏟subscript∇𝜃𝜋conditionalsubscript𝑦𝑙𝑥decrease likelihood of\\xa0yl\\\\nabla_{\\\\theta}\\\\mathcal{L}_{\\\\text{DPO}}(\\\\pi_{\\\\theta};\\\\pi_{\\\\text{ref}})=\\\\\\\\\\n-\\\\beta\\\\mathbb{E}_{(x,y_{w},y_{l})\\\\sim\\\\mathcal{D}}\\\\bigg{[}\\\\underbrace{\\\\sigma(%\\n\\\\hat{r}_{\\\\theta}(x,y_{l})-\\\\hat{r}_{\\\\theta}(x,y_{w}))}_{\\\\text{higher weight %\\nwhen reward estimate is wrong}}\\\\bigg{[}\\\\underbrace{\\\\nabla_{\\\\theta}\\\\log\\\\pi(y_{w%\\n}\\\\mid x)}_{\\\\text{increase likelihood of $y_{w}$}}-\\\\underbrace{\\\\nabla_{\\\\theta}%',\n",
              " 'when reward estimate is wrong}}\\\\bigg{[}\\\\underbrace{\\\\nabla_{\\\\theta}\\\\log\\\\pi(y_{w%\\n}\\\\mid x)}_{\\\\text{increase likelihood of $y_{w}$}}-\\\\underbrace{\\\\nabla_{\\\\theta}%\\n\\\\log\\\\pi(y_{l}\\\\mid x)}_{\\\\text{decrease likelihood of $y_{l}$}}\\\\bigg{]}\\\\bigg{]},start_ROW start_CELL ∇ start_POSTSUBSCRIPT italic_θ end_POSTSUBSCRIPT caligraphic_L start_POSTSUBSCRIPT DPO end_POSTSUBSCRIPT ( italic_π start_POSTSUBSCRIPT italic_θ end_POSTSUBSCRIPT ; italic_π start_POSTSUBSCRIPT ref end_POSTSUBSCRIPT ) = end_CELL end_ROW start_ROW start_CELL - italic_β blackboard_E start_POSTSUBSCRIPT ( italic_x , italic_y start_POSTSUBSCRIPT italic_w end_POSTSUBSCRIPT , italic_y start_POSTSUBSCRIPT italic_l end_POSTSUBSCRIPT ) ∼ caligraphic_D end_POSTSUBSCRIPT [ under⏟ start_ARG italic_σ ( over^ start_ARG italic_r end_ARG start_POSTSUBSCRIPT italic_θ end_POSTSUBSCRIPT ( italic_x , italic_y start_POSTSUBSCRIPT italic_l end_POSTSUBSCRIPT ) - over^ start_ARG italic_r end_ARG start_POSTSUBSCRIPT italic_θ end_POSTSUBSCRIPT ( italic_x , italic_y start_POSTSUBSCRIPT italic_w end_POSTSUBSCRIPT ) ) end_ARG start_POSTSUBSCRIPT higher weight when reward estimate is wrong end_POSTSUBSCRIPT [ under⏟ start_ARG ∇ start_POSTSUBSCRIPT italic_θ end_POSTSUBSCRIPT roman_log italic_π ( italic_y start_POSTSUBSCRIPT italic_w end_POSTSUBSCRIPT ∣ italic_x ) end_ARG start_POSTSUBSCRIPT increase likelihood of italic_y start_POSTSUBSCRIPT italic_w end_POSTSUBSCRIPT end_POSTSUBSCRIPT - under⏟ start_ARG ∇ start_POSTSUBSCRIPT italic_θ end_POSTSUBSCRIPT roman_log italic_π ( italic_y start_POSTSUBSCRIPT italic_l end_POSTSUBSCRIPT ∣ italic_x ) end_ARG start_POSTSUBSCRIPT decrease likelihood of italic_y start_POSTSUBSCRIPT italic_l end_POSTSUBSCRIPT end_POSTSUBSCRIPT ] ] , end_CELL end_ROW\\nwhere r^θ\\u2062(x,y)=β\\u2062log\\u2061πθ\\u2062(y∣x)πref\\u2062(y∣x)subscript^𝑟𝜃𝑥𝑦𝛽subscript𝜋𝜃conditional𝑦𝑥subscript𝜋refconditional𝑦𝑥\\\\hat{r}_{\\\\theta}(x,y)=\\\\beta\\\\log\\\\frac{\\\\pi_{\\\\theta}(y\\\\mid x)}{\\\\pi_{\\\\text{ref}}(y%',\n",
              " 'where r^θ\\u2062(x,y)=β\\u2062log\\u2061πθ\\u2062(y∣x)πref\\u2062(y∣x)subscript^𝑟𝜃𝑥𝑦𝛽subscript𝜋𝜃conditional𝑦𝑥subscript𝜋refconditional𝑦𝑥\\\\hat{r}_{\\\\theta}(x,y)=\\\\beta\\\\log\\\\frac{\\\\pi_{\\\\theta}(y\\\\mid x)}{\\\\pi_{\\\\text{ref}}(y%\\n\\\\mid x)}over^ start_ARG italic_r end_ARG start_POSTSUBSCRIPT italic_θ end_POSTSUBSCRIPT ( italic_x , italic_y ) = italic_β roman_log divide start_ARG italic_π start_POSTSUBSCRIPT italic_θ end_POSTSUBSCRIPT ( italic_y ∣ italic_x ) end_ARG start_ARG italic_π start_POSTSUBSCRIPT ref end_POSTSUBSCRIPT ( italic_y ∣ italic_x ) end_ARG is the reward implicitly defined by the language model πθsubscript𝜋𝜃\\\\pi_{\\\\theta}italic_π start_POSTSUBSCRIPT italic_θ end_POSTSUBSCRIPT and reference model πrefsubscript𝜋ref\\\\pi_{\\\\text{ref}}italic_π start_POSTSUBSCRIPT ref end_POSTSUBSCRIPT (more in Section\\xa05). Intuitively, the gradient of the loss function ℒDPOsubscriptℒDPO\\\\mathcal{L}_{\\\\text{DPO}}caligraphic_L start_POSTSUBSCRIPT DPO end_POSTSUBSCRIPT increases the likelihood of the preferred completions ywsubscript𝑦𝑤y_{w}italic_y start_POSTSUBSCRIPT italic_w end_POSTSUBSCRIPT and decreases the likelihood of dispreferred completions ylsubscript𝑦𝑙y_{l}italic_y start_POSTSUBSCRIPT italic_l end_POSTSUBSCRIPT. Importantly, the examples are weighed by how much higher the implicit reward model r^θsubscript^𝑟𝜃\\\\hat{r}_{\\\\theta}over^ start_ARG italic_r end_ARG start_POSTSUBSCRIPT italic_θ end_POSTSUBSCRIPT rates the dispreferred completions, scaled by β𝛽\\\\betaitalic_β, i.e, how incorrectly the implicit reward model orders the completions, accounting for the strength of the KL constraint. Our experiments suggest the importance of this weighting, as a naïve version of this method without the weighting coefficient can cause the language model to degenerate (Appendix Table\\xa03).\\nDPO outline.',\n",
              " 'DPO outline.\\nThe general DPO pipeline is as follows: 1) Sample completions y1,y2∼πref(⋅∣x)y_{1},y_{2}\\\\sim\\\\pi_{\\\\text{ref}}(\\\\cdot\\\\mid x)italic_y start_POSTSUBSCRIPT 1 end_POSTSUBSCRIPT , italic_y start_POSTSUBSCRIPT 2 end_POSTSUBSCRIPT ∼ italic_π start_POSTSUBSCRIPT ref end_POSTSUBSCRIPT ( ⋅ ∣ italic_x ) for every prompt x𝑥xitalic_x, label with human preferences to construct the offline dataset of preferences 𝒟={x(i),yw(i),yl)(i)}i=1N\\\\mathcal{D}=\\\\{x^{(i)},y_{w}^{(i)},y_{l})^{(i)}\\\\}_{i=1}^{N}caligraphic_D = { italic_x start_POSTSUPERSCRIPT ( italic_i ) end_POSTSUPERSCRIPT , italic_y start_POSTSUBSCRIPT italic_w end_POSTSUBSCRIPT start_POSTSUPERSCRIPT ( italic_i ) end_POSTSUPERSCRIPT , italic_y start_POSTSUBSCRIPT italic_l end_POSTSUBSCRIPT ) start_POSTSUPERSCRIPT ( italic_i ) end_POSTSUPERSCRIPT } start_POSTSUBSCRIPT italic_i = 1 end_POSTSUBSCRIPT start_POSTSUPERSCRIPT italic_N end_POSTSUPERSCRIPT and 2) optimize the language model πθsubscript𝜋𝜃\\\\pi_{\\\\theta}italic_π start_POSTSUBSCRIPT italic_θ end_POSTSUBSCRIPT to minimize ℒDPOsubscriptℒDPO\\\\mathcal{L}_{\\\\text{DPO}}caligraphic_L start_POSTSUBSCRIPT DPO end_POSTSUBSCRIPT for the given πrefsubscript𝜋ref\\\\pi_{\\\\text{ref}}italic_π start_POSTSUBSCRIPT ref end_POSTSUBSCRIPT and 𝒟𝒟\\\\mathcal{D}caligraphic_D and desired β𝛽\\\\betaitalic_β.',\n",
              " 'In practice, one would like to reuse preference datasets publicly available, rather than generating samples and gathering human preferences. Since the preference datasets are sampled using πSFTsuperscript𝜋SFT\\\\pi^{\\\\text{SFT}}italic_π start_POSTSUPERSCRIPT SFT end_POSTSUPERSCRIPT, we initialize πref=πSFTsubscript𝜋refsuperscript𝜋SFT\\\\pi_{\\\\text{ref}}=\\\\pi^{\\\\text{SFT}}italic_π start_POSTSUBSCRIPT ref end_POSTSUBSCRIPT = italic_π start_POSTSUPERSCRIPT SFT end_POSTSUPERSCRIPT whenever available. However, when πSFTsuperscript𝜋SFT\\\\pi^{\\\\text{SFT}}italic_π start_POSTSUPERSCRIPT SFT end_POSTSUPERSCRIPT is not available, we initialize πrefsubscript𝜋ref\\\\pi_{\\\\text{ref}}italic_π start_POSTSUBSCRIPT ref end_POSTSUBSCRIPT by maximizing likelihood of preferred completions (x,yw)𝑥subscript𝑦𝑤{(x,y_{w})}( italic_x , italic_y start_POSTSUBSCRIPT italic_w end_POSTSUBSCRIPT ), that is, πref=arg\\u2062maxπ\\u2061𝔼x,yw∼𝒟\\u2062[log\\u2061π\\u2062(yw∣x)]subscript𝜋refsubscriptargmax𝜋subscript𝔼similar-to𝑥subscript𝑦𝑤𝒟delimited-[]𝜋conditionalsubscript𝑦𝑤𝑥{\\\\pi_{\\\\text{ref}}=\\\\operatorname*{arg\\\\,max}_{\\\\pi}\\\\mathbb{E}_{x,y_{w}\\\\sim%\\n\\\\mathcal{D}}\\\\left[\\\\log\\\\pi(y_{w}\\\\mid x)\\\\right]}italic_π start_POSTSUBSCRIPT ref end_POSTSUBSCRIPT = start_OPERATOR roman_arg roman_max end_OPERATOR start_POSTSUBSCRIPT italic_π end_POSTSUBSCRIPT blackboard_E start_POSTSUBSCRIPT italic_x , italic_y start_POSTSUBSCRIPT italic_w end_POSTSUBSCRIPT ∼ caligraphic_D end_POSTSUBSCRIPT [ roman_log italic_π ( italic_y start_POSTSUBSCRIPT italic_w end_POSTSUBSCRIPT ∣ italic_x ) ]. This procedure helps mitigate the distribution shift between the true reference distribution which is unavailable, and πrefsubscript𝜋ref\\\\pi_{\\\\text{ref}}italic_π start_POSTSUBSCRIPT ref end_POSTSUBSCRIPT used by DPO. Further details related to the implementation and hyperparameters can be found in Appendix\\xa0B.\\n5 Theoretical Analysis of DPO',\n",
              " '5 Theoretical Analysis of DPO\\nIn this section, we give further interpretation of the DPO method, provide theoretical backing, and relate advantages of DPO to issues with actor critic algorithms used for RLHF (such as PPO\\xa0Schulman et\\xa0al. (2017)).\\n5.1 Your Language Model Is Secretly a Reward Model\\nDPO is able to bypass both fitting an explicit reward and performing RL to learn the policy using a single maximum likelihood objective. Note the optimization objective Eq. 5 is equivalent to a Bradley-Terry model with a reward parameterization r*\\u2062(x,y)=β\\u2062log\\u2061πθ*\\u2062(y∣x)πref\\u2062(y∣x)superscript𝑟𝑥𝑦𝛽subscriptsuperscript𝜋𝜃conditional𝑦𝑥subscript𝜋refconditional𝑦𝑥r^{*}(x,y)=\\\\beta\\\\log\\\\frac{\\\\pi^{*}_{\\\\theta}(y\\\\mid x)}{\\\\pi_{\\\\text{ref}}(y\\\\mid x)}italic_r start_POSTSUPERSCRIPT * end_POSTSUPERSCRIPT ( italic_x , italic_y ) = italic_β roman_log divide start_ARG italic_π start_POSTSUPERSCRIPT * end_POSTSUPERSCRIPT start_POSTSUBSCRIPT italic_θ end_POSTSUBSCRIPT ( italic_y ∣ italic_x ) end_ARG start_ARG italic_π start_POSTSUBSCRIPT ref end_POSTSUBSCRIPT ( italic_y ∣ italic_x ) end_ARG and we optimize our parametric model πθsubscript𝜋𝜃\\\\pi_{\\\\theta}italic_π start_POSTSUBSCRIPT italic_θ end_POSTSUBSCRIPT, equivalently to the reward model optimization in Eq. 2 under the change of variables. In this section we will build the theory behind this reparameterization, show that it does not constrain the class of learned reward models, and allows for the exact recovery of the optimal policy. We begin with by defining an equivalence relation between reward functions.\\nDefinition 1.',\n",
              " 'Definition 1.\\nWe say that two reward functions r\\u2062(x,y)𝑟𝑥𝑦r(x,y)italic_r ( italic_x , italic_y ) and r′\\u2062(x,y)superscript𝑟normal-′𝑥𝑦r^{\\\\prime}(x,y)italic_r start_POSTSUPERSCRIPT ′ end_POSTSUPERSCRIPT ( italic_x , italic_y ) are equivalent iff r\\u2062(x,y)−r′\\u2062(x,y)=f\\u2062(x)𝑟𝑥𝑦superscript𝑟normal-′𝑥𝑦𝑓𝑥{r(x,y)-r^{\\\\prime}(x,y)=f(x)}italic_r ( italic_x , italic_y ) - italic_r start_POSTSUPERSCRIPT ′ end_POSTSUPERSCRIPT ( italic_x , italic_y ) = italic_f ( italic_x ) for some function f𝑓fitalic_f.\\nIt is easy to see that this is indeed an equivalence relation, which partitions the set of reward functions into classes. We can state the following two lemmas:\\nLemma 1.\\nUnder the Plackett-Luce, and in particular the Bradley-Terry, preference framework, two reward functions from the same class induce the same preference distribution.\\nLemma 2.\\nTwo reward functions from the same equivalence class induce the same optimal policy under the constrained RL problem.\\nThe proofs are straightforward and we defer them to Appendix A.5. The first lemma is a well-known under-specification issue with the Plackett-Luce family of models Plackett (1975). Due to this under-specification, we usually have to impose additional identifiability constraints to achieve any guarantees on the MLE estimates from Eq. 2 Bong and Rinaldo (2022). The second lemma states that all reward functions from the same class yield the same optimal policy, hence for our final objective, we are only interested in recovering an arbitrary reward function from the optimal class. We prove the following Theorem in Appendix\\xa0A.6:\\nTheorem 1.',\n",
              " 'Theorem 1.\\nUnder mild assumptions, all reward classes consistent with the Plackett-Luce (and Bradley-Terry in particular) models can be represented with the reparameterization r\\u2062(x,y)=β\\u2062log\\u2061π\\u2062(y∣x)π𝑟𝑒𝑓\\u2062(y∣x)𝑟𝑥𝑦𝛽𝜋conditional𝑦𝑥subscript𝜋𝑟𝑒𝑓conditional𝑦𝑥{r(x,y)=\\\\beta\\\\log\\\\frac{\\\\pi(y\\\\mid x)}{\\\\pi_{\\\\text{ref}}(y\\\\mid x)}}italic_r ( italic_x , italic_y ) = italic_β roman_log divide start_ARG italic_π ( italic_y ∣ italic_x ) end_ARG start_ARG italic_π start_POSTSUBSCRIPT ref end_POSTSUBSCRIPT ( italic_y ∣ italic_x ) end_ARG for some model π\\u2062(y∣x)𝜋conditional𝑦𝑥\\\\pi(y\\\\mid x)italic_π ( italic_y ∣ italic_x ) and a given reference model π𝑟𝑒𝑓\\u2062(y∣x)subscript𝜋𝑟𝑒𝑓conditional𝑦𝑥\\\\pi_{\\\\text{ref}}(y\\\\mid x)italic_π start_POSTSUBSCRIPT ref end_POSTSUBSCRIPT ( italic_y ∣ italic_x ).\\nProof Sketch.\\nConsider any reward function r\\u2062(x,y)𝑟𝑥𝑦r(x,y)italic_r ( italic_x , italic_y ), which induces a corresponding optimal model πr\\u2062(y∣x)subscript𝜋𝑟conditional𝑦𝑥\\\\pi_{r}(y\\\\mid x)italic_π start_POSTSUBSCRIPT italic_r end_POSTSUBSCRIPT ( italic_y ∣ italic_x ), specified by Eq. 4. We will show that a reward function from the equivalence class of r𝑟ritalic_r can be represented using the reparameterization given above. We define the projection f𝑓fitalic_f as\\nf\\u2062(r;πref,β)\\u2062(x,y)=r\\u2062(x,y)−β\\u2062log\\u2062∑yπref\\u2062(y∣x)\\u2062exp\\u2061(1β\\u2062r\\u2062(x,y))𝑓𝑟subscript𝜋ref𝛽𝑥𝑦𝑟𝑥𝑦𝛽subscript𝑦subscript𝜋refconditional𝑦𝑥1𝛽𝑟𝑥𝑦f(r;\\\\pi_{\\\\text{ref}},\\\\beta)(x,y)=r(x,y)-\\\\beta\\\\log\\\\sum_{y}\\\\pi_{\\\\text{ref}}(y%\\n\\\\mid x)\\\\exp\\\\left(\\\\frac{1}{\\\\beta}r(x,y)\\\\right)italic_f ( italic_r ; italic_π start_POSTSUBSCRIPT ref end_POSTSUBSCRIPT , italic_β ) ( italic_x , italic_y ) = italic_r ( italic_x , italic_y ) - italic_β roman_log ∑ start_POSTSUBSCRIPT italic_y end_POSTSUBSCRIPT italic_π start_POSTSUBSCRIPT ref end_POSTSUBSCRIPT ( italic_y ∣ italic_x ) roman_exp ( divide start_ARG 1 end_ARG start_ARG italic_β end_ARG italic_r ( italic_x , italic_y ) )\\n(8)',\n",
              " '(8)\\nThe operator f𝑓fitalic_f simply normalizes the reward function with the logarithm of the partition function of πrsubscript𝜋𝑟\\\\pi_{r}italic_π start_POSTSUBSCRIPT italic_r end_POSTSUBSCRIPT. Since the added normalization term is only a function of the prefix x𝑥xitalic_x, f\\u2062(r;πref,β)\\u2062(x,y)𝑓𝑟subscript𝜋ref𝛽𝑥𝑦f(r;\\\\pi_{\\\\text{ref}},\\\\beta)(x,y)italic_f ( italic_r ; italic_π start_POSTSUBSCRIPT ref end_POSTSUBSCRIPT , italic_β ) ( italic_x , italic_y ) is a reward function in the equivalence class of r\\u2062(x,y)𝑟𝑥𝑦r(x,y)italic_r ( italic_x , italic_y ). Finally, replacing r𝑟ritalic_r with the RHS of Eq.\\xa05 (which holds for any reward function), we have f\\u2062(r;πref,β)\\u2062(x,y)=β\\u2062log\\u2061πr\\u2062(y∣x)πref\\u2062(y∣x)𝑓𝑟subscript𝜋ref𝛽𝑥𝑦𝛽subscript𝜋𝑟conditional𝑦𝑥subscript𝜋refconditional𝑦𝑥f(r;\\\\pi_{\\\\text{ref}},\\\\beta)(x,y)=\\\\beta\\\\log\\\\frac{\\\\pi_{r}(y\\\\mid x)}{\\\\pi_{\\\\text{%\\nref}}(y\\\\mid x)}italic_f ( italic_r ; italic_π start_POSTSUBSCRIPT ref end_POSTSUBSCRIPT , italic_β ) ( italic_x , italic_y ) = italic_β roman_log divide start_ARG italic_π start_POSTSUBSCRIPT italic_r end_POSTSUBSCRIPT ( italic_y ∣ italic_x ) end_ARG start_ARG italic_π start_POSTSUBSCRIPT ref end_POSTSUBSCRIPT ( italic_y ∣ italic_x ) end_ARG. That is, the projection f𝑓fitalic_f produces a member of the equivalence class of r𝑟ritalic_r with the desired form, and we do not lose any generality in our reward model from the proposed reparameterization.\\n∎\\nWe can alternatively view Theorem\\xa01 as specifying exactly which reward function within each equivalence class the DPO reparameterization selects, that is, the reward function satisfying:\\n∑yπref\\u2062(y∣x)\\u2062exp\\u2061(1β\\u2062r\\u2062(x,y))⏟=π\\u2062(y∣x)\\u2062, using Thm.\\xa01\\xa0reparam.=1,subscript𝑦subscript⏟subscript𝜋refconditional𝑦𝑥1𝛽𝑟𝑥𝑦absent𝜋conditional𝑦𝑥, using Thm.\\xa01\\xa0reparam.1\\\\sum_{y}\\\\underbrace{\\\\pi_{\\\\text{ref}}(y\\\\mid x)\\\\exp\\\\left(\\\\frac{1}{\\\\beta}r(x,y)%',\n",
              " '\\\\right)}_{=\\\\pi(y\\\\mid x)\\\\text{, using Thm.~{}\\\\ref{thm:main} reparam.}}=1,∑ start_POSTSUBSCRIPT italic_y end_POSTSUBSCRIPT under⏟ start_ARG italic_π start_POSTSUBSCRIPT ref end_POSTSUBSCRIPT ( italic_y ∣ italic_x ) roman_exp ( divide start_ARG 1 end_ARG start_ARG italic_β end_ARG italic_r ( italic_x , italic_y ) ) end_ARG start_POSTSUBSCRIPT = italic_π ( italic_y ∣ italic_x ) , using Thm. reparam. end_POSTSUBSCRIPT = 1 ,\\n(9)\\ni.e., π\\u2062(y∣x)𝜋conditional𝑦𝑥\\\\pi(y\\\\mid x)italic_π ( italic_y ∣ italic_x ) is a valid distribution (probabilities are positive and sum to 1).\\nHowever, following Eq.\\xa04, we can see that Eq.\\xa09 is the partition function of the optimal policy induced by the reward function r\\u2062(x,y)𝑟𝑥𝑦r(x,y)italic_r ( italic_x , italic_y ).\\nThe key insight of the DPO algorithm is that we can impose certain constraints on the under-constrained Plackett-Luce (and Bradley-Terry in particular) family of preference models, such that we preserve the class of representable reward models, but explicitly make the optimal policy in Eq. 4 analytically tractable for all prompts x𝑥xitalic_x.\\n5.2 Instability of Actor-Critic Algorithms',\n",
              " '5.2 Instability of Actor-Critic Algorithms\\nWe can also use our framework to diagnose instabilities with standard actor-critic algorithms used for the RLHF, such as PPO. We follow the RLHF pipeline and focus on the RL fine-tuning step outlined in Section 3. We can draw connections to the control as inference framework Levine (2018) for the constrained RL problem outlined in 3. We assume a parameterized model πθ\\u2062(y∣x)subscript𝜋𝜃conditional𝑦𝑥\\\\pi_{\\\\theta}(y\\\\mid x)italic_π start_POSTSUBSCRIPT italic_θ end_POSTSUBSCRIPT ( italic_y ∣ italic_x ) and minimize 𝔻KL[πθ(y|x)∣∣π*(y∣x)]\\\\mathbb{D}_{\\\\text{KL}}[\\\\pi_{\\\\theta}(y|x)\\\\mid\\\\mid\\\\pi^{*}(y\\\\mid x)]blackboard_D start_POSTSUBSCRIPT KL end_POSTSUBSCRIPT [ italic_π start_POSTSUBSCRIPT italic_θ end_POSTSUBSCRIPT ( italic_y | italic_x ) ∣ ∣ italic_π start_POSTSUPERSCRIPT * end_POSTSUPERSCRIPT ( italic_y ∣ italic_x ) ] where π*superscript𝜋\\\\pi^{*}italic_π start_POSTSUPERSCRIPT * end_POSTSUPERSCRIPT is the optimal policy from Eq. 7 induced by the reward function rϕ\\u2062(y,x)subscript𝑟italic-ϕ𝑦𝑥r_{\\\\phi}(y,x)italic_r start_POSTSUBSCRIPT italic_ϕ end_POSTSUBSCRIPT ( italic_y , italic_x ). With some algebra this leads to the optimization objective:\\nmaxπθ\\u2061𝔼πθ\\u2062(y∣x)\\u2062[rϕ\\u2062(x,y)−β\\u2062log\\u2062∑yπref\\u2062(y∣x)\\u2062exp\\u2061(1β\\u2062rϕ\\u2062(x,y))⏟f\\u2062(rϕ,πref,β)−β\\u2062log\\u2061πθ\\u2062(y∣x)πref\\u2062(y∣x)⏟KL]subscriptsubscript𝜋𝜃subscript𝔼subscript𝜋𝜃conditional𝑦𝑥delimited-[]subscript⏟subscript𝑟italic-ϕ𝑥𝑦𝛽subscript𝑦subscript𝜋refconditional𝑦𝑥1𝛽subscript𝑟italic-ϕ𝑥𝑦𝑓subscript𝑟italic-ϕsubscript𝜋ref𝛽subscript⏟𝛽subscript𝜋𝜃conditional𝑦𝑥subscript𝜋refconditional𝑦𝑥KL\\\\max_{\\\\pi_{\\\\theta}}\\\\mathbb{E}_{\\\\pi_{\\\\theta}(y\\\\mid x)}\\\\bigg{[}\\\\underbrace{r_{%\\n\\\\phi}(x,y)-\\\\beta\\\\log\\\\sum_{y}\\\\pi_{\\\\text{ref}}(y\\\\mid x)\\\\exp\\\\left(\\\\frac{1}{\\\\beta}%\\nr_{\\\\phi}(x,y)\\\\right)}_{f(r_{\\\\phi},\\\\pi_{\\\\text{ref}},\\\\beta)}-\\\\underbrace{\\\\beta%',\n",
              " '\\\\phi}(x,y)-\\\\beta\\\\log\\\\sum_{y}\\\\pi_{\\\\text{ref}}(y\\\\mid x)\\\\exp\\\\left(\\\\frac{1}{\\\\beta}%\\nr_{\\\\phi}(x,y)\\\\right)}_{f(r_{\\\\phi},\\\\pi_{\\\\text{ref}},\\\\beta)}-\\\\underbrace{\\\\beta%\\n\\\\log\\\\frac{\\\\pi_{\\\\theta}(y\\\\mid x)}{\\\\pi_{\\\\text{ref}}(y\\\\mid x)}}_{\\\\text{KL}}\\\\bigg{]}roman_max start_POSTSUBSCRIPT italic_π start_POSTSUBSCRIPT italic_θ end_POSTSUBSCRIPT end_POSTSUBSCRIPT blackboard_E start_POSTSUBSCRIPT italic_π start_POSTSUBSCRIPT italic_θ end_POSTSUBSCRIPT ( italic_y ∣ italic_x ) end_POSTSUBSCRIPT [ under⏟ start_ARG italic_r start_POSTSUBSCRIPT italic_ϕ end_POSTSUBSCRIPT ( italic_x , italic_y ) - italic_β roman_log ∑ start_POSTSUBSCRIPT italic_y end_POSTSUBSCRIPT italic_π start_POSTSUBSCRIPT ref end_POSTSUBSCRIPT ( italic_y ∣ italic_x ) roman_exp ( divide start_ARG 1 end_ARG start_ARG italic_β end_ARG italic_r start_POSTSUBSCRIPT italic_ϕ end_POSTSUBSCRIPT ( italic_x , italic_y ) ) end_ARG start_POSTSUBSCRIPT italic_f ( italic_r start_POSTSUBSCRIPT italic_ϕ end_POSTSUBSCRIPT , italic_π start_POSTSUBSCRIPT ref end_POSTSUBSCRIPT , italic_β ) end_POSTSUBSCRIPT - under⏟ start_ARG italic_β roman_log divide start_ARG italic_π start_POSTSUBSCRIPT italic_θ end_POSTSUBSCRIPT ( italic_y ∣ italic_x ) end_ARG start_ARG italic_π start_POSTSUBSCRIPT ref end_POSTSUBSCRIPT ( italic_y ∣ italic_x ) end_ARG end_ARG start_POSTSUBSCRIPT KL end_POSTSUBSCRIPT ]\\n(10)\\nThis is the same objective optimized in prior works',\n",
              " '(10)\\nThis is the same objective optimized in prior works\\n(Ziegler et\\xa0al., 2020; Stiennon et\\xa0al., 2022; Bai et\\xa0al., 2022a; Ouyang et\\xa0al., 2022) using the DPO-equivalent reward for the reward class of rϕsubscript𝑟italic-ϕr_{\\\\phi}italic_r start_POSTSUBSCRIPT italic_ϕ end_POSTSUBSCRIPT. In this setting, we can interpret the normalization term in f\\u2062(rϕ,πref,β)𝑓subscript𝑟italic-ϕsubscript𝜋ref𝛽f(r_{\\\\phi},\\\\pi_{\\\\text{ref}},\\\\beta)italic_f ( italic_r start_POSTSUBSCRIPT italic_ϕ end_POSTSUBSCRIPT , italic_π start_POSTSUBSCRIPT ref end_POSTSUBSCRIPT , italic_β ) as the soft value function of the reference policy πrefsubscript𝜋ref\\\\pi_{\\\\text{ref}}italic_π start_POSTSUBSCRIPT ref end_POSTSUBSCRIPT. While this term does not affect the optimal solution, without it, the policy gradient of the objective could have high variance, making learning unstable. We can accommodate for the normalization term using a learned value function, but that can also be difficult to optimize. Alternatively, prior works have normalized rewards using a human completion baseline, essentially a single sample Monte-Carlo estimate of the normalizing term. In contrast the DPO reparameterization yields a reward function that does not require any baselines.\\n6 Experiments',\n",
              " '6 Experiments\\nIn this section, we empirically evaluate DPO’s ability to train policies directly from preferences. First, in a well-controlled text-generation setting, we ask: how efficiently does DPO trade off maximizing reward and minimizing KL-divergence with the reference policy, compared to common preference learning algorithms such as PPO? Next, we evaluate DPO’s performance on larger models and more difficult RLHF tasks, including summarization and dialogue. We find that with almost no tuning of hyperparameters, DPO tends to perform as well or better than strong baselines like RLHF with PPO as well as returning the best of N𝑁Nitalic_N sampled trajectories under a learned reward function. Before presenting these results, we describe the experimental set-up; additional details are in Appendix\\xa0C.',\n",
              " 'Tasks. Our experiments explore three different open-ended text generation tasks. For all experiments, algorithms learn a policy from a dataset of preferences 𝒟={x(i),yw(i),yl(i)}i=1N𝒟superscriptsubscriptsuperscript𝑥𝑖superscriptsubscript𝑦𝑤𝑖superscriptsubscript𝑦𝑙𝑖𝑖1𝑁\\\\mathcal{D}=\\\\bigl{\\\\{}x^{(i)},y_{w}^{(i)},y_{l}^{(i)}\\\\bigr{\\\\}}_{i=1}^{N}caligraphic_D = { italic_x start_POSTSUPERSCRIPT ( italic_i ) end_POSTSUPERSCRIPT , italic_y start_POSTSUBSCRIPT italic_w end_POSTSUBSCRIPT start_POSTSUPERSCRIPT ( italic_i ) end_POSTSUPERSCRIPT , italic_y start_POSTSUBSCRIPT italic_l end_POSTSUBSCRIPT start_POSTSUPERSCRIPT ( italic_i ) end_POSTSUPERSCRIPT } start_POSTSUBSCRIPT italic_i = 1 end_POSTSUBSCRIPT start_POSTSUPERSCRIPT italic_N end_POSTSUPERSCRIPT. In controlled sentiment generation, x𝑥xitalic_x is a prefix of a movie review from the IMDb dataset Maas et\\xa0al. (2011), and the policy must generate y𝑦yitalic_y with positive sentiment. In order to perform a controlled evaluation, for this experiment we generate preference pairs over generations using a pre-trained sentiment classifier, where p\\u2062(positive∣x,yw)>p\\u2062(positive∣x,yl)𝑝conditionalpositive𝑥subscript𝑦𝑤𝑝conditionalpositive𝑥subscript𝑦𝑙p(\\\\text{positive}\\\\mid x,y_{w})>p(\\\\text{positive}\\\\mid x,y_{l})italic_p ( positive ∣ italic_x , italic_y start_POSTSUBSCRIPT italic_w end_POSTSUBSCRIPT ) > italic_p ( positive ∣ italic_x , italic_y start_POSTSUBSCRIPT italic_l end_POSTSUBSCRIPT ). For SFT, we fine-tune GPT-2-large until convergence on reviews from the train split of the IMDB dataset (further details in App\\xa0C.1). In summarization, x𝑥xitalic_x is a forum post from Reddit; the policy must generate a summary y𝑦yitalic_y of the main points in the post. Following prior work, we use the Reddit TL;DR summarization dataset (Völske et\\xa0al., 2017) along with human preferences gathered by Stiennon et\\xa0al.. We use an SFT model fine-tuned on human-written forum post summaries111https://huggingface.co/CarperAI/openai_summarize_tldr_sft with the',\n",
              " 'along with human preferences gathered by Stiennon et\\xa0al.. We use an SFT model fine-tuned on human-written forum post summaries111https://huggingface.co/CarperAI/openai_summarize_tldr_sft with the TRLX (von Werra et\\xa0al., 2023) framework for RLHF. The human preference dataset was gathered by Stiennon et\\xa0al. on samples from a different, but similarly-trained, SFT model. Finally, in single-turn dialogue,',\n",
              " 'x𝑥xitalic_x is a human query, which may be anything from a question about astrophysics to a request for relationship advice. A policy must produce an engaging and helpful response y𝑦yitalic_y to a user’s query; we use the Anthropic Helpful and Harmless dialogue dataset (Bai et\\xa0al., 2022a), containing 170k dialogues between a human and an automated assistant. Each transcript ends with a pair of responses generated by a large (although unknown) language model along with a preference label denoting the human-preferred response. In this setting, no pre-trained SFT model is available; we therefore fine-tune an off-the-shelf language model on only the preferred completions to form the SFT model.\\nFigure 2: Left. The frontier of expected reward vs KL to the reference policy. DPO provides the highest expected reward for all KL values, demonstrating the quality of the optimization. Right. TL;DR summarization win rates vs. human-written summaries, using GPT-4 as evaluator. DPO exceeds PPO’s best-case performance on summarization, while being more robust to changes in the sampling temperature.',\n",
              " 'Evaluation. Our experiments use two different approaches to evaluation. In order to analyze the effectiveness of each algorithm in optimizing the constrained reward maximization objective, in the controlled sentiment generation setting we evaluate each algorithm by its frontier of achieved reward and KL-divergence from the reference policy; this frontier is computable because we have acccess to the ground-truth reward function (a sentiment classifier). However, in the real world, the ground truth reward function is not known; therefore, we evaluate algorithms with their win rate against a baseline policy, using GPT-4 as a proxy for human evaluation of summary quality and response helpfulness in the summarization and single-turn dialogue settings, respectively. For summarization, we use reference summaries in the test set as the baseline; for dialogue, we use the preferred response in the test dataset as the baseline. While existing studies suggest LMs can be better automated evaluators than existing metrics (Chen et\\xa0al., 2023), we conduct a human study to justify our usage of GPT-4 for evaluation in Sec.\\xa06.4. We find GPT-4 judgments correlate strongly with humans, with human agreement with GPT-4 typically similar or higher than inter-human annotator agreement.',\n",
              " 'Methods. In addition to DPO, we evaluate several existing approaches to training language models to adhere to human preferences. Most simply, we explore zero-shot prompting with GPT-J (Wang and Komatsuzaki, 2021) in the summarization task and 2-shot prompting with Pythia-2.8B (Biderman et\\xa0al., 2023) in the dialogue task. In addition, we evaluate the SFT model as well as Preferred-FT, which is a model fine-tuned with supervised learning on the chosen completion ywsubscript𝑦𝑤y_{w}italic_y start_POSTSUBSCRIPT italic_w end_POSTSUBSCRIPT from either the SFT model (in controlled sentiment and summarization) or a generic LM (in single-turn dialogue). Another pseudo-supervised method is Unlikelihood\\xa0(Welleck et\\xa0al., 2019), which simply optimizes the policy to maximize the probability assigned to ywsubscript𝑦𝑤y_{w}italic_y start_POSTSUBSCRIPT italic_w end_POSTSUBSCRIPT and minimize the probability assigned to ylsubscript𝑦𝑙y_{l}italic_y start_POSTSUBSCRIPT italic_l end_POSTSUBSCRIPT; we use an optional coefficient α∈[0,1]𝛼01\\\\alpha\\\\in[0,1]italic_α ∈ [ 0 , 1 ] on the ‘unlikelihood’ term. We also consider PPO (Schulman et\\xa0al., 2017) using a reward function learned from the preference data and PPO-GT, which is an oracle that learns from the ground truth reward function available in the controlled sentiment setting. In our sentiment experiments, we use two implementations of PPO-GT, one of-the-shelf version von Werra et\\xa0al. (2023) as well as a modified version that normalizes rewards and further tunes hyperparameters to improve performance (we also use these modifications when running ‘normal’ PPO with learned rewards). Finally, we consider the Best of N𝑁Nitalic_N baseline, sampling N𝑁Nitalic_N responses from the SFT model (or Preferred-FT in dialogue) and returning the highest-scoring response according to a reward function learned from the preference dataset. This high-performing method decouples the quality of the reward model from the PPO optimization, but is computationally',\n",
              " 'response according to a reward function learned from the preference dataset. This high-performing method decouples the quality of the reward model from the PPO optimization, but is computationally impractical even for moderate N𝑁Nitalic_N as it requires sampling N𝑁Nitalic_N completions for every query at test time.',\n",
              " '6.1 How well can DPO optimize the RLHF objective?\\nFigure 3: Left. Win rates computed by GPT-4 for Anthropic-HH one-step dialogue; DPO is the only method that improves over chosen summaries in the Anthropic-HH test set. Right. Win rates for different sampling temperatures over the course of training. DPO’s improvement over the dataset labels is fairly stable over the course of training for different sampling temperatures.',\n",
              " 'The KL-constrained reward maximization objective used in typical RLHF algorithms balances exploitation of reward while restricting the policy from deviating far from the reference policy. Therefore, when comparing algorithms, we must take into account both reward achieved as well as the KL discrepancy; achieving slightly higher reward but with much higher KL is not necessarily desirable. Figure\\xa02 shows the reward-KL frontier for various algorithms in the sentiment setting. We execute multiple training runs for each algorithm, using a different hyperparameter for policy conservativeness in each run (target KL ∈{3,6,9,12}absent36912\\\\in\\\\{3,6,9,12\\\\}∈ { 3 , 6 , 9 , 12 } for PPO, β∈{0.05,0.1,1,5}𝛽0.050.115\\\\beta\\\\in\\\\{0.05,0.1,1,5\\\\}italic_β ∈ { 0.05 , 0.1 , 1 , 5 }, α∈{0.05,0.1,0.5,1}𝛼0.050.10.51\\\\alpha\\\\in\\\\{0.05,0.1,0.5,1\\\\}italic_α ∈ { 0.05 , 0.1 , 0.5 , 1 } for unlikelihood, random seeds for preferred-FT). This sweep includes 22 runs in total. After each 100 training steps until convergence, we evaluate each policy on a set of test prompts, computing the average reward under the true reward function as well as the average sequence-level KL222That is, the sum of the per-timestep KL-divergences. with the reference policy KL(π∣∣πref)\\\\text{KL}\\\\left(\\\\pi\\\\mid\\\\mid\\\\pi_{\\\\text{ref}}\\\\right)KL ( italic_π ∣ ∣ italic_π start_POSTSUBSCRIPT ref end_POSTSUBSCRIPT ). We find that DPO produces by far the most efficient frontier, achieving the highest reward while still achieving low KL. This result is particularly notable for multiple reasons. First, DPO and PPO optimize the same objective, but DPO is notably more efficient; DPO’s reward/KL tradeoff strictly dominates PPO. Second, DPO achieves a better frontier than PPO, even when PPO can access ground truth rewards (PPO-GT).\\n6.2 Can DPO scale to real preference datasets?\\nNext, we evaluate fine-tuning performance of DPO on summarization and single-turn dialogue. For summarization,',\n",
              " '6.2 Can DPO scale to real preference datasets?\\nNext, we evaluate fine-tuning performance of DPO on summarization and single-turn dialogue. For summarization,\\nautomatic evaluation metrics such as ROUGE can be poorly correlated with human preferences\\xa0(Stiennon et\\xa0al., 2022), and prior work has found that fine-tuning LMs using PPO on human preferences to provide more effective summaries. We evaluate different methods by sampling completions on the test split of TL;DR summarization dataset, and computing the average win rate against reference completions in the test set. The completions for all methods are sampled at temperatures varying from 0.0 to 1.0, and the win rates are shown in Figure\\xa02 (right). DPO, PPO and Preferred-FT all fine-tune the same GPT-J SFT model333https://huggingface.co/CarperAI/openai_summarize_tldr_sft. We find that DPO has a win rate of approximately 61% at a temperature of 0.0, exceeding the performance of PPO at \\xa057% at its optimal sampling temperature of 0.0. DPO also achieves a higher maximum win rate compared to the best of N𝑁Nitalic_N baseline. We note that we did not meaningfully tune DPO’s β𝛽\\\\betaitalic_β hyperparameter, so these results may underestimate DPO’s potential. Moreover, we find DPO to be much more robust to the sampling temperature than PPO, the performance of which can degrade to that of the base GPT-J model at high temperatures. Preferred-FT does not improve significantly over the SFT model. We also compare DPO and PPO head-to-head in human evaluations in Section\\xa06.4, where DPO samples at temperature 0.25 were preferred 58% times over PPO samples at temperature 0.',\n",
              " 'On single-turn dialogue, we evaluate the different methods on the subset of the test split of the Anthropic HH dataset (Bai et\\xa0al., 2022a) with one step of human-assistant interaction. GPT-4 evaluations use the preferred completions on the test as the reference to compute the win rate for different methods. As there is no standard SFT model for this task, we start with a pre-trained Pythia-2.8B, use Preferred-FT to train a reference model on the chosen completions such that completions are within distribution of the model, and then train using DPO. We also compare against the best of 128 Preferred-FT completions (we found the Best of N𝑁Nitalic_N baseline plateaus at 128 completions for this task; see Appendix Figure\\xa04) and a 2-shot prompted version of the Pythia-2.8B base model, finding DPO performs as well or better for the best-performing temperatures for each method. We also evaluate an RLHF model trained with PPO on the Anthropic HH dataset 444https://huggingface.co/reciprocate/ppo_hh_pythia-6B from a well-known source 555https://github.com/CarperAI/trlx/tree/main/examples/hh, but are unable to find a prompt or sampling temperature that gives performance better than the base Pythia-2.8B model. Based on our results from TL;DR and the fact that both methods optimize the same reward function, we consider Best of 128 a rough proxy for PPO-level performance. Overall, DPO is the only computationally efficient method that improves over the preferred completions in the Anthropic HH dataset, and provides similar or better performance to the computationally demanding Best of 128 baseline. Finally, Figure\\xa03 shows that DPO converges to its best performance relatively quickly.\\n6.3 Generalization to a new input distribution\\nWin rate vs. ground truth\\nAlg.\\nTemp 00\\nTemp 0.250.250.250.25\\nDPO\\n0.36\\n0.31\\nPPO\\n0.26\\n0.23\\nTable 1: GPT-4 win rates vs. ground truth summaries for out-of-distribution CNN/DailyMail input articles.',\n",
              " 'Win rate vs. ground truth\\nAlg.\\nTemp 00\\nTemp 0.250.250.250.25\\nDPO\\n0.36\\n0.31\\nPPO\\n0.26\\n0.23\\nTable 1: GPT-4 win rates vs. ground truth summaries for out-of-distribution CNN/DailyMail input articles.\\nTo further compare the performance of PPO and DPO under distribution shifts, we evaluate the PPO and DPO policies from our Reddit TL;DR summarization experiment on a different distribution, news articles in the test split of the CNN/DailyMail dataset (Nallapati et\\xa0al., 2016), using the best sampling temperatures from TL;DR (0 and 0.25). The results are presented in Table\\xa01. We computed the GPT-4 win rate against the ground-truth summaries in the datasets, using the same GPT-4 (C) prompt we used for Reddit TL;DR, but replacing the words “forum post” with “news article”. For this new distribution, DPO continues to outperform the PPO policy by a significant margin. This experiment provides initial evidence that DPO policies can generalize similarly well to PPO policies, even though DPO does not use the additional unlabeled Reddit TL;DR prompts that PPO uses.\\n6.4 Validating GPT-4 judgments with human judgments\\nWe conduct a human study to verify the reliability of GPT-4’s judgments, using the results of the TL;DR summarization experiment and two different GPT-4 prompts. The GPT-4 (S) (simple) prompt simply asks for which summary better-summarizes the important information in the post. The GPT-4 (C) (concise) prompt also asks for which summary is more concise; we evaluate this prompt because we find that GPT-4 prefers longer, more repetitive summaries than humans do with the GPT-4 (S) prompt. See Appendix\\xa0C.2 for the complete prompts. We perform three comparisons, using the highest (DPO, temp. 0.25), the lowest (PPO, temp. 1.0), and a\\nDPO\\nSFT\\nPPO-1\\nN respondents\\n272\\n122\\n199\\nGPT-4 (S) win %\\n47\\n27\\n13\\nGPT-4 (C) win %\\n54\\n32\\n12\\nHuman win %\\n58\\n43\\n17\\nGPT-4 (S)-H agree\\n70\\n77\\n86\\nGPT-4 (C)-H agree\\n67\\n79\\n85\\nH-H agree\\n65\\n-\\n87',\n",
              " 'DPO\\nSFT\\nPPO-1\\nN respondents\\n272\\n122\\n199\\nGPT-4 (S) win %\\n47\\n27\\n13\\nGPT-4 (C) win %\\n54\\n32\\n12\\nHuman win %\\n58\\n43\\n17\\nGPT-4 (S)-H agree\\n70\\n77\\n86\\nGPT-4 (C)-H agree\\n67\\n79\\n85\\nH-H agree\\n65\\n-\\n87\\nTable 2: Comparing human and GPT-4 win rates and per-judgment agreement on TL;DR summarization samples. Humans agree with GPT-4 about as much as they agree with each other. Each experiment compares a summary from the stated method with a summary from PPO with temperature 0.\\nmiddle-performing (SFT, temp. 0.25) method with the aim of covering a diversity of sample qualities; all three methods are compared against greedily-sampled PPO (its best-performing temperature). We find that with both prompts, GPT-4 tends to agree with humans about as often as humans agree with each other, suggesting that GPT-4 is a reasonable proxy for human evaluations (due to limited human raters, we only collect multiple human judgments for the DPO and PPO-1 comparisons). Overall, the GPT-4 (C) prompt generally provides win rates more representative of humans; we therefore use this prompt for the main results in Section\\xa06.2. For additional details about the human study, including the web interface presented to raters and the list of human volunteers, see Appendix\\xa0D.3.\\n7 Discussion',\n",
              " '7 Discussion\\nLearning from preferences is a powerful, scalable framework for training capable, aligned language models. We have introduced DPO, a simple training paradigm for training language models from preferences without reinforcement learning. Rather than coercing the preference learning problem into a standard RL setting in order to use off-the-shelf RL algorithms, DPO identifies a mapping between language model policies and reward functions that enables training a language model to satisfy human preferences directly, with a simple cross-entropy loss, without reinforcement learning or loss of generality. With virtually no tuning of hyperparameters, DPO performs similarly or better than existing RLHF algorithms, including those based on PPO; DPO thus meaningfully reduces the barrier to training more language models from human preferences.',\n",
              " 'Limitations & Future Work. Our results raise several important questions for future work. How does the DPO policy generalize out of distribution, compared with learning from an explicit reward function? Our initial results suggest that DPO policies can generalize similarly to PPO-based models, but more comprehensive study is needed. For example, can training with self-labeling from the DPO policy similarly make effective use of unlabeled prompts? On another front, how does reward over-optimization manifest in the direct preference optimization setting, and is the slight decrease in performance in Figure\\xa03-right an instance of it? Additionally, while we evaluate models up to 6B parameters, exploration of scaling DPO to state-of-the-art models orders of magnitude larger is an exciting direction for future work. Regarding evaluations, we find that the win rates computed by GPT-4 are impacted by the prompt; future work may study the best way to elicit high-quality judgments from automated systems. Finally, many possible applications of DPO exist beyond training language models from human preferences, including training generative models in other modalities.\\nAcknowledgements\\nEM gratefully acknowledges funding from a Knight-Hennessy Graduate Fellowship. CF and CM are CIFAR Fellows. This work was supported in part by the Stanford Accelerator for Learning (SAL) and Stanford Institute for Human-Centered Artificial Intelligence (HAI) Generative AI for the Future of Learning seed grant program. The Stanford Center for Research on Foundation Models (CRFM) provided part of the compute resources used for the experiments in this work. This work was supported in part by ONR grant N00014-20-1-2675.']"
            ]
          },
          "execution_count": 66,
          "metadata": {},
          "output_type": "execute_result"
        }
      ],
      "source": [
        "[d.page_content for d in docs_processed[0]]"
      ]
    },
    {
      "cell_type": "code",
      "execution_count": 52,
      "metadata": {},
      "outputs": [],
      "source": [
        "docs_processed = [txt for doc in docs_processed for txt in doc]"
      ]
    },
    {
      "cell_type": "code",
      "execution_count": 53,
      "metadata": {},
      "outputs": [
        {
          "data": {
            "text/plain": [
              "[Document(page_content='Abstract\\nWhile large-scale unsupervised language models (LMs) learn broad world knowledge and some reasoning skills, achieving precise control of their behavior is difficult due to the completely unsupervised nature of their training.\\nExisting methods for gaining such steerability collect human labels of the relative quality of model generations and fine-tune the unsupervised LM to align with these preferences, often with reinforcement learning from human feedback (RLHF).\\nHowever, RLHF is a complex and often unstable procedure, first fitting a reward model that reflects the human preferences, and then fine-tuning the large unsupervised LM using reinforcement learning to maximize this estimated reward without drifting too far from the original model.\\nIn this paper we introduce a new parameterization of the reward model in RLHF that enables extraction of the corresponding optimal policy in closed form, allowing us to solve the standard RLHF problem with only a simple classification loss.\\nThe resulting algorithm, which we call Direct Preference Optimization (DPO), is stable, performant, and computationally lightweight, eliminating the need for  sampling from the LM during fine-tuning or performing significant hyperparameter tuning.\\nOur experiments show that DPO can fine-tune LMs to align with human preferences as well as or better than existing methods. Notably, fine-tuning with DPO exceeds PPO-based RLHF in ability to control sentiment of generations, and matches or improves response quality in summarization and single-turn dialogue while being substantially simpler to implement and train.\\n1 Introduction\\nLarge unsupervised language models (LMs) trained on very large datasets', metadata={'title': 'Direct Preference Optimization: Your Language Model is Secretly a Reward  Model'}),\n",
              " Document(page_content='1 Introduction\\nLarge unsupervised language models (LMs) trained on very large datasets\\nacquire surprising capabilities\\xa0(Chowdhery et\\xa0al., 2022; Brown et\\xa0al., 2020b; Touvron et\\xa0al., 2023; Bubeck et\\xa0al., 2023). However, these models are trained on data generated by humans with a wide variety of goals, priorities, and skillsets. Some of these goals and skillsets may not be desirable to imitate; for example, while we may want our AI coding assistant to understand common programming mistakes in order to correct them, nevertheless, when generating code, we would like to bias our model toward the (potentially rare) high-quality coding ability present in its training data. Similarly, we might want our language model to be aware of a common misconception believed by 50% of people, but we certainly do not want the model to claim this misconception to be true in 50% of queries about it! In other words, selecting the model’s desired responses and behavior from its very wide knowledge and abilities is crucial to building AI systems that are safe, performant, and controllable (Ouyang et\\xa0al., 2022). While existing methods typically steer LMs to match human preferences using reinforcement learning (RL), we will show that the RL-based objective used by existing methods can be optimized exactly with a simple binary cross-entropy objective, greatly simplifying the preference learning pipeline.\\nFigure 1: DPO optimizes for human preferences while avoiding reinforcement learning. Existing methods for fine-tuning language models with human feedback first fit a reward model to a dataset of prompts and human preferences over pairs of responses, and then use RL to find a policy that maximizes the learned reward. In contrast, DPO directly optimizes for the policy best satisfying the preferences with a simple classification objective, fitting an implicit reward model whose corresponding optimal policy can be extracted in closed form.', metadata={'title': 'Direct Preference Optimization: Your Language Model is Secretly a Reward  Model'})]"
            ]
          },
          "execution_count": 53,
          "metadata": {},
          "output_type": "execute_result"
        }
      ],
      "source": [
        "docs_processed[:2]"
      ]
    },
    {
      "cell_type": "code",
      "execution_count": 55,
      "metadata": {},
      "outputs": [
        {
          "data": {
            "text/plain": [
              "'Abstract\\nWhile large-scale unsupervised language models (LMs) learn broad world knowledge and some reasoning skills, achieving precise control of their behavior is difficult due to the completely unsupervised nature of their training.\\nExisting methods for gaining such steerability collect human labels of the relative quality of model generations and fine-tune the unsupervised LM to align with these preferences, often with reinforcement learning from human feedback (RLHF).\\nHowever, RLHF is a complex and often unstable procedure, first fitting a reward model that reflects the human preferences, and then fine-tuning the large unsupervised LM using reinforcement learning to maximize this estimated reward without drifting too far from the original model.\\nIn this paper we introduce a new parameterization of the reward model in RLHF that enables extraction of the corresponding optimal policy in closed form, allowing us to solve the standard RLHF problem with only a simple classification loss.\\nThe resulting algorithm, which we call Direct Preference Optimization (DPO), is stable, performant, and computationally lightweight, eliminating the need for  sampling from the LM during fine-tuning or performing significant hyperparameter tuning.\\nOur experiments show that DPO can fine-tune LMs to align with human preferences as well as or better than existing methods. Notably, fine-tuning with DPO exceeds PPO-based RLHF in ability to control sentiment of generations, and matches or improves response quality in summarization and single-turn dialogue while being substantially simpler to implement and train.\\n1 Introduction\\nLarge unsupervised language models (LMs) trained on very large datasets'"
            ]
          },
          "execution_count": 55,
          "metadata": {},
          "output_type": "execute_result"
        }
      ],
      "source": [
        "docs_processed[0].page_content"
      ]
    },
    {
      "cell_type": "code",
      "execution_count": 23,
      "metadata": {},
      "outputs": [
        {
          "data": {
            "text/plain": [
              "183"
            ]
          },
          "execution_count": 23,
          "metadata": {},
          "output_type": "execute_result"
        }
      ],
      "source": [
        "len(docs_processed)"
      ]
    },
    {
      "cell_type": "code",
      "execution_count": 45,
      "metadata": {},
      "outputs": [
        {
          "data": {
            "text/plain": [
              "[Document(page_content='Abstract\\nWhile large-scale unsupervised language models (LMs) learn broad world knowledge and some reasoning skills, achieving precise control of their behavior is difficult due to the completely unsupervised nature of their training.\\nExisting methods for gaining such steerability collect human labels of the relative quality of model generations and fine-tune the unsupervised LM to align with these preferences, often with reinforcement learning from human feedback (RLHF).\\nHowever, RLHF is a complex and often unstable procedure, first fitting a reward model that reflects the human preferences, and then fine-tuning the large unsupervised LM using reinforcement learning to maximize this estimated reward without drifting too far from the original model.\\nIn this paper we introduce a new parameterization of the reward model in RLHF that enables extraction of the corresponding optimal policy in closed form, allowing us to solve the standard RLHF problem with only a simple classification loss.\\nThe resulting algorithm, which we call Direct Preference Optimization (DPO), is stable, performant, and computationally lightweight, eliminating the need for  sampling from the LM during fine-tuning or performing significant hyperparameter tuning.\\nOur experiments show that DPO can fine-tune LMs to align with human preferences as well as or better than existing methods. Notably, fine-tuning with DPO exceeds PPO-based RLHF in ability to control sentiment of generations, and matches or improves response quality in summarization and single-turn dialogue while being substantially simpler to implement and train.\\n1 Introduction\\nLarge unsupervised language models (LMs) trained on very large datasets'),\n",
              " Document(page_content='1 Introduction\\nLarge unsupervised language models (LMs) trained on very large datasets\\nacquire surprising capabilities\\xa0(Chowdhery et\\xa0al., 2022; Brown et\\xa0al., 2020b; Touvron et\\xa0al., 2023; Bubeck et\\xa0al., 2023). However, these models are trained on data generated by humans with a wide variety of goals, priorities, and skillsets. Some of these goals and skillsets may not be desirable to imitate; for example, while we may want our AI coding assistant to understand common programming mistakes in order to correct them, nevertheless, when generating code, we would like to bias our model toward the (potentially rare) high-quality coding ability present in its training data. Similarly, we might want our language model to be aware of a common misconception believed by 50% of people, but we certainly do not want the model to claim this misconception to be true in 50% of queries about it! In other words, selecting the model’s desired responses and behavior from its very wide knowledge and abilities is crucial to building AI systems that are safe, performant, and controllable (Ouyang et\\xa0al., 2022). While existing methods typically steer LMs to match human preferences using reinforcement learning (RL), we will show that the RL-based objective used by existing methods can be optimized exactly with a simple binary cross-entropy objective, greatly simplifying the preference learning pipeline.\\nFigure 1: DPO optimizes for human preferences while avoiding reinforcement learning. Existing methods for fine-tuning language models with human feedback first fit a reward model to a dataset of prompts and human preferences over pairs of responses, and then use RL to find a policy that maximizes the learned reward. In contrast, DPO directly optimizes for the policy best satisfying the preferences with a simple classification objective, fitting an implicit reward model whose corresponding optimal policy can be extracted in closed form.'),\n",
              " Document(page_content='At a high level, existing methods instill the desired behaviors into a language model using curated sets of human preferences representing the types of behaviors that humans find safe and helpful. This preference learning stage occurs after an initial stage of large-scale unsupervised pre-training on a large text dataset. While the most straightforward approach to preference learning is supervised fine-tuning on human demonstrations of high quality responses, the most successful class of methods is reinforcement learning from human (or AI) feedback (RLHF/RLAIF; (Christiano et\\xa0al., 2017; Bai et\\xa0al., 2022b)). RLHF methods fit a reward model to a dataset of human preferences and then use RL to optimize a language model policy to produce responses assigned high reward without drifting excessively far from the original model. While RLHF produces models with impressive conversational and coding abilities, the RLHF pipeline is considerably more complex than supervised learning, involving training multiple LMs and sampling from the LM policy in the loop of training, incurring significant computational costs.\\nIn this paper, we show how to directly optimize a language model to adhere to human preferences, without explicit reward modeling or reinforcement learning.\\nWe propose'),\n",
              " Document(page_content='In this paper, we show how to directly optimize a language model to adhere to human preferences, without explicit reward modeling or reinforcement learning.\\nWe propose\\nDirect Preference Optimization (DPO), an algorithm that implicitly optimizes the same objective as existing RLHF algorithms (reward maximization with a KL-divergence constraint) but is simple to implement and straightforward to train. Intuitively, the DPO update increases the relative log probability of preferred to dispreferred responses, but it incorporates a dynamic, per-example importance weight that prevents the model degeneration that we find occurs with a naive probability ratio objective. Like existing algorithms, DPO relies on a theoretical preference model (such as the Bradley-Terry model; Bradley and Terry (1952)) that measures how well a given reward function aligns with empirical preference data. However, while existing methods use the preference model to define a preference loss to train a reward model and then train a policy that optimizes the learned reward model, DPO uses a change of variables to define the preference loss as a function of the policy directly. Given a dataset of human preferences over model responses, DPO can therefore optimize a policy using a simple binary cross entropy objective, producing the optimal policy to an implicit reward function fit to the preference data.\\nOur main contribution is Direct Preference Optimization (DPO), a simple RL-free algorithm for training language models from preferences. Our experiments show that DPO is at least as effective as existing methods, including PPO-based RLHF, for learning from preferences in tasks such as sentiment modulation, summarization, and dialogue, using language models with up to 6B parameters.\\n2 Related Work'),\n",
              " Document(page_content='2 Related Work\\nSelf-supervised language models of increasing scale learn to complete some tasks zero-shot (Radford et\\xa0al., 2019) or with few-shot prompts (Brown et\\xa0al., 2020a; Narayanan et\\xa0al., 2021; Chowdhery et\\xa0al., 2022). However, their performance on downstream tasks and alignment with user intent can be significantly improved by fine-tuning on datasets of instructions and human-written completions (Mishra et\\xa0al., 2022; Sanh et\\xa0al., 2022; Chung et\\xa0al., 2022; Thoppilan et\\xa0al., 2022). This ‘instruction-tuning’ procedure'),\n",
              " Document(page_content='enables LLMs to generalize to instructions outside of the instruction-tuning set and generally increase their usability (Chung et\\xa0al., 2022). Despite the success of instruction tuning, relative human judgments of response quality are often easier to collect than expert demonstrations, and thus subsequent works have fine-tuned LLMs with datasets of human preferences, improving proficiency in translation (Kreutzer et\\xa0al., 2018), summarization (Stiennon et\\xa0al., 2022; Ziegler et\\xa0al., 2020), story-telling (Ziegler et\\xa0al., 2020), and instruction-following (Ouyang et\\xa0al., 2022; Ramamurthy et\\xa0al., 2023). These methods first optimize a neural network reward function for compatibility with the dataset of preferences under a preference model such as the Bradley-Terry model (Bradley and Terry, 1952), then fine-tune a language model to maximize the given reward using reinforcement learning algorithms, commonly REINFORCE (Williams, 1992), proximal policy optimization (PPO; Schulman et\\xa0al. (2017)), or variants (Ramamurthy et\\xa0al., 2023). A closely-related line of work leverages LLMs fine-tuned for instruction following with human feedback to generate additional synthetic preference data for targeted attributes such as safety or harmlessness (Bai et\\xa0al., 2022b), using only weak supervision from humans in the form of a text rubric for the LLM’s annotations. These methods represent a convergence of two bodies of work: one body of work on training language models with reinforcement learning for a variety of objectives\\xa0(Ranzato et\\xa0al., 2015; Paulus et\\xa0al., 2018; Wu and Hu, 2018) and another body of work on general methods for learning from human preferences (Christiano et\\xa0al., 2017; Kupcsik et\\xa0al., 2018).\\nDespite the appeal of using relative human preferences, fine-tuning large language models with reinforcement learning remains a major practical challenge; this work provides a theoretically-justified approach to optimizing relative preferences without RL.'),\n",
              " Document(page_content='Outside of the context of language, learning policies from preferences has been studied in both bandit and reinforcement learning settings, and several approaches have been proposed. Contextual bandit learning using preferences or rankings of actions, rather than rewards, is known as a contextual dueling bandit (CDB; Yue et\\xa0al. (2012); Dudík et\\xa0al. (2015)). In the absence of absolute rewards, theoretical analysis of CDBs substitutes the notion of an optimal policy with a von Neumann winner, a policy whose expected win rate against any other policy is at least 50% (Dudík et\\xa0al., 2015). However, in the CDB setting, preference labels are given online, while in learning from human preferences, we typically learn from a fixed batch of offline preference-annotated action pairs (Yan et\\xa0al., 2022). Similarly, preference-based RL (PbRL) learns from binary preferences generated by an unknown ‘scoring’ function rather than rewards (Busa-Fekete et\\xa0al., 2014; Saha et\\xa0al., 2023). Various algorithms for PbRL exist, including methods that can reuse off-policy preference data, but generally involve first explicitly estimating the latent scoring function (i.e. the reward model) and subsequently optimizing it (Jain et\\xa0al., 2013; Busa-Fekete et\\xa0al., 2014; Christiano et\\xa0al., 2017; Sadigh et\\xa0al., 2017; Kupcsik et\\xa0al., 2018). We instead present a single stage policy learning approach that directly optimizes a policy to satisfy preferences.\\n3 Preliminaries\\nWe review the RLHF pipeline in Ziegler et\\xa0al. (and later (Stiennon et\\xa0al., 2022; Bai et\\xa0al., 2022a; Ouyang et\\xa0al., 2022)). It usually includes three phases: 1) supervised fine-tuning (SFT); 2) preference sampling and reward learning and 3) RL optimization.\\nSFT: RLHF typically begins by fine-tuning a pre-trained LM with supervised learning on high-quality data for the downstream task(s) of interest (dialogue, summarization, etc.), to obtain a model πSFTsuperscript𝜋SFT\\\\pi^{\\\\text{SFT}}italic_π start_POSTSUPERSCRIPT SFT end_POSTSUPERSCRIPT.'),\n",
              " Document(page_content='Reward Modelling Phase: In the second phase the SFT model is prompted with prompts x𝑥xitalic_x to produce pairs of answers (y1,y2)∼πSFT\\u2062(y∣x)similar-tosubscript𝑦1subscript𝑦2superscript𝜋SFTconditional𝑦𝑥(y_{1},y_{2})\\\\sim\\\\pi^{\\\\text{SFT}}(y\\\\mid x)( italic_y start_POSTSUBSCRIPT 1 end_POSTSUBSCRIPT , italic_y start_POSTSUBSCRIPT 2 end_POSTSUBSCRIPT ) ∼ italic_π start_POSTSUPERSCRIPT SFT end_POSTSUPERSCRIPT ( italic_y ∣ italic_x ). These are then presented to human labelers who express preferences for one answer, denoted as yw≻yl∣xsucceedssubscript𝑦𝑤conditionalsubscript𝑦𝑙𝑥y_{w}\\\\succ y_{l}\\\\mid xitalic_y start_POSTSUBSCRIPT italic_w end_POSTSUBSCRIPT ≻ italic_y start_POSTSUBSCRIPT italic_l end_POSTSUBSCRIPT ∣ italic_x where ywsubscript𝑦𝑤y_{w}italic_y start_POSTSUBSCRIPT italic_w end_POSTSUBSCRIPT and ylsubscript𝑦𝑙y_{l}italic_y start_POSTSUBSCRIPT italic_l end_POSTSUBSCRIPT denotes the preferred and dispreferred completion amongst (y1,y2)subscript𝑦1subscript𝑦2(y_{1},y_{2})( italic_y start_POSTSUBSCRIPT 1 end_POSTSUBSCRIPT , italic_y start_POSTSUBSCRIPT 2 end_POSTSUBSCRIPT ) respectively. The preferences are assumed to be generated by some latent reward model r*\\u2062(y,x)superscript𝑟𝑦𝑥r^{*}(y,x)italic_r start_POSTSUPERSCRIPT * end_POSTSUPERSCRIPT ( italic_y , italic_x ), which we do not have access to. There are a number of approaches used to model preferences, the Bradley-Terry (BT) Bradley and Terry (1952) model being a popular choice (although more general Plackett-Luce ranking models (Plackett, 1975; Luce, 2012) are also compatible with the framework if we have access to several ranked answers). The BT model stipulates that the human preference distribution p*superscript𝑝p^{*}italic_p start_POSTSUPERSCRIPT * end_POSTSUPERSCRIPT can be written as:'),\n",
              " Document(page_content='p*\\u2062(y1≻y2∣x)=exp\\u2061(r*\\u2062(x,y1))exp\\u2061(r*\\u2062(x,y1))+exp\\u2061(r*\\u2062(x,y2)).superscript𝑝succeedssubscript𝑦1conditionalsubscript𝑦2𝑥superscript𝑟𝑥subscript𝑦1superscript𝑟𝑥subscript𝑦1superscript𝑟𝑥subscript𝑦2p^{*}(y_{1}\\\\succ y_{2}\\\\mid x)=\\\\frac{\\\\exp\\\\left(r^{*}(x,y_{1})\\\\right)}{\\\\exp\\\\left%\\n(r^{*}(x,y_{1})\\\\right)+\\\\exp\\\\left(r^{*}(x,y_{2})\\\\right)}.italic_p start_POSTSUPERSCRIPT * end_POSTSUPERSCRIPT ( italic_y start_POSTSUBSCRIPT 1 end_POSTSUBSCRIPT ≻ italic_y start_POSTSUBSCRIPT 2 end_POSTSUBSCRIPT ∣ italic_x ) = divide start_ARG roman_exp ( italic_r start_POSTSUPERSCRIPT * end_POSTSUPERSCRIPT ( italic_x , italic_y start_POSTSUBSCRIPT 1 end_POSTSUBSCRIPT ) ) end_ARG start_ARG roman_exp ( italic_r start_POSTSUPERSCRIPT * end_POSTSUPERSCRIPT ( italic_x , italic_y start_POSTSUBSCRIPT 1 end_POSTSUBSCRIPT ) ) + roman_exp ( italic_r start_POSTSUPERSCRIPT * end_POSTSUPERSCRIPT ( italic_x , italic_y start_POSTSUBSCRIPT 2 end_POSTSUBSCRIPT ) ) end_ARG .\\n(1)\\nAssuming access to a static dataset of comparisons 𝒟={x(i),yw(i),yl(i)}i=1N𝒟superscriptsubscriptsuperscript𝑥𝑖superscriptsubscript𝑦𝑤𝑖superscriptsubscript𝑦𝑙𝑖𝑖1𝑁\\\\mathcal{D}=\\\\bigl{\\\\{}x^{(i)},y_{w}^{(i)},y_{l}^{(i)}\\\\bigr{\\\\}}_{i=1}^{N}caligraphic_D = { italic_x start_POSTSUPERSCRIPT ( italic_i ) end_POSTSUPERSCRIPT , italic_y start_POSTSUBSCRIPT italic_w end_POSTSUBSCRIPT start_POSTSUPERSCRIPT ( italic_i ) end_POSTSUPERSCRIPT , italic_y start_POSTSUBSCRIPT italic_l end_POSTSUBSCRIPT start_POSTSUPERSCRIPT ( italic_i ) end_POSTSUPERSCRIPT } start_POSTSUBSCRIPT italic_i = 1 end_POSTSUBSCRIPT start_POSTSUPERSCRIPT italic_N end_POSTSUPERSCRIPT sampled from p*superscript𝑝p^{*}italic_p start_POSTSUPERSCRIPT * end_POSTSUPERSCRIPT, we can parametrize a reward model rϕ\\u2062(x,y)subscript𝑟italic-ϕ𝑥𝑦r_{\\\\phi}(x,y)italic_r start_POSTSUBSCRIPT italic_ϕ end_POSTSUBSCRIPT ( italic_x , italic_y ) and estimate the parameters via maximum likelihood. Framing the problem as a binary classification we have the negative log-likelihood loss:'),\n",
              " Document(page_content='ℒR\\u2062(rϕ,𝒟)=−𝔼(x,yw,yl)∼𝒟\\u2062[log\\u2061σ\\u2062(rϕ\\u2062(x,yw)−rϕ\\u2062(x,yl))]subscriptℒ𝑅subscript𝑟italic-ϕ𝒟subscript𝔼similar-to𝑥subscript𝑦𝑤subscript𝑦𝑙𝒟delimited-[]𝜎subscript𝑟italic-ϕ𝑥subscript𝑦𝑤subscript𝑟italic-ϕ𝑥subscript𝑦𝑙\\\\mathcal{L}_{R}(r_{\\\\phi},\\\\mathcal{D})=-\\\\mathbb{E}_{(x,y_{w},y_{l})\\\\sim\\\\mathcal%\\n{D}}\\\\bigl{[}\\\\log\\\\sigma(r_{\\\\phi}(x,y_{w})-r_{\\\\phi}(x,y_{l}))\\\\bigr{]}caligraphic_L start_POSTSUBSCRIPT italic_R end_POSTSUBSCRIPT ( italic_r start_POSTSUBSCRIPT italic_ϕ end_POSTSUBSCRIPT , caligraphic_D ) = - blackboard_E start_POSTSUBSCRIPT ( italic_x , italic_y start_POSTSUBSCRIPT italic_w end_POSTSUBSCRIPT , italic_y start_POSTSUBSCRIPT italic_l end_POSTSUBSCRIPT ) ∼ caligraphic_D end_POSTSUBSCRIPT [ roman_log italic_σ ( italic_r start_POSTSUBSCRIPT italic_ϕ end_POSTSUBSCRIPT ( italic_x , italic_y start_POSTSUBSCRIPT italic_w end_POSTSUBSCRIPT ) - italic_r start_POSTSUBSCRIPT italic_ϕ end_POSTSUBSCRIPT ( italic_x , italic_y start_POSTSUBSCRIPT italic_l end_POSTSUBSCRIPT ) ) ]\\n(2)\\nwhere σ𝜎\\\\sigmaitalic_σ is the logistic function. In the context of LMs, the network rϕ\\u2062(x,y)subscript𝑟italic-ϕ𝑥𝑦r_{\\\\phi}(x,y)italic_r start_POSTSUBSCRIPT italic_ϕ end_POSTSUBSCRIPT ( italic_x , italic_y ) is often initialized from the SFT model πSFT\\u2062(y∣x)superscript𝜋SFTconditional𝑦𝑥\\\\pi^{\\\\text{SFT}}(y\\\\mid x)italic_π start_POSTSUPERSCRIPT SFT end_POSTSUPERSCRIPT ( italic_y ∣ italic_x ) with the addition of a linear layer on top of the final transformer layer that produces a single scalar prediction for the reward value Ziegler et\\xa0al. (2020). To ensure a reward function with lower variance, prior works normalize the rewards, such that 𝔼x,y∼𝒟\\u2062[rϕ\\u2062(x,y)]=0subscript𝔼similar-to𝑥𝑦𝒟delimited-[]subscript𝑟italic-ϕ𝑥𝑦0\\\\mathbb{E}_{x,y\\\\sim\\\\mathcal{D}}\\\\left[r_{\\\\phi}(x,y)\\\\right]=0blackboard_E start_POSTSUBSCRIPT italic_x , italic_y ∼ caligraphic_D end_POSTSUBSCRIPT [ italic_r start_POSTSUBSCRIPT italic_ϕ end_POSTSUBSCRIPT ( italic_x , italic_y ) ] = 0 for all x𝑥xitalic_x.'),\n",
              " Document(page_content='RL Fine-Tuning Phase: During the RL phase, we use the learned reward function to provide feedback to the language model. In particular, we formulate the following optimization problem\\nmaxπθ𝔼x∼𝒟,y∼πθ\\u2062(y∣x)[rϕ(x,y)]−β𝔻KL[πθ(y∣x)∣∣πref(y∣x)]\\\\max_{\\\\pi_{\\\\theta}}\\\\mathbb{E}_{x\\\\sim\\\\mathcal{D},y\\\\sim\\\\pi_{\\\\theta}(y\\\\mid x)}%\\n\\\\bigl{[}r_{\\\\phi}(x,y)\\\\bigr{]}-\\\\beta\\\\mathbb{D}_{\\\\textrm{KL}}\\\\bigl{[}\\\\pi_{\\\\theta%\\n}(y\\\\mid x)\\\\mid\\\\mid\\\\pi_{\\\\text{ref}}(y\\\\mid x)\\\\bigr{]}roman_max start_POSTSUBSCRIPT italic_π start_POSTSUBSCRIPT italic_θ end_POSTSUBSCRIPT end_POSTSUBSCRIPT blackboard_E start_POSTSUBSCRIPT italic_x ∼ caligraphic_D , italic_y ∼ italic_π start_POSTSUBSCRIPT italic_θ end_POSTSUBSCRIPT ( italic_y ∣ italic_x ) end_POSTSUBSCRIPT [ italic_r start_POSTSUBSCRIPT italic_ϕ end_POSTSUBSCRIPT ( italic_x , italic_y ) ] - italic_β blackboard_D start_POSTSUBSCRIPT KL end_POSTSUBSCRIPT [ italic_π start_POSTSUBSCRIPT italic_θ end_POSTSUBSCRIPT ( italic_y ∣ italic_x ) ∣ ∣ italic_π start_POSTSUBSCRIPT ref end_POSTSUBSCRIPT ( italic_y ∣ italic_x ) ]\\n(3)\\nwhere β𝛽\\\\betaitalic_β is a parameter controlling the deviation from the base reference policy πrefsubscript𝜋ref\\\\pi_{\\\\text{ref}}italic_π start_POSTSUBSCRIPT ref end_POSTSUBSCRIPT, namely the initial SFT model πSFTsuperscript𝜋SFT\\\\pi^{\\\\text{SFT}}italic_π start_POSTSUPERSCRIPT SFT end_POSTSUPERSCRIPT.'),\n",
              " Document(page_content='In practice, the language model policy πθsubscript𝜋𝜃\\\\pi_{\\\\theta}italic_π start_POSTSUBSCRIPT italic_θ end_POSTSUBSCRIPT is also initialized to πSFTsuperscript𝜋SFT\\\\pi^{\\\\text{SFT}}italic_π start_POSTSUPERSCRIPT SFT end_POSTSUPERSCRIPT. The added constraint is important, as it prevents the model from deviating too far from the distribution on which the reward model is accurate, as well as maintaining the generation diversity and preventing mode-collapse to single high-reward answers. Due to the discrete nature of language generation, this objective is not differentiable and is typically optimized with reinforcement learning. The standard approach (Ziegler et\\xa0al., 2020; Stiennon et\\xa0al., 2022; Bai et\\xa0al., 2022a; Ouyang et\\xa0al., 2022) has been to construct the reward function r\\u2062(x,y)=rϕ\\u2062(x,y)−β\\u2062(log\\u2061πθ\\u2062(y∣x)−log\\u2061πref\\u2062(y∣x))𝑟𝑥𝑦subscript𝑟italic-ϕ𝑥𝑦𝛽subscript𝜋𝜃conditional𝑦𝑥subscript𝜋refconditional𝑦𝑥{r(x,y)=r_{\\\\phi}(x,y)-\\\\beta(\\\\log\\\\pi_{\\\\theta}(y\\\\mid x)-\\\\log\\\\pi_{\\\\text{ref}}(y%\\n\\\\mid x))}italic_r ( italic_x , italic_y ) = italic_r start_POSTSUBSCRIPT italic_ϕ end_POSTSUBSCRIPT ( italic_x , italic_y ) - italic_β ( roman_log italic_π start_POSTSUBSCRIPT italic_θ end_POSTSUBSCRIPT ( italic_y ∣ italic_x ) - roman_log italic_π start_POSTSUBSCRIPT ref end_POSTSUBSCRIPT ( italic_y ∣ italic_x ) ), and maximize using PPO Schulman et\\xa0al. (2017).\\n4 Direct Preference Optimization\\nMotivated by the challenges of applying reinforcement learning algorithms on large-scale problems such as fine-tuning language models, our goal is to derive a simple approach for policy optimization using preferences directly. Unlike prior RLHF methods, which learn a reward and then optimize it via RL, our approach leverages a particular choice of reward model parameterization that enables extraction of its optimal policy in closed form, without an RL training loop.'),\n",
              " Document(page_content='As we will describe next in detail, our key insight is to leverage an analytical mapping from reward functions to optimal policies, which enables us to transform a loss function over reward functions into a loss function over policies.\\nThis change-of-variables approach avoids fitting an explicit, standalone reward model, while still optimizing under existing models of human preferences, such as the Bradley-Terry model. In essence, the policy network represents both the language model and the (implicit) reward.\\nDeriving the DPO objective. We start with the same RL objective as prior work, Eq.\\xa03, under a general reward function r𝑟ritalic_r. Following prior work\\xa0(Peters and Schaal, 2007; Peng et\\xa0al., 2019; Korbak et\\xa0al., 2022; Go et\\xa0al., 2023), it is straightforward to show that the optimal solution to the KL-constrained reward maximization objective in Eq.\\xa03 takes the form:\\nπr\\u2062(y∣x)=1Z\\u2062(x)\\u2062πref\\u2062(y∣x)\\u2062exp\\u2061(1β\\u2062r\\u2062(x,y)),subscript𝜋𝑟conditional𝑦𝑥1𝑍𝑥subscript𝜋refconditional𝑦𝑥1𝛽𝑟𝑥𝑦\\\\pi_{r}(y\\\\mid x)=\\\\frac{1}{Z(x)}\\\\pi_{\\\\text{ref}}(y\\\\mid x)\\\\exp\\\\left(\\\\frac{1}{%\\n\\\\beta}r(x,y)\\\\right),italic_π start_POSTSUBSCRIPT italic_r end_POSTSUBSCRIPT ( italic_y ∣ italic_x ) = divide start_ARG 1 end_ARG start_ARG italic_Z ( italic_x ) end_ARG italic_π start_POSTSUBSCRIPT ref end_POSTSUBSCRIPT ( italic_y ∣ italic_x ) roman_exp ( divide start_ARG 1 end_ARG start_ARG italic_β end_ARG italic_r ( italic_x , italic_y ) ) ,\\n(4)'),\n",
              " Document(page_content='(4)\\nwhere Z\\u2062(x)=∑yπref\\u2062(y∣x)\\u2062exp\\u2061(1β\\u2062r\\u2062(x,y))𝑍𝑥subscript𝑦subscript𝜋refconditional𝑦𝑥1𝛽𝑟𝑥𝑦Z(x)=\\\\sum_{y}\\\\pi_{\\\\text{ref}}(y\\\\mid x)\\\\exp\\\\left(\\\\frac{1}{\\\\beta}r(x,y)\\\\right)italic_Z ( italic_x ) = ∑ start_POSTSUBSCRIPT italic_y end_POSTSUBSCRIPT italic_π start_POSTSUBSCRIPT ref end_POSTSUBSCRIPT ( italic_y ∣ italic_x ) roman_exp ( divide start_ARG 1 end_ARG start_ARG italic_β end_ARG italic_r ( italic_x , italic_y ) ) is the partition function. See Appendix A.1 for a complete derivation. Even if we use the MLE estimate rϕsubscript𝑟italic-ϕr_{\\\\phi}italic_r start_POSTSUBSCRIPT italic_ϕ end_POSTSUBSCRIPT of the ground-truth reward function r*superscript𝑟r^{*}italic_r start_POSTSUPERSCRIPT * end_POSTSUPERSCRIPT, it is still expensive to estimate the partition function Z\\u2062(x)𝑍𝑥Z(x)italic_Z ( italic_x ) (Korbak et\\xa0al., 2022; Go et\\xa0al., 2023), which makes this representation hard to utilize in practice. However, we can rearrange Eq.\\xa04 to express the reward function in terms of its corresponding optimal policy πrsubscript𝜋𝑟\\\\pi_{r}italic_π start_POSTSUBSCRIPT italic_r end_POSTSUBSCRIPT, the reference policy πrefsubscript𝜋ref\\\\pi_{\\\\text{ref}}italic_π start_POSTSUBSCRIPT ref end_POSTSUBSCRIPT, and the unknown partition function Z\\u2062(⋅)𝑍⋅Z(\\\\cdot)italic_Z ( ⋅ ). Specifically, we first take the logarithm of both sides of Eq.\\xa04 and then with some algebra we obtain:\\nr\\u2062(x,y)=β\\u2062log\\u2061πr\\u2062(y∣x)πref\\u2062(y∣x)+β\\u2062log\\u2061Z\\u2062(x).𝑟𝑥𝑦𝛽subscript𝜋𝑟conditional𝑦𝑥subscript𝜋refconditional𝑦𝑥𝛽𝑍𝑥r(x,y)=\\\\beta\\\\log\\\\frac{\\\\pi_{r}(y\\\\mid x)}{\\\\pi_{\\\\text{ref}}(y\\\\mid x)}+\\\\beta\\\\log Z%\\n(x).italic_r ( italic_x , italic_y ) = italic_β roman_log divide start_ARG italic_π start_POSTSUBSCRIPT italic_r end_POSTSUBSCRIPT ( italic_y ∣ italic_x ) end_ARG start_ARG italic_π start_POSTSUBSCRIPT ref end_POSTSUBSCRIPT ( italic_y ∣ italic_x ) end_ARG + italic_β roman_log italic_Z ( italic_x ) .\\n(5)'),\n",
              " Document(page_content='(5)\\nWe can apply this reparameterization to the ground-truth reward r*superscript𝑟r^{*}italic_r start_POSTSUPERSCRIPT * end_POSTSUPERSCRIPT and corresponding optimal model π*superscript𝜋\\\\pi^{*}italic_π start_POSTSUPERSCRIPT * end_POSTSUPERSCRIPT. Fortunately, the Bradley-Terry model depends only on the difference of rewards between two completions, i.e., p*\\u2062(y1≻y2∣x)=σ\\u2062(r*\\u2062(x,y1)−r*\\u2062(x,y2))superscript𝑝succeedssubscript𝑦1conditionalsubscript𝑦2𝑥𝜎superscript𝑟𝑥subscript𝑦1superscript𝑟𝑥subscript𝑦2{p^{*}(y_{1}\\\\succ y_{2}\\\\mid x)=\\\\sigma(r^{*}(x,y_{1})-r^{*}(x,y_{2}))}italic_p start_POSTSUPERSCRIPT * end_POSTSUPERSCRIPT ( italic_y start_POSTSUBSCRIPT 1 end_POSTSUBSCRIPT ≻ italic_y start_POSTSUBSCRIPT 2 end_POSTSUBSCRIPT ∣ italic_x ) = italic_σ ( italic_r start_POSTSUPERSCRIPT * end_POSTSUPERSCRIPT ( italic_x , italic_y start_POSTSUBSCRIPT 1 end_POSTSUBSCRIPT ) - italic_r start_POSTSUPERSCRIPT * end_POSTSUPERSCRIPT ( italic_x , italic_y start_POSTSUBSCRIPT 2 end_POSTSUBSCRIPT ) ). Substituting the reparameterization in Eq.\\xa05 for r*\\u2062(x,y)superscript𝑟𝑥𝑦r^{*}(x,y)italic_r start_POSTSUPERSCRIPT * end_POSTSUPERSCRIPT ( italic_x , italic_y ) into the preference model Eq.\\xa01, the partition function cancels, and we can express the human preference probability in terms of only the optimal policy π*superscript𝜋\\\\pi^{*}italic_π start_POSTSUPERSCRIPT * end_POSTSUPERSCRIPT and reference policy πrefsubscript𝜋ref\\\\pi_{\\\\text{ref}}italic_π start_POSTSUBSCRIPT ref end_POSTSUBSCRIPT. Thus, the optimal RLHF policy π*superscript𝜋\\\\pi^{*}italic_π start_POSTSUPERSCRIPT * end_POSTSUPERSCRIPT under the Bradley-Terry model satisfies the preference model:\\np*\\u2062(y1≻y2∣x)=11+exp\\u2061(β\\u2062log\\u2061π*\\u2062(y2∣x)πref\\u2062(y2∣x)−β\\u2062log\\u2061π*\\u2062(y1∣x)πref\\u2062(y1∣x))superscript𝑝succeedssubscript𝑦1conditionalsubscript𝑦2𝑥11𝛽superscript𝜋conditionalsubscript𝑦2𝑥subscript𝜋refconditionalsubscript𝑦2𝑥𝛽superscript𝜋conditionalsubscript𝑦1𝑥subscript𝜋refconditionalsubscript𝑦1𝑥p^{*}(y_{1}\\\\succ y_{2}\\\\mid x)=\\\\frac{1}{1+\\\\exp\\\\left(\\\\beta\\\\log\\\\frac{\\\\pi^{*}(y_{2%'),\n",
              " Document(page_content='}\\\\mid x)}{\\\\pi_{\\\\text{ref}}(y_{2}\\\\mid x)}-\\\\beta\\\\log\\\\frac{\\\\pi^{*}(y_{1}\\\\mid x)}{%\\n\\\\pi_{\\\\text{ref}}(y_{1}\\\\mid x)}\\\\right)}italic_p start_POSTSUPERSCRIPT * end_POSTSUPERSCRIPT ( italic_y start_POSTSUBSCRIPT 1 end_POSTSUBSCRIPT ≻ italic_y start_POSTSUBSCRIPT 2 end_POSTSUBSCRIPT ∣ italic_x ) = divide start_ARG 1 end_ARG start_ARG 1 + roman_exp ( italic_β roman_log divide start_ARG italic_π start_POSTSUPERSCRIPT * end_POSTSUPERSCRIPT ( italic_y start_POSTSUBSCRIPT 2 end_POSTSUBSCRIPT ∣ italic_x ) end_ARG start_ARG italic_π start_POSTSUBSCRIPT ref end_POSTSUBSCRIPT ( italic_y start_POSTSUBSCRIPT 2 end_POSTSUBSCRIPT ∣ italic_x ) end_ARG - italic_β roman_log divide start_ARG italic_π start_POSTSUPERSCRIPT * end_POSTSUPERSCRIPT ( italic_y start_POSTSUBSCRIPT 1 end_POSTSUBSCRIPT ∣ italic_x ) end_ARG start_ARG italic_π start_POSTSUBSCRIPT ref end_POSTSUBSCRIPT ( italic_y start_POSTSUBSCRIPT 1 end_POSTSUBSCRIPT ∣ italic_x ) end_ARG ) end_ARG\\n(6)\\nThe derivation is in Appendix\\xa0A.2. While Eq.\\xa06 uses the Bradley-Terry model, we can similarly derive expressions under the more general Plackett-Luce models\\xa0(Plackett, 1975; Luce, 2012), shown in Appendix\\xa0A.3.\\nNow that we have\\nthe probability of human preference data in terms of the optimal policy rather than the reward model, we can formulate a maximum likelihood objective for a parametrized policy πθsubscript𝜋𝜃\\\\pi_{\\\\theta}italic_π start_POSTSUBSCRIPT italic_θ end_POSTSUBSCRIPT. Analogous to the reward modeling approach (i.e. Eq.\\xa02), our policy objective becomes:\\nℒDPO\\u2062(πθ;πref)=−𝔼(x,yw,yl)∼𝒟\\u2062[log\\u2061σ\\u2062(β\\u2062log\\u2061πθ\\u2062(yw∣x)πref\\u2062(yw∣x)−β\\u2062log\\u2061πθ\\u2062(yl∣x)πref\\u2062(yl∣x))].subscriptℒDPOsubscript𝜋𝜃subscript𝜋refsubscript𝔼similar-to𝑥subscript𝑦𝑤subscript𝑦𝑙𝒟delimited-[]𝜎𝛽subscript𝜋𝜃conditionalsubscript𝑦𝑤𝑥subscript𝜋refconditionalsubscript𝑦𝑤𝑥𝛽subscript𝜋𝜃conditionalsubscript𝑦𝑙𝑥subscript𝜋refconditionalsubscript𝑦𝑙𝑥\\\\mathcal{L}_{\\\\text{DPO}}(\\\\pi_{\\\\theta};\\\\pi_{\\\\text{ref}})=-\\\\mathbb{E}_{(x,y_{w},%'),\n",
              " Document(page_content='y_{l})\\\\sim\\\\mathcal{D}}\\\\left[\\\\log\\\\sigma\\\\left(\\\\beta\\\\log\\\\frac{\\\\pi_{\\\\theta}(y_{w}%\\n\\\\mid x)}{\\\\pi_{\\\\text{ref}}(y_{w}\\\\mid x)}-\\\\beta\\\\log\\\\frac{\\\\pi_{\\\\theta}(y_{l}\\\\mid x%\\n)}{\\\\pi_{\\\\text{ref}}(y_{l}\\\\mid x)}\\\\right)\\\\right].caligraphic_L start_POSTSUBSCRIPT DPO end_POSTSUBSCRIPT ( italic_π start_POSTSUBSCRIPT italic_θ end_POSTSUBSCRIPT ; italic_π start_POSTSUBSCRIPT ref end_POSTSUBSCRIPT ) = - blackboard_E start_POSTSUBSCRIPT ( italic_x , italic_y start_POSTSUBSCRIPT italic_w end_POSTSUBSCRIPT , italic_y start_POSTSUBSCRIPT italic_l end_POSTSUBSCRIPT ) ∼ caligraphic_D end_POSTSUBSCRIPT [ roman_log italic_σ ( italic_β roman_log divide start_ARG italic_π start_POSTSUBSCRIPT italic_θ end_POSTSUBSCRIPT ( italic_y start_POSTSUBSCRIPT italic_w end_POSTSUBSCRIPT ∣ italic_x ) end_ARG start_ARG italic_π start_POSTSUBSCRIPT ref end_POSTSUBSCRIPT ( italic_y start_POSTSUBSCRIPT italic_w end_POSTSUBSCRIPT ∣ italic_x ) end_ARG - italic_β roman_log divide start_ARG italic_π start_POSTSUBSCRIPT italic_θ end_POSTSUBSCRIPT ( italic_y start_POSTSUBSCRIPT italic_l end_POSTSUBSCRIPT ∣ italic_x ) end_ARG start_ARG italic_π start_POSTSUBSCRIPT ref end_POSTSUBSCRIPT ( italic_y start_POSTSUBSCRIPT italic_l end_POSTSUBSCRIPT ∣ italic_x ) end_ARG ) ] .\\n(7)\\nThis way, we fit an implicit reward using an alternative parameterization, whose optimal policy is simply πθsubscript𝜋𝜃\\\\pi_{\\\\theta}italic_π start_POSTSUBSCRIPT italic_θ end_POSTSUBSCRIPT. Moreover, since our procedure is equivalent to fitting a reparametrized Bradley-Terry model, it enjoys certain theoretical properties, such as consistencies under suitable assumption of the preference data distribution Bong and Rinaldo (2022). In Section\\xa05, we further discuss theoretical properties of DPO in relation to other works.'),\n",
              " Document(page_content='What does the DPO update do? For a mechanistic understanding of DPO, it is useful to analyze the gradient of the loss function ℒDPOsubscriptℒDPO\\\\mathcal{L}_{\\\\text{DPO}}caligraphic_L start_POSTSUBSCRIPT DPO end_POSTSUBSCRIPT. The gradient with respect to the parameters θ𝜃\\\\thetaitalic_θ can be written as:\\n∇θℒDPO\\u2062(πθ;πref)=−β\\u2062𝔼(x,yw,yl)∼𝒟\\u2062[σ\\u2062(r^θ\\u2062(x,yl)−r^θ\\u2062(x,yw))⏟higher weight when reward estimate is wrong\\u2062[∇θlog\\u2061π\\u2062(yw∣x)⏟increase likelihood of\\xa0yw−∇θlog\\u2061π\\u2062(yl∣x)⏟decrease likelihood of\\xa0yl]],subscript∇𝜃subscriptℒDPOsubscript𝜋𝜃subscript𝜋ref𝛽subscript𝔼similar-to𝑥subscript𝑦𝑤subscript𝑦𝑙𝒟delimited-[]subscript⏟𝜎subscript^𝑟𝜃𝑥subscript𝑦𝑙subscript^𝑟𝜃𝑥subscript𝑦𝑤higher weight when reward estimate is wrongdelimited-[]subscript⏟subscript∇𝜃𝜋conditionalsubscript𝑦𝑤𝑥increase likelihood of\\xa0ywsubscript⏟subscript∇𝜃𝜋conditionalsubscript𝑦𝑙𝑥decrease likelihood of\\xa0yl\\\\nabla_{\\\\theta}\\\\mathcal{L}_{\\\\text{DPO}}(\\\\pi_{\\\\theta};\\\\pi_{\\\\text{ref}})=\\\\\\\\\\n-\\\\beta\\\\mathbb{E}_{(x,y_{w},y_{l})\\\\sim\\\\mathcal{D}}\\\\bigg{[}\\\\underbrace{\\\\sigma(%\\n\\\\hat{r}_{\\\\theta}(x,y_{l})-\\\\hat{r}_{\\\\theta}(x,y_{w}))}_{\\\\text{higher weight %\\nwhen reward estimate is wrong}}\\\\bigg{[}\\\\underbrace{\\\\nabla_{\\\\theta}\\\\log\\\\pi(y_{w%\\n}\\\\mid x)}_{\\\\text{increase likelihood of $y_{w}$}}-\\\\underbrace{\\\\nabla_{\\\\theta}%'),\n",
              " Document(page_content='when reward estimate is wrong}}\\\\bigg{[}\\\\underbrace{\\\\nabla_{\\\\theta}\\\\log\\\\pi(y_{w%\\n}\\\\mid x)}_{\\\\text{increase likelihood of $y_{w}$}}-\\\\underbrace{\\\\nabla_{\\\\theta}%\\n\\\\log\\\\pi(y_{l}\\\\mid x)}_{\\\\text{decrease likelihood of $y_{l}$}}\\\\bigg{]}\\\\bigg{]},start_ROW start_CELL ∇ start_POSTSUBSCRIPT italic_θ end_POSTSUBSCRIPT caligraphic_L start_POSTSUBSCRIPT DPO end_POSTSUBSCRIPT ( italic_π start_POSTSUBSCRIPT italic_θ end_POSTSUBSCRIPT ; italic_π start_POSTSUBSCRIPT ref end_POSTSUBSCRIPT ) = end_CELL end_ROW start_ROW start_CELL - italic_β blackboard_E start_POSTSUBSCRIPT ( italic_x , italic_y start_POSTSUBSCRIPT italic_w end_POSTSUBSCRIPT , italic_y start_POSTSUBSCRIPT italic_l end_POSTSUBSCRIPT ) ∼ caligraphic_D end_POSTSUBSCRIPT [ under⏟ start_ARG italic_σ ( over^ start_ARG italic_r end_ARG start_POSTSUBSCRIPT italic_θ end_POSTSUBSCRIPT ( italic_x , italic_y start_POSTSUBSCRIPT italic_l end_POSTSUBSCRIPT ) - over^ start_ARG italic_r end_ARG start_POSTSUBSCRIPT italic_θ end_POSTSUBSCRIPT ( italic_x , italic_y start_POSTSUBSCRIPT italic_w end_POSTSUBSCRIPT ) ) end_ARG start_POSTSUBSCRIPT higher weight when reward estimate is wrong end_POSTSUBSCRIPT [ under⏟ start_ARG ∇ start_POSTSUBSCRIPT italic_θ end_POSTSUBSCRIPT roman_log italic_π ( italic_y start_POSTSUBSCRIPT italic_w end_POSTSUBSCRIPT ∣ italic_x ) end_ARG start_POSTSUBSCRIPT increase likelihood of italic_y start_POSTSUBSCRIPT italic_w end_POSTSUBSCRIPT end_POSTSUBSCRIPT - under⏟ start_ARG ∇ start_POSTSUBSCRIPT italic_θ end_POSTSUBSCRIPT roman_log italic_π ( italic_y start_POSTSUBSCRIPT italic_l end_POSTSUBSCRIPT ∣ italic_x ) end_ARG start_POSTSUBSCRIPT decrease likelihood of italic_y start_POSTSUBSCRIPT italic_l end_POSTSUBSCRIPT end_POSTSUBSCRIPT ] ] , end_CELL end_ROW\\nwhere r^θ\\u2062(x,y)=β\\u2062log\\u2061πθ\\u2062(y∣x)πref\\u2062(y∣x)subscript^𝑟𝜃𝑥𝑦𝛽subscript𝜋𝜃conditional𝑦𝑥subscript𝜋refconditional𝑦𝑥\\\\hat{r}_{\\\\theta}(x,y)=\\\\beta\\\\log\\\\frac{\\\\pi_{\\\\theta}(y\\\\mid x)}{\\\\pi_{\\\\text{ref}}(y%'),\n",
              " Document(page_content='where r^θ\\u2062(x,y)=β\\u2062log\\u2061πθ\\u2062(y∣x)πref\\u2062(y∣x)subscript^𝑟𝜃𝑥𝑦𝛽subscript𝜋𝜃conditional𝑦𝑥subscript𝜋refconditional𝑦𝑥\\\\hat{r}_{\\\\theta}(x,y)=\\\\beta\\\\log\\\\frac{\\\\pi_{\\\\theta}(y\\\\mid x)}{\\\\pi_{\\\\text{ref}}(y%\\n\\\\mid x)}over^ start_ARG italic_r end_ARG start_POSTSUBSCRIPT italic_θ end_POSTSUBSCRIPT ( italic_x , italic_y ) = italic_β roman_log divide start_ARG italic_π start_POSTSUBSCRIPT italic_θ end_POSTSUBSCRIPT ( italic_y ∣ italic_x ) end_ARG start_ARG italic_π start_POSTSUBSCRIPT ref end_POSTSUBSCRIPT ( italic_y ∣ italic_x ) end_ARG is the reward implicitly defined by the language model πθsubscript𝜋𝜃\\\\pi_{\\\\theta}italic_π start_POSTSUBSCRIPT italic_θ end_POSTSUBSCRIPT and reference model πrefsubscript𝜋ref\\\\pi_{\\\\text{ref}}italic_π start_POSTSUBSCRIPT ref end_POSTSUBSCRIPT (more in Section\\xa05). Intuitively, the gradient of the loss function ℒDPOsubscriptℒDPO\\\\mathcal{L}_{\\\\text{DPO}}caligraphic_L start_POSTSUBSCRIPT DPO end_POSTSUBSCRIPT increases the likelihood of the preferred completions ywsubscript𝑦𝑤y_{w}italic_y start_POSTSUBSCRIPT italic_w end_POSTSUBSCRIPT and decreases the likelihood of dispreferred completions ylsubscript𝑦𝑙y_{l}italic_y start_POSTSUBSCRIPT italic_l end_POSTSUBSCRIPT. Importantly, the examples are weighed by how much higher the implicit reward model r^θsubscript^𝑟𝜃\\\\hat{r}_{\\\\theta}over^ start_ARG italic_r end_ARG start_POSTSUBSCRIPT italic_θ end_POSTSUBSCRIPT rates the dispreferred completions, scaled by β𝛽\\\\betaitalic_β, i.e, how incorrectly the implicit reward model orders the completions, accounting for the strength of the KL constraint. Our experiments suggest the importance of this weighting, as a naïve version of this method without the weighting coefficient can cause the language model to degenerate (Appendix Table\\xa03).\\nDPO outline.'),\n",
              " Document(page_content='DPO outline.\\nThe general DPO pipeline is as follows: 1) Sample completions y1,y2∼πref(⋅∣x)y_{1},y_{2}\\\\sim\\\\pi_{\\\\text{ref}}(\\\\cdot\\\\mid x)italic_y start_POSTSUBSCRIPT 1 end_POSTSUBSCRIPT , italic_y start_POSTSUBSCRIPT 2 end_POSTSUBSCRIPT ∼ italic_π start_POSTSUBSCRIPT ref end_POSTSUBSCRIPT ( ⋅ ∣ italic_x ) for every prompt x𝑥xitalic_x, label with human preferences to construct the offline dataset of preferences 𝒟={x(i),yw(i),yl)(i)}i=1N\\\\mathcal{D}=\\\\{x^{(i)},y_{w}^{(i)},y_{l})^{(i)}\\\\}_{i=1}^{N}caligraphic_D = { italic_x start_POSTSUPERSCRIPT ( italic_i ) end_POSTSUPERSCRIPT , italic_y start_POSTSUBSCRIPT italic_w end_POSTSUBSCRIPT start_POSTSUPERSCRIPT ( italic_i ) end_POSTSUPERSCRIPT , italic_y start_POSTSUBSCRIPT italic_l end_POSTSUBSCRIPT ) start_POSTSUPERSCRIPT ( italic_i ) end_POSTSUPERSCRIPT } start_POSTSUBSCRIPT italic_i = 1 end_POSTSUBSCRIPT start_POSTSUPERSCRIPT italic_N end_POSTSUPERSCRIPT and 2) optimize the language model πθsubscript𝜋𝜃\\\\pi_{\\\\theta}italic_π start_POSTSUBSCRIPT italic_θ end_POSTSUBSCRIPT to minimize ℒDPOsubscriptℒDPO\\\\mathcal{L}_{\\\\text{DPO}}caligraphic_L start_POSTSUBSCRIPT DPO end_POSTSUBSCRIPT for the given πrefsubscript𝜋ref\\\\pi_{\\\\text{ref}}italic_π start_POSTSUBSCRIPT ref end_POSTSUBSCRIPT and 𝒟𝒟\\\\mathcal{D}caligraphic_D and desired β𝛽\\\\betaitalic_β.'),\n",
              " Document(page_content='In practice, one would like to reuse preference datasets publicly available, rather than generating samples and gathering human preferences. Since the preference datasets are sampled using πSFTsuperscript𝜋SFT\\\\pi^{\\\\text{SFT}}italic_π start_POSTSUPERSCRIPT SFT end_POSTSUPERSCRIPT, we initialize πref=πSFTsubscript𝜋refsuperscript𝜋SFT\\\\pi_{\\\\text{ref}}=\\\\pi^{\\\\text{SFT}}italic_π start_POSTSUBSCRIPT ref end_POSTSUBSCRIPT = italic_π start_POSTSUPERSCRIPT SFT end_POSTSUPERSCRIPT whenever available. However, when πSFTsuperscript𝜋SFT\\\\pi^{\\\\text{SFT}}italic_π start_POSTSUPERSCRIPT SFT end_POSTSUPERSCRIPT is not available, we initialize πrefsubscript𝜋ref\\\\pi_{\\\\text{ref}}italic_π start_POSTSUBSCRIPT ref end_POSTSUBSCRIPT by maximizing likelihood of preferred completions (x,yw)𝑥subscript𝑦𝑤{(x,y_{w})}( italic_x , italic_y start_POSTSUBSCRIPT italic_w end_POSTSUBSCRIPT ), that is, πref=arg\\u2062maxπ\\u2061𝔼x,yw∼𝒟\\u2062[log\\u2061π\\u2062(yw∣x)]subscript𝜋refsubscriptargmax𝜋subscript𝔼similar-to𝑥subscript𝑦𝑤𝒟delimited-[]𝜋conditionalsubscript𝑦𝑤𝑥{\\\\pi_{\\\\text{ref}}=\\\\operatorname*{arg\\\\,max}_{\\\\pi}\\\\mathbb{E}_{x,y_{w}\\\\sim%\\n\\\\mathcal{D}}\\\\left[\\\\log\\\\pi(y_{w}\\\\mid x)\\\\right]}italic_π start_POSTSUBSCRIPT ref end_POSTSUBSCRIPT = start_OPERATOR roman_arg roman_max end_OPERATOR start_POSTSUBSCRIPT italic_π end_POSTSUBSCRIPT blackboard_E start_POSTSUBSCRIPT italic_x , italic_y start_POSTSUBSCRIPT italic_w end_POSTSUBSCRIPT ∼ caligraphic_D end_POSTSUBSCRIPT [ roman_log italic_π ( italic_y start_POSTSUBSCRIPT italic_w end_POSTSUBSCRIPT ∣ italic_x ) ]. This procedure helps mitigate the distribution shift between the true reference distribution which is unavailable, and πrefsubscript𝜋ref\\\\pi_{\\\\text{ref}}italic_π start_POSTSUBSCRIPT ref end_POSTSUBSCRIPT used by DPO. Further details related to the implementation and hyperparameters can be found in Appendix\\xa0B.\\n5 Theoretical Analysis of DPO'),\n",
              " Document(page_content='5 Theoretical Analysis of DPO\\nIn this section, we give further interpretation of the DPO method, provide theoretical backing, and relate advantages of DPO to issues with actor critic algorithms used for RLHF (such as PPO\\xa0Schulman et\\xa0al. (2017)).\\n5.1 Your Language Model Is Secretly a Reward Model\\nDPO is able to bypass both fitting an explicit reward and performing RL to learn the policy using a single maximum likelihood objective. Note the optimization objective Eq. 5 is equivalent to a Bradley-Terry model with a reward parameterization r*\\u2062(x,y)=β\\u2062log\\u2061πθ*\\u2062(y∣x)πref\\u2062(y∣x)superscript𝑟𝑥𝑦𝛽subscriptsuperscript𝜋𝜃conditional𝑦𝑥subscript𝜋refconditional𝑦𝑥r^{*}(x,y)=\\\\beta\\\\log\\\\frac{\\\\pi^{*}_{\\\\theta}(y\\\\mid x)}{\\\\pi_{\\\\text{ref}}(y\\\\mid x)}italic_r start_POSTSUPERSCRIPT * end_POSTSUPERSCRIPT ( italic_x , italic_y ) = italic_β roman_log divide start_ARG italic_π start_POSTSUPERSCRIPT * end_POSTSUPERSCRIPT start_POSTSUBSCRIPT italic_θ end_POSTSUBSCRIPT ( italic_y ∣ italic_x ) end_ARG start_ARG italic_π start_POSTSUBSCRIPT ref end_POSTSUBSCRIPT ( italic_y ∣ italic_x ) end_ARG and we optimize our parametric model πθsubscript𝜋𝜃\\\\pi_{\\\\theta}italic_π start_POSTSUBSCRIPT italic_θ end_POSTSUBSCRIPT, equivalently to the reward model optimization in Eq. 2 under the change of variables. In this section we will build the theory behind this reparameterization, show that it does not constrain the class of learned reward models, and allows for the exact recovery of the optimal policy. We begin with by defining an equivalence relation between reward functions.\\nDefinition 1.'),\n",
              " Document(page_content='Definition 1.\\nWe say that two reward functions r\\u2062(x,y)𝑟𝑥𝑦r(x,y)italic_r ( italic_x , italic_y ) and r′\\u2062(x,y)superscript𝑟normal-′𝑥𝑦r^{\\\\prime}(x,y)italic_r start_POSTSUPERSCRIPT ′ end_POSTSUPERSCRIPT ( italic_x , italic_y ) are equivalent iff r\\u2062(x,y)−r′\\u2062(x,y)=f\\u2062(x)𝑟𝑥𝑦superscript𝑟normal-′𝑥𝑦𝑓𝑥{r(x,y)-r^{\\\\prime}(x,y)=f(x)}italic_r ( italic_x , italic_y ) - italic_r start_POSTSUPERSCRIPT ′ end_POSTSUPERSCRIPT ( italic_x , italic_y ) = italic_f ( italic_x ) for some function f𝑓fitalic_f.\\nIt is easy to see that this is indeed an equivalence relation, which partitions the set of reward functions into classes. We can state the following two lemmas:\\nLemma 1.\\nUnder the Plackett-Luce, and in particular the Bradley-Terry, preference framework, two reward functions from the same class induce the same preference distribution.\\nLemma 2.\\nTwo reward functions from the same equivalence class induce the same optimal policy under the constrained RL problem.\\nThe proofs are straightforward and we defer them to Appendix A.5. The first lemma is a well-known under-specification issue with the Plackett-Luce family of models Plackett (1975). Due to this under-specification, we usually have to impose additional identifiability constraints to achieve any guarantees on the MLE estimates from Eq. 2 Bong and Rinaldo (2022). The second lemma states that all reward functions from the same class yield the same optimal policy, hence for our final objective, we are only interested in recovering an arbitrary reward function from the optimal class. We prove the following Theorem in Appendix\\xa0A.6:\\nTheorem 1.'),\n",
              " Document(page_content='Theorem 1.\\nUnder mild assumptions, all reward classes consistent with the Plackett-Luce (and Bradley-Terry in particular) models can be represented with the reparameterization r\\u2062(x,y)=β\\u2062log\\u2061π\\u2062(y∣x)π𝑟𝑒𝑓\\u2062(y∣x)𝑟𝑥𝑦𝛽𝜋conditional𝑦𝑥subscript𝜋𝑟𝑒𝑓conditional𝑦𝑥{r(x,y)=\\\\beta\\\\log\\\\frac{\\\\pi(y\\\\mid x)}{\\\\pi_{\\\\text{ref}}(y\\\\mid x)}}italic_r ( italic_x , italic_y ) = italic_β roman_log divide start_ARG italic_π ( italic_y ∣ italic_x ) end_ARG start_ARG italic_π start_POSTSUBSCRIPT ref end_POSTSUBSCRIPT ( italic_y ∣ italic_x ) end_ARG for some model π\\u2062(y∣x)𝜋conditional𝑦𝑥\\\\pi(y\\\\mid x)italic_π ( italic_y ∣ italic_x ) and a given reference model π𝑟𝑒𝑓\\u2062(y∣x)subscript𝜋𝑟𝑒𝑓conditional𝑦𝑥\\\\pi_{\\\\text{ref}}(y\\\\mid x)italic_π start_POSTSUBSCRIPT ref end_POSTSUBSCRIPT ( italic_y ∣ italic_x ).\\nProof Sketch.\\nConsider any reward function r\\u2062(x,y)𝑟𝑥𝑦r(x,y)italic_r ( italic_x , italic_y ), which induces a corresponding optimal model πr\\u2062(y∣x)subscript𝜋𝑟conditional𝑦𝑥\\\\pi_{r}(y\\\\mid x)italic_π start_POSTSUBSCRIPT italic_r end_POSTSUBSCRIPT ( italic_y ∣ italic_x ), specified by Eq. 4. We will show that a reward function from the equivalence class of r𝑟ritalic_r can be represented using the reparameterization given above. We define the projection f𝑓fitalic_f as\\nf\\u2062(r;πref,β)\\u2062(x,y)=r\\u2062(x,y)−β\\u2062log\\u2062∑yπref\\u2062(y∣x)\\u2062exp\\u2061(1β\\u2062r\\u2062(x,y))𝑓𝑟subscript𝜋ref𝛽𝑥𝑦𝑟𝑥𝑦𝛽subscript𝑦subscript𝜋refconditional𝑦𝑥1𝛽𝑟𝑥𝑦f(r;\\\\pi_{\\\\text{ref}},\\\\beta)(x,y)=r(x,y)-\\\\beta\\\\log\\\\sum_{y}\\\\pi_{\\\\text{ref}}(y%\\n\\\\mid x)\\\\exp\\\\left(\\\\frac{1}{\\\\beta}r(x,y)\\\\right)italic_f ( italic_r ; italic_π start_POSTSUBSCRIPT ref end_POSTSUBSCRIPT , italic_β ) ( italic_x , italic_y ) = italic_r ( italic_x , italic_y ) - italic_β roman_log ∑ start_POSTSUBSCRIPT italic_y end_POSTSUBSCRIPT italic_π start_POSTSUBSCRIPT ref end_POSTSUBSCRIPT ( italic_y ∣ italic_x ) roman_exp ( divide start_ARG 1 end_ARG start_ARG italic_β end_ARG italic_r ( italic_x , italic_y ) )\\n(8)'),\n",
              " Document(page_content='(8)\\nThe operator f𝑓fitalic_f simply normalizes the reward function with the logarithm of the partition function of πrsubscript𝜋𝑟\\\\pi_{r}italic_π start_POSTSUBSCRIPT italic_r end_POSTSUBSCRIPT. Since the added normalization term is only a function of the prefix x𝑥xitalic_x, f\\u2062(r;πref,β)\\u2062(x,y)𝑓𝑟subscript𝜋ref𝛽𝑥𝑦f(r;\\\\pi_{\\\\text{ref}},\\\\beta)(x,y)italic_f ( italic_r ; italic_π start_POSTSUBSCRIPT ref end_POSTSUBSCRIPT , italic_β ) ( italic_x , italic_y ) is a reward function in the equivalence class of r\\u2062(x,y)𝑟𝑥𝑦r(x,y)italic_r ( italic_x , italic_y ). Finally, replacing r𝑟ritalic_r with the RHS of Eq.\\xa05 (which holds for any reward function), we have f\\u2062(r;πref,β)\\u2062(x,y)=β\\u2062log\\u2061πr\\u2062(y∣x)πref\\u2062(y∣x)𝑓𝑟subscript𝜋ref𝛽𝑥𝑦𝛽subscript𝜋𝑟conditional𝑦𝑥subscript𝜋refconditional𝑦𝑥f(r;\\\\pi_{\\\\text{ref}},\\\\beta)(x,y)=\\\\beta\\\\log\\\\frac{\\\\pi_{r}(y\\\\mid x)}{\\\\pi_{\\\\text{%\\nref}}(y\\\\mid x)}italic_f ( italic_r ; italic_π start_POSTSUBSCRIPT ref end_POSTSUBSCRIPT , italic_β ) ( italic_x , italic_y ) = italic_β roman_log divide start_ARG italic_π start_POSTSUBSCRIPT italic_r end_POSTSUBSCRIPT ( italic_y ∣ italic_x ) end_ARG start_ARG italic_π start_POSTSUBSCRIPT ref end_POSTSUBSCRIPT ( italic_y ∣ italic_x ) end_ARG. That is, the projection f𝑓fitalic_f produces a member of the equivalence class of r𝑟ritalic_r with the desired form, and we do not lose any generality in our reward model from the proposed reparameterization.\\n∎\\nWe can alternatively view Theorem\\xa01 as specifying exactly which reward function within each equivalence class the DPO reparameterization selects, that is, the reward function satisfying:\\n∑yπref\\u2062(y∣x)\\u2062exp\\u2061(1β\\u2062r\\u2062(x,y))⏟=π\\u2062(y∣x)\\u2062, using Thm.\\xa01\\xa0reparam.=1,subscript𝑦subscript⏟subscript𝜋refconditional𝑦𝑥1𝛽𝑟𝑥𝑦absent𝜋conditional𝑦𝑥, using Thm.\\xa01\\xa0reparam.1\\\\sum_{y}\\\\underbrace{\\\\pi_{\\\\text{ref}}(y\\\\mid x)\\\\exp\\\\left(\\\\frac{1}{\\\\beta}r(x,y)%'),\n",
              " Document(page_content='\\\\right)}_{=\\\\pi(y\\\\mid x)\\\\text{, using Thm.~{}\\\\ref{thm:main} reparam.}}=1,∑ start_POSTSUBSCRIPT italic_y end_POSTSUBSCRIPT under⏟ start_ARG italic_π start_POSTSUBSCRIPT ref end_POSTSUBSCRIPT ( italic_y ∣ italic_x ) roman_exp ( divide start_ARG 1 end_ARG start_ARG italic_β end_ARG italic_r ( italic_x , italic_y ) ) end_ARG start_POSTSUBSCRIPT = italic_π ( italic_y ∣ italic_x ) , using Thm. reparam. end_POSTSUBSCRIPT = 1 ,\\n(9)\\ni.e., π\\u2062(y∣x)𝜋conditional𝑦𝑥\\\\pi(y\\\\mid x)italic_π ( italic_y ∣ italic_x ) is a valid distribution (probabilities are positive and sum to 1).\\nHowever, following Eq.\\xa04, we can see that Eq.\\xa09 is the partition function of the optimal policy induced by the reward function r\\u2062(x,y)𝑟𝑥𝑦r(x,y)italic_r ( italic_x , italic_y ).\\nThe key insight of the DPO algorithm is that we can impose certain constraints on the under-constrained Plackett-Luce (and Bradley-Terry in particular) family of preference models, such that we preserve the class of representable reward models, but explicitly make the optimal policy in Eq. 4 analytically tractable for all prompts x𝑥xitalic_x.\\n5.2 Instability of Actor-Critic Algorithms'),\n",
              " Document(page_content='5.2 Instability of Actor-Critic Algorithms\\nWe can also use our framework to diagnose instabilities with standard actor-critic algorithms used for the RLHF, such as PPO. We follow the RLHF pipeline and focus on the RL fine-tuning step outlined in Section 3. We can draw connections to the control as inference framework Levine (2018) for the constrained RL problem outlined in 3. We assume a parameterized model πθ\\u2062(y∣x)subscript𝜋𝜃conditional𝑦𝑥\\\\pi_{\\\\theta}(y\\\\mid x)italic_π start_POSTSUBSCRIPT italic_θ end_POSTSUBSCRIPT ( italic_y ∣ italic_x ) and minimize 𝔻KL[πθ(y|x)∣∣π*(y∣x)]\\\\mathbb{D}_{\\\\text{KL}}[\\\\pi_{\\\\theta}(y|x)\\\\mid\\\\mid\\\\pi^{*}(y\\\\mid x)]blackboard_D start_POSTSUBSCRIPT KL end_POSTSUBSCRIPT [ italic_π start_POSTSUBSCRIPT italic_θ end_POSTSUBSCRIPT ( italic_y | italic_x ) ∣ ∣ italic_π start_POSTSUPERSCRIPT * end_POSTSUPERSCRIPT ( italic_y ∣ italic_x ) ] where π*superscript𝜋\\\\pi^{*}italic_π start_POSTSUPERSCRIPT * end_POSTSUPERSCRIPT is the optimal policy from Eq. 7 induced by the reward function rϕ\\u2062(y,x)subscript𝑟italic-ϕ𝑦𝑥r_{\\\\phi}(y,x)italic_r start_POSTSUBSCRIPT italic_ϕ end_POSTSUBSCRIPT ( italic_y , italic_x ). With some algebra this leads to the optimization objective:\\nmaxπθ\\u2061𝔼πθ\\u2062(y∣x)\\u2062[rϕ\\u2062(x,y)−β\\u2062log\\u2062∑yπref\\u2062(y∣x)\\u2062exp\\u2061(1β\\u2062rϕ\\u2062(x,y))⏟f\\u2062(rϕ,πref,β)−β\\u2062log\\u2061πθ\\u2062(y∣x)πref\\u2062(y∣x)⏟KL]subscriptsubscript𝜋𝜃subscript𝔼subscript𝜋𝜃conditional𝑦𝑥delimited-[]subscript⏟subscript𝑟italic-ϕ𝑥𝑦𝛽subscript𝑦subscript𝜋refconditional𝑦𝑥1𝛽subscript𝑟italic-ϕ𝑥𝑦𝑓subscript𝑟italic-ϕsubscript𝜋ref𝛽subscript⏟𝛽subscript𝜋𝜃conditional𝑦𝑥subscript𝜋refconditional𝑦𝑥KL\\\\max_{\\\\pi_{\\\\theta}}\\\\mathbb{E}_{\\\\pi_{\\\\theta}(y\\\\mid x)}\\\\bigg{[}\\\\underbrace{r_{%\\n\\\\phi}(x,y)-\\\\beta\\\\log\\\\sum_{y}\\\\pi_{\\\\text{ref}}(y\\\\mid x)\\\\exp\\\\left(\\\\frac{1}{\\\\beta}%\\nr_{\\\\phi}(x,y)\\\\right)}_{f(r_{\\\\phi},\\\\pi_{\\\\text{ref}},\\\\beta)}-\\\\underbrace{\\\\beta%'),\n",
              " Document(page_content='\\\\phi}(x,y)-\\\\beta\\\\log\\\\sum_{y}\\\\pi_{\\\\text{ref}}(y\\\\mid x)\\\\exp\\\\left(\\\\frac{1}{\\\\beta}%\\nr_{\\\\phi}(x,y)\\\\right)}_{f(r_{\\\\phi},\\\\pi_{\\\\text{ref}},\\\\beta)}-\\\\underbrace{\\\\beta%\\n\\\\log\\\\frac{\\\\pi_{\\\\theta}(y\\\\mid x)}{\\\\pi_{\\\\text{ref}}(y\\\\mid x)}}_{\\\\text{KL}}\\\\bigg{]}roman_max start_POSTSUBSCRIPT italic_π start_POSTSUBSCRIPT italic_θ end_POSTSUBSCRIPT end_POSTSUBSCRIPT blackboard_E start_POSTSUBSCRIPT italic_π start_POSTSUBSCRIPT italic_θ end_POSTSUBSCRIPT ( italic_y ∣ italic_x ) end_POSTSUBSCRIPT [ under⏟ start_ARG italic_r start_POSTSUBSCRIPT italic_ϕ end_POSTSUBSCRIPT ( italic_x , italic_y ) - italic_β roman_log ∑ start_POSTSUBSCRIPT italic_y end_POSTSUBSCRIPT italic_π start_POSTSUBSCRIPT ref end_POSTSUBSCRIPT ( italic_y ∣ italic_x ) roman_exp ( divide start_ARG 1 end_ARG start_ARG italic_β end_ARG italic_r start_POSTSUBSCRIPT italic_ϕ end_POSTSUBSCRIPT ( italic_x , italic_y ) ) end_ARG start_POSTSUBSCRIPT italic_f ( italic_r start_POSTSUBSCRIPT italic_ϕ end_POSTSUBSCRIPT , italic_π start_POSTSUBSCRIPT ref end_POSTSUBSCRIPT , italic_β ) end_POSTSUBSCRIPT - under⏟ start_ARG italic_β roman_log divide start_ARG italic_π start_POSTSUBSCRIPT italic_θ end_POSTSUBSCRIPT ( italic_y ∣ italic_x ) end_ARG start_ARG italic_π start_POSTSUBSCRIPT ref end_POSTSUBSCRIPT ( italic_y ∣ italic_x ) end_ARG end_ARG start_POSTSUBSCRIPT KL end_POSTSUBSCRIPT ]\\n(10)\\nThis is the same objective optimized in prior works'),\n",
              " Document(page_content='(10)\\nThis is the same objective optimized in prior works\\n(Ziegler et\\xa0al., 2020; Stiennon et\\xa0al., 2022; Bai et\\xa0al., 2022a; Ouyang et\\xa0al., 2022) using the DPO-equivalent reward for the reward class of rϕsubscript𝑟italic-ϕr_{\\\\phi}italic_r start_POSTSUBSCRIPT italic_ϕ end_POSTSUBSCRIPT. In this setting, we can interpret the normalization term in f\\u2062(rϕ,πref,β)𝑓subscript𝑟italic-ϕsubscript𝜋ref𝛽f(r_{\\\\phi},\\\\pi_{\\\\text{ref}},\\\\beta)italic_f ( italic_r start_POSTSUBSCRIPT italic_ϕ end_POSTSUBSCRIPT , italic_π start_POSTSUBSCRIPT ref end_POSTSUBSCRIPT , italic_β ) as the soft value function of the reference policy πrefsubscript𝜋ref\\\\pi_{\\\\text{ref}}italic_π start_POSTSUBSCRIPT ref end_POSTSUBSCRIPT. While this term does not affect the optimal solution, without it, the policy gradient of the objective could have high variance, making learning unstable. We can accommodate for the normalization term using a learned value function, but that can also be difficult to optimize. Alternatively, prior works have normalized rewards using a human completion baseline, essentially a single sample Monte-Carlo estimate of the normalizing term. In contrast the DPO reparameterization yields a reward function that does not require any baselines.\\n6 Experiments'),\n",
              " Document(page_content='6 Experiments\\nIn this section, we empirically evaluate DPO’s ability to train policies directly from preferences. First, in a well-controlled text-generation setting, we ask: how efficiently does DPO trade off maximizing reward and minimizing KL-divergence with the reference policy, compared to common preference learning algorithms such as PPO? Next, we evaluate DPO’s performance on larger models and more difficult RLHF tasks, including summarization and dialogue. We find that with almost no tuning of hyperparameters, DPO tends to perform as well or better than strong baselines like RLHF with PPO as well as returning the best of N𝑁Nitalic_N sampled trajectories under a learned reward function. Before presenting these results, we describe the experimental set-up; additional details are in Appendix\\xa0C.'),\n",
              " Document(page_content='Tasks. Our experiments explore three different open-ended text generation tasks. For all experiments, algorithms learn a policy from a dataset of preferences 𝒟={x(i),yw(i),yl(i)}i=1N𝒟superscriptsubscriptsuperscript𝑥𝑖superscriptsubscript𝑦𝑤𝑖superscriptsubscript𝑦𝑙𝑖𝑖1𝑁\\\\mathcal{D}=\\\\bigl{\\\\{}x^{(i)},y_{w}^{(i)},y_{l}^{(i)}\\\\bigr{\\\\}}_{i=1}^{N}caligraphic_D = { italic_x start_POSTSUPERSCRIPT ( italic_i ) end_POSTSUPERSCRIPT , italic_y start_POSTSUBSCRIPT italic_w end_POSTSUBSCRIPT start_POSTSUPERSCRIPT ( italic_i ) end_POSTSUPERSCRIPT , italic_y start_POSTSUBSCRIPT italic_l end_POSTSUBSCRIPT start_POSTSUPERSCRIPT ( italic_i ) end_POSTSUPERSCRIPT } start_POSTSUBSCRIPT italic_i = 1 end_POSTSUBSCRIPT start_POSTSUPERSCRIPT italic_N end_POSTSUPERSCRIPT. In controlled sentiment generation, x𝑥xitalic_x is a prefix of a movie review from the IMDb dataset Maas et\\xa0al. (2011), and the policy must generate y𝑦yitalic_y with positive sentiment. In order to perform a controlled evaluation, for this experiment we generate preference pairs over generations using a pre-trained sentiment classifier, where p\\u2062(positive∣x,yw)>p\\u2062(positive∣x,yl)𝑝conditionalpositive𝑥subscript𝑦𝑤𝑝conditionalpositive𝑥subscript𝑦𝑙p(\\\\text{positive}\\\\mid x,y_{w})>p(\\\\text{positive}\\\\mid x,y_{l})italic_p ( positive ∣ italic_x , italic_y start_POSTSUBSCRIPT italic_w end_POSTSUBSCRIPT ) > italic_p ( positive ∣ italic_x , italic_y start_POSTSUBSCRIPT italic_l end_POSTSUBSCRIPT ). For SFT, we fine-tune GPT-2-large until convergence on reviews from the train split of the IMDB dataset (further details in App\\xa0C.1). In summarization, x𝑥xitalic_x is a forum post from Reddit; the policy must generate a summary y𝑦yitalic_y of the main points in the post. Following prior work, we use the Reddit TL;DR summarization dataset (Völske et\\xa0al., 2017) along with human preferences gathered by Stiennon et\\xa0al.. We use an SFT model fine-tuned on human-written forum post summaries111https://huggingface.co/CarperAI/openai_summarize_tldr_sft with the'),\n",
              " Document(page_content='along with human preferences gathered by Stiennon et\\xa0al.. We use an SFT model fine-tuned on human-written forum post summaries111https://huggingface.co/CarperAI/openai_summarize_tldr_sft with the TRLX (von Werra et\\xa0al., 2023) framework for RLHF. The human preference dataset was gathered by Stiennon et\\xa0al. on samples from a different, but similarly-trained, SFT model. Finally, in single-turn dialogue,'),\n",
              " Document(page_content='x𝑥xitalic_x is a human query, which may be anything from a question about astrophysics to a request for relationship advice. A policy must produce an engaging and helpful response y𝑦yitalic_y to a user’s query; we use the Anthropic Helpful and Harmless dialogue dataset (Bai et\\xa0al., 2022a), containing 170k dialogues between a human and an automated assistant. Each transcript ends with a pair of responses generated by a large (although unknown) language model along with a preference label denoting the human-preferred response. In this setting, no pre-trained SFT model is available; we therefore fine-tune an off-the-shelf language model on only the preferred completions to form the SFT model.\\nFigure 2: Left. The frontier of expected reward vs KL to the reference policy. DPO provides the highest expected reward for all KL values, demonstrating the quality of the optimization. Right. TL;DR summarization win rates vs. human-written summaries, using GPT-4 as evaluator. DPO exceeds PPO’s best-case performance on summarization, while being more robust to changes in the sampling temperature.'),\n",
              " Document(page_content='Evaluation. Our experiments use two different approaches to evaluation. In order to analyze the effectiveness of each algorithm in optimizing the constrained reward maximization objective, in the controlled sentiment generation setting we evaluate each algorithm by its frontier of achieved reward and KL-divergence from the reference policy; this frontier is computable because we have acccess to the ground-truth reward function (a sentiment classifier). However, in the real world, the ground truth reward function is not known; therefore, we evaluate algorithms with their win rate against a baseline policy, using GPT-4 as a proxy for human evaluation of summary quality and response helpfulness in the summarization and single-turn dialogue settings, respectively. For summarization, we use reference summaries in the test set as the baseline; for dialogue, we use the preferred response in the test dataset as the baseline. While existing studies suggest LMs can be better automated evaluators than existing metrics (Chen et\\xa0al., 2023), we conduct a human study to justify our usage of GPT-4 for evaluation in Sec.\\xa06.4. We find GPT-4 judgments correlate strongly with humans, with human agreement with GPT-4 typically similar or higher than inter-human annotator agreement.'),\n",
              " Document(page_content='Methods. In addition to DPO, we evaluate several existing approaches to training language models to adhere to human preferences. Most simply, we explore zero-shot prompting with GPT-J (Wang and Komatsuzaki, 2021) in the summarization task and 2-shot prompting with Pythia-2.8B (Biderman et\\xa0al., 2023) in the dialogue task. In addition, we evaluate the SFT model as well as Preferred-FT, which is a model fine-tuned with supervised learning on the chosen completion ywsubscript𝑦𝑤y_{w}italic_y start_POSTSUBSCRIPT italic_w end_POSTSUBSCRIPT from either the SFT model (in controlled sentiment and summarization) or a generic LM (in single-turn dialogue). Another pseudo-supervised method is Unlikelihood\\xa0(Welleck et\\xa0al., 2019), which simply optimizes the policy to maximize the probability assigned to ywsubscript𝑦𝑤y_{w}italic_y start_POSTSUBSCRIPT italic_w end_POSTSUBSCRIPT and minimize the probability assigned to ylsubscript𝑦𝑙y_{l}italic_y start_POSTSUBSCRIPT italic_l end_POSTSUBSCRIPT; we use an optional coefficient α∈[0,1]𝛼01\\\\alpha\\\\in[0,1]italic_α ∈ [ 0 , 1 ] on the ‘unlikelihood’ term. We also consider PPO (Schulman et\\xa0al., 2017) using a reward function learned from the preference data and PPO-GT, which is an oracle that learns from the ground truth reward function available in the controlled sentiment setting. In our sentiment experiments, we use two implementations of PPO-GT, one of-the-shelf version von Werra et\\xa0al. (2023) as well as a modified version that normalizes rewards and further tunes hyperparameters to improve performance (we also use these modifications when running ‘normal’ PPO with learned rewards). Finally, we consider the Best of N𝑁Nitalic_N baseline, sampling N𝑁Nitalic_N responses from the SFT model (or Preferred-FT in dialogue) and returning the highest-scoring response according to a reward function learned from the preference dataset. This high-performing method decouples the quality of the reward model from the PPO optimization, but is computationally'),\n",
              " Document(page_content='response according to a reward function learned from the preference dataset. This high-performing method decouples the quality of the reward model from the PPO optimization, but is computationally impractical even for moderate N𝑁Nitalic_N as it requires sampling N𝑁Nitalic_N completions for every query at test time.'),\n",
              " Document(page_content='6.1 How well can DPO optimize the RLHF objective?\\nFigure 3: Left. Win rates computed by GPT-4 for Anthropic-HH one-step dialogue; DPO is the only method that improves over chosen summaries in the Anthropic-HH test set. Right. Win rates for different sampling temperatures over the course of training. DPO’s improvement over the dataset labels is fairly stable over the course of training for different sampling temperatures.'),\n",
              " Document(page_content='The KL-constrained reward maximization objective used in typical RLHF algorithms balances exploitation of reward while restricting the policy from deviating far from the reference policy. Therefore, when comparing algorithms, we must take into account both reward achieved as well as the KL discrepancy; achieving slightly higher reward but with much higher KL is not necessarily desirable. Figure\\xa02 shows the reward-KL frontier for various algorithms in the sentiment setting. We execute multiple training runs for each algorithm, using a different hyperparameter for policy conservativeness in each run (target KL ∈{3,6,9,12}absent36912\\\\in\\\\{3,6,9,12\\\\}∈ { 3 , 6 , 9 , 12 } for PPO, β∈{0.05,0.1,1,5}𝛽0.050.115\\\\beta\\\\in\\\\{0.05,0.1,1,5\\\\}italic_β ∈ { 0.05 , 0.1 , 1 , 5 }, α∈{0.05,0.1,0.5,1}𝛼0.050.10.51\\\\alpha\\\\in\\\\{0.05,0.1,0.5,1\\\\}italic_α ∈ { 0.05 , 0.1 , 0.5 , 1 } for unlikelihood, random seeds for preferred-FT). This sweep includes 22 runs in total. After each 100 training steps until convergence, we evaluate each policy on a set of test prompts, computing the average reward under the true reward function as well as the average sequence-level KL222That is, the sum of the per-timestep KL-divergences. with the reference policy KL(π∣∣πref)\\\\text{KL}\\\\left(\\\\pi\\\\mid\\\\mid\\\\pi_{\\\\text{ref}}\\\\right)KL ( italic_π ∣ ∣ italic_π start_POSTSUBSCRIPT ref end_POSTSUBSCRIPT ). We find that DPO produces by far the most efficient frontier, achieving the highest reward while still achieving low KL. This result is particularly notable for multiple reasons. First, DPO and PPO optimize the same objective, but DPO is notably more efficient; DPO’s reward/KL tradeoff strictly dominates PPO. Second, DPO achieves a better frontier than PPO, even when PPO can access ground truth rewards (PPO-GT).\\n6.2 Can DPO scale to real preference datasets?\\nNext, we evaluate fine-tuning performance of DPO on summarization and single-turn dialogue. For summarization,'),\n",
              " Document(page_content='6.2 Can DPO scale to real preference datasets?\\nNext, we evaluate fine-tuning performance of DPO on summarization and single-turn dialogue. For summarization,\\nautomatic evaluation metrics such as ROUGE can be poorly correlated with human preferences\\xa0(Stiennon et\\xa0al., 2022), and prior work has found that fine-tuning LMs using PPO on human preferences to provide more effective summaries. We evaluate different methods by sampling completions on the test split of TL;DR summarization dataset, and computing the average win rate against reference completions in the test set. The completions for all methods are sampled at temperatures varying from 0.0 to 1.0, and the win rates are shown in Figure\\xa02 (right). DPO, PPO and Preferred-FT all fine-tune the same GPT-J SFT model333https://huggingface.co/CarperAI/openai_summarize_tldr_sft. We find that DPO has a win rate of approximately 61% at a temperature of 0.0, exceeding the performance of PPO at \\xa057% at its optimal sampling temperature of 0.0. DPO also achieves a higher maximum win rate compared to the best of N𝑁Nitalic_N baseline. We note that we did not meaningfully tune DPO’s β𝛽\\\\betaitalic_β hyperparameter, so these results may underestimate DPO’s potential. Moreover, we find DPO to be much more robust to the sampling temperature than PPO, the performance of which can degrade to that of the base GPT-J model at high temperatures. Preferred-FT does not improve significantly over the SFT model. We also compare DPO and PPO head-to-head in human evaluations in Section\\xa06.4, where DPO samples at temperature 0.25 were preferred 58% times over PPO samples at temperature 0.'),\n",
              " Document(page_content='On single-turn dialogue, we evaluate the different methods on the subset of the test split of the Anthropic HH dataset (Bai et\\xa0al., 2022a) with one step of human-assistant interaction. GPT-4 evaluations use the preferred completions on the test as the reference to compute the win rate for different methods. As there is no standard SFT model for this task, we start with a pre-trained Pythia-2.8B, use Preferred-FT to train a reference model on the chosen completions such that completions are within distribution of the model, and then train using DPO. We also compare against the best of 128 Preferred-FT completions (we found the Best of N𝑁Nitalic_N baseline plateaus at 128 completions for this task; see Appendix Figure\\xa04) and a 2-shot prompted version of the Pythia-2.8B base model, finding DPO performs as well or better for the best-performing temperatures for each method. We also evaluate an RLHF model trained with PPO on the Anthropic HH dataset 444https://huggingface.co/reciprocate/ppo_hh_pythia-6B from a well-known source 555https://github.com/CarperAI/trlx/tree/main/examples/hh, but are unable to find a prompt or sampling temperature that gives performance better than the base Pythia-2.8B model. Based on our results from TL;DR and the fact that both methods optimize the same reward function, we consider Best of 128 a rough proxy for PPO-level performance. Overall, DPO is the only computationally efficient method that improves over the preferred completions in the Anthropic HH dataset, and provides similar or better performance to the computationally demanding Best of 128 baseline. Finally, Figure\\xa03 shows that DPO converges to its best performance relatively quickly.\\n6.3 Generalization to a new input distribution\\nWin rate vs. ground truth\\nAlg.\\nTemp 00\\nTemp 0.250.250.250.25\\nDPO\\n0.36\\n0.31\\nPPO\\n0.26\\n0.23\\nTable 1: GPT-4 win rates vs. ground truth summaries for out-of-distribution CNN/DailyMail input articles.'),\n",
              " Document(page_content='Win rate vs. ground truth\\nAlg.\\nTemp 00\\nTemp 0.250.250.250.25\\nDPO\\n0.36\\n0.31\\nPPO\\n0.26\\n0.23\\nTable 1: GPT-4 win rates vs. ground truth summaries for out-of-distribution CNN/DailyMail input articles.\\nTo further compare the performance of PPO and DPO under distribution shifts, we evaluate the PPO and DPO policies from our Reddit TL;DR summarization experiment on a different distribution, news articles in the test split of the CNN/DailyMail dataset (Nallapati et\\xa0al., 2016), using the best sampling temperatures from TL;DR (0 and 0.25). The results are presented in Table\\xa01. We computed the GPT-4 win rate against the ground-truth summaries in the datasets, using the same GPT-4 (C) prompt we used for Reddit TL;DR, but replacing the words “forum post” with “news article”. For this new distribution, DPO continues to outperform the PPO policy by a significant margin. This experiment provides initial evidence that DPO policies can generalize similarly well to PPO policies, even though DPO does not use the additional unlabeled Reddit TL;DR prompts that PPO uses.\\n6.4 Validating GPT-4 judgments with human judgments\\nWe conduct a human study to verify the reliability of GPT-4’s judgments, using the results of the TL;DR summarization experiment and two different GPT-4 prompts. The GPT-4 (S) (simple) prompt simply asks for which summary better-summarizes the important information in the post. The GPT-4 (C) (concise) prompt also asks for which summary is more concise; we evaluate this prompt because we find that GPT-4 prefers longer, more repetitive summaries than humans do with the GPT-4 (S) prompt. See Appendix\\xa0C.2 for the complete prompts. We perform three comparisons, using the highest (DPO, temp. 0.25), the lowest (PPO, temp. 1.0), and a\\nDPO\\nSFT\\nPPO-1\\nN respondents\\n272\\n122\\n199\\nGPT-4 (S) win %\\n47\\n27\\n13\\nGPT-4 (C) win %\\n54\\n32\\n12\\nHuman win %\\n58\\n43\\n17\\nGPT-4 (S)-H agree\\n70\\n77\\n86\\nGPT-4 (C)-H agree\\n67\\n79\\n85\\nH-H agree\\n65\\n-\\n87'),\n",
              " Document(page_content='DPO\\nSFT\\nPPO-1\\nN respondents\\n272\\n122\\n199\\nGPT-4 (S) win %\\n47\\n27\\n13\\nGPT-4 (C) win %\\n54\\n32\\n12\\nHuman win %\\n58\\n43\\n17\\nGPT-4 (S)-H agree\\n70\\n77\\n86\\nGPT-4 (C)-H agree\\n67\\n79\\n85\\nH-H agree\\n65\\n-\\n87\\nTable 2: Comparing human and GPT-4 win rates and per-judgment agreement on TL;DR summarization samples. Humans agree with GPT-4 about as much as they agree with each other. Each experiment compares a summary from the stated method with a summary from PPO with temperature 0.\\nmiddle-performing (SFT, temp. 0.25) method with the aim of covering a diversity of sample qualities; all three methods are compared against greedily-sampled PPO (its best-performing temperature). We find that with both prompts, GPT-4 tends to agree with humans about as often as humans agree with each other, suggesting that GPT-4 is a reasonable proxy for human evaluations (due to limited human raters, we only collect multiple human judgments for the DPO and PPO-1 comparisons). Overall, the GPT-4 (C) prompt generally provides win rates more representative of humans; we therefore use this prompt for the main results in Section\\xa06.2. For additional details about the human study, including the web interface presented to raters and the list of human volunteers, see Appendix\\xa0D.3.\\n7 Discussion'),\n",
              " Document(page_content='7 Discussion\\nLearning from preferences is a powerful, scalable framework for training capable, aligned language models. We have introduced DPO, a simple training paradigm for training language models from preferences without reinforcement learning. Rather than coercing the preference learning problem into a standard RL setting in order to use off-the-shelf RL algorithms, DPO identifies a mapping between language model policies and reward functions that enables training a language model to satisfy human preferences directly, with a simple cross-entropy loss, without reinforcement learning or loss of generality. With virtually no tuning of hyperparameters, DPO performs similarly or better than existing RLHF algorithms, including those based on PPO; DPO thus meaningfully reduces the barrier to training more language models from human preferences.'),\n",
              " Document(page_content='Limitations & Future Work. Our results raise several important questions for future work. How does the DPO policy generalize out of distribution, compared with learning from an explicit reward function? Our initial results suggest that DPO policies can generalize similarly to PPO-based models, but more comprehensive study is needed. For example, can training with self-labeling from the DPO policy similarly make effective use of unlabeled prompts? On another front, how does reward over-optimization manifest in the direct preference optimization setting, and is the slight decrease in performance in Figure\\xa03-right an instance of it? Additionally, while we evaluate models up to 6B parameters, exploration of scaling DPO to state-of-the-art models orders of magnitude larger is an exciting direction for future work. Regarding evaluations, we find that the win rates computed by GPT-4 are impacted by the prompt; future work may study the best way to elicit high-quality judgments from automated systems. Finally, many possible applications of DPO exist beyond training language models from human preferences, including training generative models in other modalities.\\nAcknowledgements\\nEM gratefully acknowledges funding from a Knight-Hennessy Graduate Fellowship. CF and CM are CIFAR Fellows. This work was supported in part by the Stanford Accelerator for Learning (SAL) and Stanford Institute for Human-Centered Artificial Intelligence (HAI) Generative AI for the Future of Learning seed grant program. The Stanford Center for Research on Foundation Models (CRFM) provided part of the compute resources used for the experiments in this work. This work was supported in part by ONR grant N00014-20-1-2675.')]"
            ]
          },
          "execution_count": 45,
          "metadata": {},
          "output_type": "execute_result"
        }
      ],
      "source": [
        "docs_processed[0]"
      ]
    },
    {
      "cell_type": "markdown",
      "metadata": {},
      "source": [
        "- Make embeddings and save to vector store\n",
        "- Currently taking from Part3_Metadata+ArXivExplore_single_source nb, should tune"
      ]
    },
    {
      "cell_type": "markdown",
      "metadata": {},
      "source": []
    },
    {
      "cell_type": "code",
      "execution_count": 67,
      "metadata": {},
      "outputs": [
        {
          "name": "stdout",
          "output_type": "stream",
          "text": [
            "6\n",
            "{'title': 'Direct Preference Optimization: Your Language Model is Secretly a Reward  Model', 'vs_index': 0}\n",
            "Abstract\n",
            "While large-scale unsupervised language models (LMs) learn broad world knowledge and some reasoning skills, achieving precise control of their behavior is difficult due to the completely unsupervised nature of their training.\n",
            "Existing methods for gaining such steerability collect human labels of the relative quality of model generations and fine-tune the unsupervised LM to align with these preferences, often with reinforcement learning from human feedback (RLHF).\n",
            "However, RLHF is a complex and often unstable procedure, first fitting a reward model that reflects the human preferences, and then fine-tuning the large unsupervised LM using reinforcement learning to maximize this estimated reward without drifting too far from the original model.\n",
            "In this paper we introduce a new parameterization of the reward model in RLHF that enables extraction of the corresponding optimal policy in closed form, allowing us to solve the standard RLHF problem with only a simple classification loss.\n",
            "The resulting algorithm, which we call Direct Preference Optimization (DPO), is stable, performant, and computationally lightweight, eliminating the need for  sampling from the LM during fine-tuning or performing significant hyperparameter tuning.\n",
            "Our experiments show that DPO can fine-tune LMs to align with human preferences as well as or better than existing methods. Notably, fine-tuning with DPO exceeds PPO-based RLHF in ability to control sentiment of generations, and matches or improves response quality in summarization and single-turn dialogue while being substantially simpler to implement and train.\n",
            "1 Introduction\n",
            "Large unsupervised language models (LMs) trained on very large datasets\n"
          ]
        }
      ],
      "source": [
        "def get_embedder(embed_model_id='mixedbread-ai/mxbai-embed-large-v1'):\n",
        "    store = LocalFileStore(\"./cache/\")\n",
        "\n",
        "    embed_model_id = embed_model_id\n",
        "    core_embeddings_model = HuggingFaceEmbeddings(\n",
        "        model_name=embed_model_id,\n",
        "        model_kwargs={\"trust_remote_code\":True}\n",
        "    )\n",
        "    embedder = CacheBackedEmbeddings.from_bytes_store(\n",
        "        core_embeddings_model, store, namespace=embed_model_id\n",
        "\n",
        "    )\n",
        "    return embedder,core_embeddings_model\n",
        "\n",
        "def get_title_abstract_abbrev(directory,filename=None):\n",
        "    path = os.path.join(directory, filename)\n",
        "    with open(path, 'r') as file:\n",
        "        lines = file.readlines()\n",
        "        title = lines[0].strip()\n",
        "        abstract = \"\".join(lines[1:]).replace('\\n', ' ')\n",
        "    return title, abstract, filename.replace('.txt','')\n",
        "\n",
        "def get_docs(directory):\n",
        "    existing_files = set(os.listdir(directory))\n",
        "    docs = [get_title_abstract_abbrev(directory=directory,filename=file) for file in existing_files]\n",
        "    docs = [Document(page_content=doc[1],metadata={'title':doc[0], 'abbrev':doc[2]}) for doc in docs]\n",
        "    return docs\n",
        "\n",
        "#TODO: Perhaps refactor this later to write vector store to a directoy and only add new vectors to it if not already there\n",
        "#So far, FAISS is blazing fast compared to model load above, so not prematurely optimizing\n",
        "def get_vector_store(docs, embedder):\n",
        "    print(len(docs))\n",
        "    print(docs[0][0].metadata)\n",
        "    print(docs[0][0].page_content)\n",
        "    for i, doc_full in enumerate(docs):\n",
        "        for j,doc in enumerate(doc_full):\n",
        "            doc.metadata['vs_index'] = i #or j?  depending on use case\n",
        "            if i == 0 and j==0:\n",
        "                vector_store = FAISS.from_documents([doc], embedder)\n",
        "            else:\n",
        "                vector_store_i = FAISS.from_documents([doc], embedder)\n",
        "                vector_store.merge_from(vector_store_i)\n",
        "    return vector_store\n",
        "embedder,core_embeddings_model = get_embedder()\n",
        "vector_store = get_vector_store(docs_processed, embedder)"
      ]
    },
    {
      "cell_type": "code",
      "execution_count": 69,
      "metadata": {},
      "outputs": [
        {
          "data": {
            "text/plain": [
              "183"
            ]
          },
          "execution_count": 69,
          "metadata": {},
          "output_type": "execute_result"
        }
      ],
      "source": [
        "len(vector_store.index_to_docstore_id)"
      ]
    },
    {
      "cell_type": "markdown",
      "metadata": {},
      "source": [
        "#### TODO: Once have the pipeline working and have a baseline, look into https://huggingface.co/spaces/mteb/leaderboard.  SFR-Embedding-Mistral or something along those lines may work much better."
      ]
    },
    {
      "cell_type": "code",
      "execution_count": 57,
      "metadata": {},
      "outputs": [],
      "source": [
        "vector_store.save_local('../rag_index_dir')"
      ]
    },
    {
      "cell_type": "markdown",
      "metadata": {
        "id": "WjrNhcCh9jVN"
      },
      "source": [
        "### 1.2. Setup agents for question generation\n",
        "\n",
        "- HF used [Mixtral](https://huggingface.co/mistralai/Mixtral-8x7B-Instruct-v0.1) for QA couple generation because it it has excellent performance in leaderboards such as [Chatbot Arena](https://huggingface.co/spaces/lmsys/chatbot-arena-leaderboard).  Used Mixtral-8x7b-4bit exl2, and it did not appear significantly better than Mistral, so using Mistral for speed but may come back to this."
      ]
    },
    {
      "cell_type": "markdown",
      "metadata": {},
      "source": [
        "#### TODO: Tried Mixtral4Bit, visually perhaps a bit better, but overfits on 'deep question'. Perhaps return to this after looking at embedding model"
      ]
    },
    {
      "cell_type": "code",
      "execution_count": 73,
      "metadata": {},
      "outputs": [
        {
          "name": "stdout",
          "output_type": "stream",
          "text": [
            "Loading model...\n"
          ]
        }
      ],
      "source": [
        "from exllamav2 import *\n",
        "from exllamav2.generator import *\n",
        "import sys, torch\n",
        "\n",
        "\n",
        "generator_config = ExLlamaV2Config()\n",
        "generator_config.model_dir = \"../../MiStralInference\"\n",
        "#generator_config.model_dir = '/home/mainuser/Desktop/LLMs/Mixtral4bit'\n",
        "generator_config.prepare()\n",
        "\n",
        "generator_model = ExLlamaV2(generator_config)\n",
        "cache = ExLlamaV2Cache(generator_model, lazy = True)\n",
        "\n",
        "print(\"Loading model...\")\n",
        "generator_model.load_autosplit(cache)\n",
        "\n",
        "generator_tokenizer = ExLlamaV2Tokenizer(generator_config)\n",
        "generator_llm = ExLlamaV2StreamingGenerator(generator_model, cache, generator_tokenizer)\n",
        "generator_llm.set_stop_conditions([generator_tokenizer.eos_token_id])\n",
        "generator_settings = ExLlamaV2Sampler.Settings()\n",
        "generator_settings.temperature = 0.85\n",
        "generator_settings.top_k = 50\n",
        "generator_settings.top_p = 0.8\n",
        "generator_settings.token_repetition_penalty = 1.01\n",
        "#generator_settings.disallow_tokens(generator_tokenizer, [generator_tokenizer.eos_token_id])\n",
        "# see if commenting out the above solved the endless generation issue (did not have with stream generator)"
      ]
    },
    {
      "cell_type": "code",
      "execution_count": 71,
      "metadata": {},
      "outputs": [
        {
          "data": {
            "text/plain": [
              "'<s>[INST] How can I get my cat to like me? [/INST] 1. Spend time with your cat: Cats enjoy spending time with their owners, so take some time out of your day to play with them or simply sit with them.\\n\\n2. Provide food and shelter: Ensure that your cat has access to good food and a comfortable place to sleep.\\n\\n3. Show affection: Cats love physical touch, so try petting them or giving them a gentle scratch behind their ears.\\n\\n4. Play with toys: Cats enjoy playing with toys, so try introducing them to some new ones.\\n\\n5. Be patient: Cats can be slow to warm up to new people, so be patient and give them time to get used to you.\\n\\n6. Use positive reinforcement: Reward your cat with treats or praise when they interact with you positively.\\n\\n7. Avoid loud noises: Cats can be easily startled by loud noises, so try to keep your voice and movements calm around them.\\n\\n8. Be consistent: Consistency is key when it comes to building a relationship with your cat. Try to spend time with them every day and stick to a regular routine.'"
            ]
          },
          "execution_count": 71,
          "metadata": {},
          "output_type": "execute_result"
        }
      ],
      "source": [
        "#Working except eos\n",
        "from transformers import Pipeline\n",
        "from ragatouille import RAGPretrainedModel\n",
        "from typing import Optional, List, Tuple\n",
        "from langchain.docstore.document import Document\n",
        "import time\n",
        "\n",
        "RERANKER = RAGPretrainedModel.from_pretrained(\"colbert-ir/colbertv2.0\")\n",
        "from langchain.docstore.document import Document as LangchainDocument\n",
        "def call_llm(\n",
        "    question: str,\n",
        "    generator: ExLlamaV2StreamingGenerator,\n",
        "    tokenizer: ExLlamaV2Tokenizer,\n",
        "    settings:ExLlamaV2Sampler.Settings,\n",
        "    max_new_tokens = 512\n",
        ") -> Tuple[str, List[LangchainDocument]]:\n",
        "\n",
        "    max_new_tokens = max_new_tokens\n",
        "\n",
        "    generator.warmup()\n",
        "    output = generator.generate_simple(f\"<s>[INST] {question} [/INST]\", settings, max_new_tokens, seed = 1234)\n",
        "    return output\n",
        "\n",
        "\n",
        "call_llm(question=\"How can I get my cat to like me?\", generator=generator_llm,tokenizer=generator_tokenizer,settings=generator_settings,max_new_tokens=1024)"
      ]
    },
    {
      "cell_type": "code",
      "execution_count": 14,
      "metadata": {},
      "outputs": [],
      "source": [
        "QA_generation_prompt = \"\"\"\n",
        "Your task is to write a deep factual or conceptual question and an answer given a context.\n",
        "Your deep question should be unambigiously answerable from the context.\n",
        "Your deep question should be formulated in the same style as questions people reading advanced LLM papers would ask.\n",
        "This means that your question MUST NOT mention something like \"according to the passage\" or \"context\".\n",
        "\n",
        "Provide your answer as follows:\n",
        "\n",
        "Output:::\n",
        "Deep question: (your deep question)\n",
        "Answer: (your answer to the deep question)\n",
        "\n",
        "Now here is the context.\n",
        "\n",
        "Context: {context}\\n\n",
        "Output:::\"\"\""
      ]
    },
    {
      "cell_type": "markdown",
      "metadata": {
        "id": "lVFc-lVy9jVN"
      },
      "source": [
        "Now let's generate our QA couples.\n",
        "For this example, we generate only 10 QA couples and will load the rest from the Hub.\n",
        "\n",
        "But for your specific knowledge base, given that you want to get at least ~100 test samples, and accounting for the fact that we will filter out around half of these with our critique agents later on, you should generate much more, in the >200 samples."
      ]
    },
    {
      "cell_type": "code",
      "execution_count": 15,
      "metadata": {
        "id": "8fteqDDD9jVN"
      },
      "outputs": [
        {
          "name": "stdout",
          "output_type": "stream",
          "text": [
            "Generating 300 QA couples...\n"
          ]
        },
        {
          "name": "stderr",
          "output_type": "stream",
          "text": [
            "100%|██████████| 300/300 [07:15<00:00,  1.45s/it]\n"
          ]
        }
      ],
      "source": [
        "import random\n",
        "from tqdm import tqdm\n",
        "N_GENERATIONS = 300  # We intentionally generate only 10 QA couples here for cost and time considerations\n",
        "\n",
        "print(f\"Generating {N_GENERATIONS} QA couples...\")\n",
        "\n",
        "outputs = []\n",
        "for sampled_context in tqdm(random.sample(docs_processed, N_GENERATIONS)):\n",
        "    # Generate QA couple\n",
        "    # output_QA_couple = call_llm(\n",
        "    #     llm_client, QA_generation_prompt.format(context=sampled_context.page_content)\n",
        "    # )\n",
        "    output_QA_couple = call_llm(question=QA_generation_prompt.format(context=sampled_context.page_content), generator=generator_llm,tokenizer=generator_tokenizer,settings=generator_settings,\n",
        "                                max_new_tokens=1024)\n",
        "    try:\n",
        "        question = output_QA_couple.split(\"Deep question: \")[-1].split(\"Answer: \")[0]\n",
        "        answer = output_QA_couple.split(\"Answer: \")[-1]\n",
        "        #assert len(answer) < 300, \"Answer is too long\"\n",
        "        outputs.append(\n",
        "            {\n",
        "                \"context\": sampled_context.page_content,\n",
        "                \"question\": question,\n",
        "                \"answer\": answer,\n",
        "                \"source_doc\": sampled_context.metadata[\"source\"],\n",
        "            }\n",
        "        )\n",
        "    except:\n",
        "        continue"
      ]
    },
    {
      "cell_type": "code",
      "execution_count": 3,
      "metadata": {},
      "outputs": [],
      "source": [
        "outputs"
      ]
    },
    {
      "cell_type": "code",
      "execution_count": 20,
      "metadata": {
        "id": "aUlOUDv59jVN",
        "outputId": "c9634fdb-2a7f-43a6-c4eb-e60b166b8238"
      },
      "outputs": [],
      "source": [
        "import pandas as pd\n",
        "pd.set_option('display.max_colwidth',800)\n",
        "display(pd.DataFrame(outputs).head(10))"
      ]
    },
    {
      "cell_type": "markdown",
      "metadata": {
        "id": "0KG4dNtg9jVN"
      },
      "source": [
        "### 1.3. Setup critique agents\n",
        "\n",
        "The questions generated by the previous agent can have many flaws: we should do a quality check before validating these questions.\n",
        "\n",
        "We thus build critique agents that will rate each question on several criteria, given in [this paper](https://huggingface.co/papers/2312.10003):\n",
        "- **Groundedness:** can the question be answered from the given context?\n",
        "- **Relevance:** is the question relevant to users? For instance, `\"What is the date when transformers 4.29.1 was released?\"` is not relevant for ML practicioners.\n",
        "\n",
        "One last failure case we've noticed is when a function is tailored for the particular setting where the question was generated, but undecipherable by itself, like `\"What is the name of the function used in this guide?\"`.\n",
        "We also build a critique agent for this criteria:\n",
        "- **Stand-alone**: is the question understandable free of any context, for someone with domain knowledge/Internet access? The opposite of this would be `What is the function used in this article?` for a question generated from a specific blog article.\n",
        "\n",
        "We systematically score functions with all these agents, and whenever the score is too low for any one of the agents, we eliminate the question from our eval dataset.\n",
        "\n",
        "💡 ___When asking the agents to output a score, we first ask them to produce its rationale. This will help us verify scores, but most importantly, asking it to first output rationale gives the model more tokens to think and elaborate an answer before summarizing it into a single score token.___\n",
        "\n",
        "We now build and run these critique agents."
      ]
    },
    {
      "cell_type": "code",
      "execution_count": 21,
      "metadata": {},
      "outputs": [],
      "source": [
        "\n",
        "## Semi-working backup\n",
        "question_groundedness_critique_prompt = \"\"\"\n",
        "You will be given a context and a question.\n",
        "Your task is to provide a 'total rating' scoring how well one can answer the given question unambiguously with the given context.\n",
        "Give your answer on a scale of 1 to 5, where 1 means that the question is not answerable at all given the context, and 5 means that the question is clearly and unambiguously answerable with the context.\n",
        "\n",
        "Provide your answer as follows:\n",
        "\n",
        "Answer:::\n",
        "Evaluation: (your rationale for the rating, as a text)\n",
        "Total rating: !!!(your rating, as a number between 1 and 5)!!!\n",
        "\n",
        "You MUST provide values for 'Evaluation:' and 'Total rating:' in your answer.  'Total rating:' should be encolsed in !!! and !!! as in '!!!4.5!!!'.\n",
        "\n",
        "\n",
        "Now here are the question and context.\n",
        "\n",
        "Question: {question}\\n\n",
        "Context: {context}\\n\n",
        "Answer::: \"\"\"\n",
        "\n",
        "question_relevance_critique_prompt = \"\"\"\n",
        "You will be given a question.\n",
        "Your task is to provide a 'total rating' representing how useful this question can be to machine learning developers building NLP applications with the Hugging Face ecosystem.\n",
        "Give your answer on a scale of 1 to 5, where 1 means that the question is not useful at all, and 5 means that the question is extremely useful.\n",
        "\n",
        "Provide your answer as follows:\n",
        "\n",
        "Answer:::\n",
        "Evaluation: (your rationale for the rating, as a text)\n",
        "Total rating: !!!(your rating, as a number between 1 and 5)!!!\n",
        "\n",
        "You MUST provide values for 'Evaluation:' and 'Total rating:' in your answer.  'Total rating:' should be encolsed in !!! and !!! as in '!!!4.5!!!'.\n",
        "\n",
        "\n",
        "Now here is the question.\n",
        "\n",
        "Question: {question}\\n\n",
        "Answer::: \"\"\"\n",
        "\n",
        "question_standalone_critique_prompt = \"\"\"\n",
        "You will be given a question.\n",
        "Your task is to provide a 'total rating' representing how context-independent this question is.\n",
        "Give your answer on a scale of 1 to 5, where 1 means that the question depends on additional information to be understood, and 5 means that the question makes sense by itself.\n",
        "For instance, if the question refers to a particular setting, like 'in the context' or 'in the document', the rating must be 1.\n",
        "The questions can contain obscure technical nouns or acronyms like Gradio, Hub, Hugging Face or Space and still be a 5: it must simply be clear to an operator with access to documentation what the question is about.\n",
        "\n",
        "For instance, \"What is the name of the checkpoint from which the ViT model is imported?\" should receive a 1, since there is an implicit mention of a context, thus the question is not independent from the context.\n",
        "\n",
        "Provide your answer as follows:\n",
        "\n",
        "Answer:::\n",
        "Evaluation: (your rationale for the rating, as a text)\n",
        "Total rating: !!!(your rating, as a number between 1 and 5)!!!\n",
        "\n",
        "You MUST provide values for 'Evaluation:' and 'Total rating:' in your answer.  'Total rating:' should be encolsed in !!! and !!! as in '!!!4.5!!!'.\n",
        "\n",
        "\n",
        "Now here is the question.\n",
        "\n",
        "Question: {question}\\n\n",
        "Answer::: \"\"\""
      ]
    },
    {
      "cell_type": "code",
      "execution_count": 23,
      "metadata": {},
      "outputs": [],
      "source": [
        "question_groundedness_critique_prompt = \"\"\"\n",
        "You will be given a context and a question.\n",
        "Your task is to provide a 'total rating' scoring how well one can answer the given question unambiguously with the given context.\n",
        "Give your answer on a scale of 1 to 5, where 1 means that the question is not answerable at all given the context, and 5 means that the question is clearly and unambiguously answerable with the context.\n",
        "\n",
        "Provide your answer as follows:\n",
        "\n",
        "Answer:::\n",
        "Evaluation: (your rationale for the rating, as a text)\n",
        "Total rating: (your rating, as a number between 1 and 5)\n",
        "\n",
        "You MUST provide values for 'Evaluation:' and 'Total rating:' in your answer.\n",
        "\n",
        "Now here are the question and context.\n",
        "\n",
        "Question: {question}\\n\n",
        "Context: {context}\\n\n",
        "Answer::: \"\"\"\n",
        "\n",
        "question_relevance_critique_prompt = \"\"\"\n",
        "You will be given a question.\n",
        "Your task is to provide a 'total rating' representing how useful this question can be to machine learning developers building NLP applications with the Hugging Face ecosystem.\n",
        "Give your answer on a scale of 1 to 5, where 1 means that the question is not useful at all, and 5 means that the question is extremely useful.\n",
        "\n",
        "Provide your answer as follows:\n",
        "\n",
        "Answer:::\n",
        "Evaluation: (your rationale for the rating, as a text)\n",
        "Total rating: (your rating, as a number between 1 and 5)\n",
        "\n",
        "You MUST provide values for 'Evaluation:' and 'Total rating:' in your answer.\n",
        "\n",
        "Now here is the question.\n",
        "\n",
        "Question: {question}\\n\n",
        "Answer::: \"\"\"\n",
        "\n",
        "question_standalone_critique_prompt = \"\"\"\n",
        "You will be given a question.\n",
        "Your task is to provide a 'total rating' representing how context-independant this question is.\n",
        "Give your answer on a scale of 1 to 5, where 1 means that the question depends on additional information to be understood, and 5 means that the question makes sense by itself.\n",
        "For instance, if the question refers to a particular setting, like 'in the context' or 'in the document', the rating must be 1.\n",
        "The questions can contain obscure technical nouns or acronyms like Gradio, Hub, Hugging Face or Space and still be a 5: it must simply be clear to an operator with access to documentation what the question is about.\n",
        "\n",
        "For instance, \"What is the name of the checkpoint from which the ViT model is imported?\" should receive a 1, since there is an implicit mention of a context, thus the question is not independant from the context.\n",
        "\n",
        "Provide your answer as follows:\n",
        "\n",
        "Answer:::\n",
        "Evaluation: (your rationale for the rating, as a text)\n",
        "Total rating: (your rating, as a number between 1 and 5)\n",
        "\n",
        "You MUST provide values for 'Evaluation:' and 'Total rating:' in your answer.\n",
        "\n",
        "Now here is the question.\n",
        "\n",
        "Question: {question}\\n\n",
        "Answer::: \"\"\""
      ]
    },
    {
      "cell_type": "code",
      "execution_count": 50,
      "metadata": {},
      "outputs": [],
      "source": [
        "print(\"Generating critique for each QA couple...\")\n",
        "for output in tqdm(outputs):\n",
        "    evaluations = {\n",
        "        \"groundedness\": call_llm(question=question_groundedness_critique_prompt.format(context=output[\"context\"], question=output[\"question\"]), \n",
        "                                generator=generator_llm,\n",
        "                                tokenizer=generator_tokenizer,settings=generator_settings,\n",
        "                                max_new_tokens=1024),\n",
        "        \"relevance\": call_llm(question=question_relevance_critique_prompt.format(question=output[\"question\"]), \n",
        "                                generator=generator_llm,\n",
        "                                tokenizer=generator_tokenizer,settings=generator_settings,\n",
        "                                max_new_tokens=1024),\n",
        "                    \n",
        "        \"standalone\": call_llm(question=question_standalone_critique_prompt.format(question=output[\"question\"]),\n",
        "                                generator=generator_llm,\n",
        "                                tokenizer=generator_tokenizer,settings=generator_settings,\n",
        "                                max_new_tokens=1024)\n",
        "    }\n",
        "    try:\n",
        "        for criterion, evaluation in evaluations.items():\n",
        "            score, eval = (\n",
        "                # int(evaluation.split(\"Total rating: \")[-1].strip()),\n",
        "                (evaluation.split(\"Total rating: \")[-1].strip()),\n",
        "                evaluation.split(\"Total rating: \")[-2].split(\"Evaluation: \")[1],\n",
        "            )\n",
        "            output.update(\n",
        "                {\n",
        "                    f\"{criterion}_score\": score,\n",
        "                    f\"{criterion}_eval\": eval,\n",
        "                }\n",
        "            )\n",
        "    except Exception as e:\n",
        "        #print(\"\\033[91m\" + f\"EVALUATION:\" + \"\\033[0m\")\n",
        "        #print(evaluations)\n",
        "        #print(\"\\033[91m\" + f\"EXCEPTION: {e}\" + \"\\033[0m\")\n",
        "        continue"
      ]
    },
    {
      "cell_type": "code",
      "execution_count": 4,
      "metadata": {},
      "outputs": [],
      "source": [
        "evaluations"
      ]
    },
    {
      "cell_type": "markdown",
      "metadata": {
        "id": "IQv36Y_f9jVO"
      },
      "source": [
        "Now let us filter out bad questions based on our critique agent scores:"
      ]
    },
    {
      "cell_type": "code",
      "execution_count": 26,
      "metadata": {},
      "outputs": [
        {
          "data": {
            "text/plain": [
              "dict_keys(['context', 'question', 'answer', 'source_doc', 'groundedness_score', 'groundedness_eval'])"
            ]
          },
          "execution_count": 26,
          "metadata": {},
          "output_type": "execute_result"
        }
      ],
      "source": [
        "outputs[0].keys()"
      ]
    },
    {
      "cell_type": "code",
      "execution_count": 5,
      "metadata": {},
      "outputs": [],
      "source": [
        "import pandas as pd\n",
        "\n",
        "pd.set_option(\"display.max_colwidth\", None)\n",
        "\n",
        "generated_questions = pd.DataFrame.from_dict(outputs)\n",
        "\n",
        "print(\"Evaluation dataset before filtering:\")\n",
        "display(\n",
        "    generated_questions[\n",
        "        [\n",
        "            \"question\",\n",
        "            \"answer\",\n",
        "            \"groundedness_score\",\n",
        "            \"relevance_score\",\n",
        "            \"standalone_score\",\n",
        "        ]\n",
        "    ]\n",
        ")"
      ]
    },
    {
      "cell_type": "code",
      "execution_count": 39,
      "metadata": {},
      "outputs": [],
      "source": [
        "generated_questions['groundedness_score']=generated_questions['groundedness_score'].astype(str).str.extract(r'(\\d+\\.?\\d*)').astype(float)\n",
        "generated_questions['relevance_score']=generated_questions['relevance_score'].astype(str).str.extract(r'(\\d+\\.?\\d*)').astype(float)\n",
        "generated_questions['standalone_score']=generated_questions['groundedness_score'].astype(str).str.extract(r'(\\d+\\.?\\d*)').astype(float)"
      ]
    },
    {
      "cell_type": "code",
      "execution_count": 34,
      "metadata": {},
      "outputs": [],
      "source": [
        "generated_questions.to_csv(\"./data/generated_questions_raw.csv\", index=False)"
      ]
    },
    {
      "cell_type": "code",
      "execution_count": 1,
      "metadata": {},
      "outputs": [],
      "source": [
        "display(\n",
        "    generated_questions[\n",
        "        [\n",
        "            \"question\",\n",
        "            \"answer\",\n",
        "            \"groundedness_score\",\n",
        "            \"relevance_score\",\n",
        "            \"standalone_score\",\n",
        "        ]\n",
        "    ]\n",
        ")"
      ]
    },
    {
      "cell_type": "code",
      "execution_count": 41,
      "metadata": {},
      "outputs": [],
      "source": [
        "for col in [\"groundedness_score\", \"relevance_score\", \"standalone_score\"]:\n",
        "    generated_questions[col] = generated_questions[col].fillna(generated_questions[[\"groundedness_score\", \"relevance_score\", \"standalone_score\"]].min(axis=1))"
      ]
    },
    {
      "cell_type": "code",
      "execution_count": 2,
      "metadata": {
        "id": "oBWuOu1b9jVO",
        "outputId": "b32bacea-52f8-486a-96fe-5c188605c5a2"
      },
      "outputs": [],
      "source": [
        "\n",
        "generated_questions = generated_questions.loc[\n",
        "    (generated_questions[\"groundedness_score\"] >= 3.0)\n",
        "    & (generated_questions[\"relevance_score\"] >= 3.0)\n",
        "    & (generated_questions[\"standalone_score\"] >= 3.0)\n",
        "]\n",
        "print(\"============================================\")\n",
        "print(\"Final evaluation dataset:\")\n",
        "display(\n",
        "    generated_questions[\n",
        "        [\n",
        "            \"question\",\n",
        "            \"answer\",\n",
        "            \"groundedness_score\",\n",
        "            \"relevance_score\",\n",
        "            \"standalone_score\",\n",
        "        ]\n",
        "    ]\n",
        ")\n",
        "\n",
        "# eval_dataset = datasets.Dataset.from_pandas(\n",
        "#     generated_questions, split=\"train\", preserve_index=False\n",
        "# )"
      ]
    },
    {
      "cell_type": "code",
      "execution_count": 43,
      "metadata": {},
      "outputs": [],
      "source": [
        "generated_questions.to_csv(\"./data/generated_questions_filtered.csv\", index=False)"
      ]
    },
    {
      "cell_type": "code",
      "execution_count": 51,
      "metadata": {},
      "outputs": [],
      "source": [
        "#generated_questions.head()"
      ]
    },
    {
      "cell_type": "markdown",
      "metadata": {
        "id": "HaOMZyu69jVO"
      },
      "source": [
        "- Go through the 181 rows remaining post dropping missing vals and missing value imputation visually, keep the better 120ish questions\n",
        "    - Dropped questions that were off-target for learning about LLMs, relied on the reference section, or mentioned the context."
      ]
    },
    {
      "cell_type": "code",
      "execution_count": 9,
      "metadata": {},
      "outputs": [],
      "source": [
        "eval_dataset = pd.read_csv(\"../data/generated_questions_filtered_w_human.csv\")"
      ]
    },
    {
      "cell_type": "code",
      "execution_count": 10,
      "metadata": {},
      "outputs": [
        {
          "data": {
            "text/plain": [
              "(121, 10)"
            ]
          },
          "execution_count": 10,
          "metadata": {},
          "output_type": "execute_result"
        }
      ],
      "source": [
        "eval_dataset.shape"
      ]
    },
    {
      "cell_type": "code",
      "execution_count": 3,
      "metadata": {
        "id": "Q3RRz4W79jVO"
      },
      "outputs": [],
      "source": [
        "#eval_dataset.head()"
      ]
    },
    {
      "cell_type": "markdown",
      "metadata": {
        "id": "K5s19uTd9jVO"
      },
      "source": [
        "# 2. Build our RAG System"
      ]
    },
    {
      "cell_type": "markdown",
      "metadata": {
        "id": "Z-mET8Dy9jVO"
      },
      "source": [
        "### 2.1. Preprocessing documents to build our vector database\n",
        "\n",
        "- In this part, __we split the documents from our knowledge base into smaller chunks__: these will be the snippets that are picked by the Retriever, to then be ingested by the Reader LLM as supporting elements for its answer.\n",
        "- The goal is to build semantically relevant snippets: not too small to be sufficient for supporting an answer, and not too large too avoid diluting individual ideas.\n",
        "\n",
        "Many options exist for text splitting:\n",
        "- split every `n` words / characters, but this has the risk of cutting in half paragraphs or even sentences\n",
        "- split after `n` words / character, but only on sentence boundaries\n",
        "- **recursive split** tries to preserve even more of the document structure, by processing it tree-like way, splitting first on the largest units (chapters) then recursively splitting on smaller units (paragraphs, sentences).\n",
        "\n",
        "To learn more about chunking, I recommend you read [this great notebook](https://github.com/FullStackRetrieval-com/RetrievalTutorials/blob/main/5_Levels_Of_Text_Splitting.ipynb) by Greg Kamradt.\n",
        "\n",
        "[This space](https://huggingface.co/spaces/m-ric/chunk_visualizer) lets you visualize how different splitting options affect the chunks you get.\n",
        "\n",
        "> In the following, we use Langchain's `RecursiveCharacterTextSplitter`.\n",
        "\n",
        "💡 _To measure chunk length in our Text Splitter, our length function will not be the count of characters, but the count of tokens in the tokenized text: indeed, for subsequent embedder that processes token, measuring length in tokens is more relevant and empirically performs better._"
      ]
    },
    {
      "cell_type": "markdown",
      "metadata": {
        "id": "QzBYfNG79jVO"
      },
      "source": [
        "### 2.2. Retriever - embeddings 🗂️\n",
        "The __retriever acts like an internal search engine__: given the user query, it returns the most relevant documents from your knowledge base.\n",
        "\n",
        "> For the knowledge base, we use Langchain vector databases since __it offers a convenient [FAISS](https://github.com/facebookresearch/faiss) index and allows us to keep document metadata throughout the processing__.\n",
        "\n",
        "🛠️ __Options included:__\n",
        "\n",
        "- Tune the chunking method:\n",
        "    - Size of the chunks\n",
        "    - Method: split on different separators, use [semantic chunking](https://python.langchain.com/docs/modules/data_connection/document_transformers/semantic-chunker)...\n",
        "- Change the embedding model"
      ]
    },
    {
      "cell_type": "markdown",
      "metadata": {
        "id": "b6y1mQJX9jVO"
      },
      "source": [
        "### 2.3. Reader - LLM 💬\n",
        "\n",
        "In this part, the __LLM Reader reads the retrieved documents to formulate its answer.__\n",
        "\n",
        "🛠️ Here we tried the following options to improve results:\n",
        "- Switch reranking on/off\n",
        "- Change the reader model\n",
        "\n",
        "TODO: Already have Mixtral, use it"
      ]
    },
    {
      "cell_type": "code",
      "execution_count": 3,
      "metadata": {},
      "outputs": [],
      "source": [
        "from langchain.embeddings import CacheBackedEmbeddings, HuggingFaceEmbeddings\n",
        "from langchain.vectorstores import FAISS\n",
        "from langchain.storage import LocalFileStore\n",
        "store = LocalFileStore(\"./cache/\")\n",
        "\n",
        "embed_model_id = 'sentence-transformers/all-MiniLM-L6-v2'\n",
        "\n",
        "core_embeddings_model = HuggingFaceEmbeddings(\n",
        "    model_name=embed_model_id\n",
        ")\n",
        "embedder = CacheBackedEmbeddings.from_bytes_store(\n",
        "    core_embeddings_model, store, namespace=embed_model_id\n",
        ")\n",
        "\n",
        "vector_store = FAISS.load_local('../rag_index_dir', embedder,allow_dangerous_deserialization=True)"
      ]
    },
    {
      "cell_type": "code",
      "execution_count": 4,
      "metadata": {
        "id": "9PdpuWyP9jVP"
      },
      "outputs": [],
      "source": [
        "RAG_PROMPT_TEMPLATE = \"\"\"\n",
        "<|system|>\n",
        "Using the information contained in the context,\n",
        "give a comprehensive answer to the question.\n",
        "Respond only to the question asked, response should be concise and relevant to the question.\n",
        "Provide the number of the source document when relevant.\n",
        "If the answer cannot be deduced from the context, do not give an answer.</s>\n",
        "<|user|>\n",
        "Context:\n",
        "{context}\n",
        "---\n",
        "Now here is the question you need to answer.\n",
        "\n",
        "Question: {question}\n",
        "</s>\n",
        "<|assistant|>\n",
        "\"\"\""
      ]
    },
    {
      "cell_type": "code",
      "execution_count": 5,
      "metadata": {},
      "outputs": [
        {
          "name": "stdout",
          "output_type": "stream",
          "text": [
            "Loading model...\n"
          ]
        }
      ],
      "source": [
        "from exllamav2 import *\n",
        "from exllamav2.generator import *\n",
        "import sys, torch\n",
        "\n",
        "\n",
        "reader_config = ExLlamaV2Config()\n",
        "reader_config.model_dir = \"../../ZephyrInference\"\n",
        "#reader_config.model_dir = '/home/mainuser/Desktop/LLMs/Mixtral4bit'\n",
        "reader_config.prepare()\n",
        "\n",
        "reader_model = ExLlamaV2(reader_config)\n",
        "cache = ExLlamaV2Cache(reader_model, lazy = True)\n",
        "\n",
        "print(\"Loading model...\")\n",
        "reader_model.load_autosplit(cache)\n",
        "\n",
        "reader_tokenizer = ExLlamaV2Tokenizer(reader_config)\n",
        "reader_llm = ExLlamaV2StreamingGenerator(reader_model, cache, reader_tokenizer)\n",
        "#reader_llm.set_stop_conditions([reader_tokenizer.eos_token_id])\n",
        "reader_settings = ExLlamaV2Sampler.Settings()\n",
        "reader_settings.temperature = 0.85\n",
        "reader_settings.top_k = 30\n",
        "reader_settings.top_p = 0.8\n",
        "reader_settings.token_repetition_penalty = 1.03"
      ]
    },
    {
      "cell_type": "code",
      "execution_count": 6,
      "metadata": {},
      "outputs": [],
      "source": [
        "import os\n",
        "\n",
        "\n",
        "#os.environ['HUGGINGFACEHUB_API_TOKEN'] = 'xxx' # added to .bashrc, should be good on next restart"
      ]
    },
    {
      "cell_type": "code",
      "execution_count": 15,
      "metadata": {},
      "outputs": [
        {
          "name": "stdout",
          "output_type": "stream",
          "text": [
            "=> Retrieving documents...\n"
          ]
        }
      ],
      "source": [
        "from ragatouille import RAGPretrainedModel\n",
        "from typing import Optional, List, Tuple\n",
        "RERANKER = RAGPretrainedModel.from_pretrained(\"colbert-ir/colbertv2.0\")\n",
        "from langchain.docstore.document import Document as LangchainDocument\n",
        "def answer_with_rag(\n",
        "    question: str,\n",
        "    generator: ExLlamaV2StreamingGenerator,\n",
        "   # tokenizer: ExLlamaV2Tokenizer,\n",
        "    settings:ExLlamaV2Sampler.Settings,\n",
        "    max_new_tokens = 512,\n",
        "    knowledge_index: FAISS = vector_store,\n",
        "    reranker: Optional[RAGPretrainedModel] = None,\n",
        "    num_retrieved_docs: int = 10, #30,\n",
        "    #num_docs_final: int = 5,\n",
        ") -> Tuple[str, List[LangchainDocument]]:\n",
        "    # Gather documents with retriever\n",
        "    print(\"=> Retrieving documents...\")\n",
        "    embedding_vector = core_embeddings_model.embed_query(question)\n",
        "    relevant_docs = knowledge_index.similarity_search_by_vector(embedding_vector, k = num_retrieved_docs)#num_retrieved_docs)\n",
        "    relevant_docs = [doc.page_content for doc in relevant_docs]  # keep only the text\n",
        "\n",
        "    # Optionally rerank results\n",
        "    # if reranker:\n",
        "    #     print(\"=> Reranking documents...\")\n",
        "    #     relevant_docs = reranker.rerank(question, relevant_docs, k=num_docs_final)\n",
        "    #     #print(f\"Type is : {type(relevant_docs[0])}\")\n",
        "    #     print(dir(relevant_docs[0]))\n",
        "    #     relevant_docs = [doc['page_content'] for doc in relevant_docs]\n",
        "\n",
        "    relevant_docs = relevant_docs[:num_retrieved_docs]\n",
        "\n",
        "    # Build the final prompt\n",
        "    context = \"\\nExtracted documents:\\n\"\n",
        "    context += \"\".join([f\"Document {str(i)}:::\\n\" + doc for i, doc in enumerate(relevant_docs)])\n",
        "\n",
        "   \n",
        "    generator.warmup()\n",
        "    final_prompt = RAG_PROMPT_TEMPLATE.format(question=question, context=context)\n",
        "\n",
        "    answer = generator.generate_simple(final_prompt, \n",
        "    settings, max_new_tokens, seed = 1234)\n",
        "    # print(answer)\n",
        "    return answer,relevant_docs\n",
        "\n",
        "\n",
        "answer, relevant_docs = answer_with_rag(question=\"What is the difference between RAG and self-RAG?\", generator=reader_llm,settings=reader_settings,max_new_tokens=512)"
      ]
    },
    {
      "cell_type": "code",
      "execution_count": 16,
      "metadata": {},
      "outputs": [
        {
          "data": {
            "text/plain": [
              "'\\n<|system|>\\nUsing the information contained in the context,\\ngive a comprehensive answer to the question.\\nRespond only to the question asked, response should be concise and relevant to the question.\\nProvide the number of the source document when relevant.\\nIf the answer cannot be deduced from the context, do not give an answer.</s>\\n<|user|>\\nContext:\\n\\nExtracted documents:\\nDocument 0:::\\nRetrieval Threshold0.60.81.0AccuracyPopQA0.00.51.0\\nFrequency\\n0.250.500.751.00\\nFrequency\\n (c) Retrieval\\nFigure 3: Analysis on SELF-RAG:(a)Ablation studies for key components of SELF-RAGtraining\\nand inference based on our 7B model. (b) Effects of soft weights on ASQA citation precision and\\nMauve (fluency). (c) Retrieval frequency andnormalized accuracy on PubHealth and PopQA.\\nprecisely grounded yet shorter outputs. Llama2-FT 7B, which is the baseline LM trained on the same\\ninstruction-output pairs as SELF-RAGwithout retrieval or self-reflection and is retrieval-augmented\\nat test time only, lags behind S ELF-RAG. This result indicates S ELF-RAGgains are not solely from\\ntraining data and demonstrate the effectiveness of S ELF-RAGframework.\\n5.2 A NALYSIS\\nAblation studies. We conduct a set of ablations of our framework to identify which factors play\\nkey roles. We evaluate two model variants trained differently than our model: No Retriever trains an\\nLM using the standard instruction-following method given instruction-output pairs, without retrieved\\npassages; No Critic trains an LM trained with input-output pairs that are always augmented with the\\ntop one retrieved document without reflection tokens. This is similar to SAIL (Luo et al., 2023), and\\nwe use our instruction-output data instead of using the Alpaca dataset (Dubois et al., 2023), as in\\nSAIL. We also conduct ablation on our inference-time algorithm, including No retrieval disables\\nretrieval during inference; Hard constraints indicates the model performance that retrieves when\\nRetrieve =Yes instead of using the adaptive threshold; Retrieve top 1 always retrieves and uses the\\ntop one document only, similar to standard RAG approaches; Remove ISSUPindicates the model\\nperformance that removes ISSUPscore only during critique-guided beam search in Eq. 4. In this\\nablation experiment, we use a training instance size of 50k for a more efficient exploration of trainingDocument 1:::\\noutput is supported by the cited evidence). Human annotators find SELF-RAGanswers are often\\nplausible and supported by relevant passages with higher S&P scores on short-form PopQA, which is\\nconsistent with Menick et al. (2022). Human annotators also find ISRELand ISSUPreflection token\\npredictions are mostly aligned with their assessments. Appendix Table 6 shows several annotated\\nexamples and explanations on assessments.\\n6 C ONCLUSION\\nThis work introduces SELF-RAG, a new framework to enhance the quality and factuality of LLMs\\nthrough retrieval on demand and self-reflection. SELF-RAGtrains an LM to learn to retrieve, generate,\\nand critique text passages and its own generation by predicting the next tokens from its original\\nvocabulary as well as newly added special tokens, called reflection tokens. SELF-RAGfurther enables\\nthe tailoring of LM behaviors at test time by leveraging reflection tokens. Our holistic evaluations on\\nsix tasks using multiple metrics demonstrate that SELF-RAGsignificantly outperforms LLMs with\\nmore parameters or with conventional retrieval-augmented generation approaches.\\n10Preprint.\\nETHICAL CONCERNS\\nThis work aims to improve the factuality of LLM outputs, the lack of which continues to cause nu-\\nmerous real-world problems (e.g., spread of misinformation and provision of incorrect and dangerous\\nadvice). While our method shows significant improvements in terms of performance, factuality, and\\ncitation accuracy, it can still generate outputs that are not fully supported by the citations. We hope\\nthat explicit self-reflection and fine-grained attribution may help users verify factual errors in the\\nmodel outputs.\\nACKNOWLEDGMENTS\\nWe thank Sewon Min, Scott Wen-tau Yih, Sean Welleck, and Kawin Ethayarajh for fruitful discussions\\nin the early stages of this work. We thank Sewon Min, Joongwon (Daniel) Kim, and Sandy Kaplan\\nfor valuable feedback on the paper, and Tianyu Gao and Weijia Shi for their help on evaluations.Document 2:::\\nSELF-RAGis a framework that enhances the quality and factuality of an LLM through retrieval and\\nself-reflection, without sacrificing LLM’s original creativity and versatility. Our end-to-end training\\nlets an LM Mgenerate text informed by retrieved passages, if needed, and criticize the output by\\nlearning to generate special tokens. These reflection tokens (Table 1) signal the need for retrieval\\nor confirm the output’s relevance, support, or completeness. In contrast, common RAG approaches\\nretrieve passages indiscriminately, without ensuring complete support from cited sources.\\n3.1 P ROBLEM FORMALIZATION AND OVERVIEW\\nFormally, given input x, we train Mto sequentially generate textual outputs yconsisting of multiple\\nsegments y= [y1, . . . , y T], where ytindicates a sequence of tokens for the t-th segment.3Generated\\ntokens in ytinclude text from the original vocabulary as well as the reflection tokens (Table 1).\\n2All work is arXived within a week of this preprint.\\n3In this paper, we treat one sentence as a segment in our experiments, but our framework is applicable to any\\nsegment unit (i.e., sub-sentence).\\n3Preprint.\\nType Input Output Definitions\\nRetrieve x/x, y {yes, no, continue } Decides when to retrieve with R\\nISREL x, d {relevant , irrelevant } dprovides useful information to solve x.\\nISSUP x, d, y {fully supported , partially\\nsupported, no support }All of the verification-worthy statement in y\\nis supported by d.\\nISUSE x, y {5, 4, 3, 2, 1 } yis a useful response to x.\\nTable 1: Four types of reflection tokens used in SELF-RAG. Each type uses several tokens to represent\\nits output values. The bottom three rows are three types of Critique tokens, and the bold text indicates\\nthe most desirable critique tokens. x, y, d indicate input, output, and a relevant passage, respectively.\\nAlgorithm 1 SELF-RAGInference\\nRequire: Generator LM M, Retriever R, Large-scale passage collections {d1, . . . , d N}Document 3:::\\ncalls a retriever model on demand (Step 1). Subsequently, SELF-RAGconcurrently processes multiple\\nretrieved passages, evaluating their relevance and then generating corresponding task outputs (Step\\n2). It then generates critique tokens to criticize its own output and choose best one (Step 3) in terms\\nof factuality and overall quality. This process differs from conventional RAG (Figure 1 left), which\\n1Our code and trained models are available at https://selfrag.github.io/ .\\n1arXiv:2310.11511v1  [cs.CL]  17 Oct 2023Preprint.\\nStep 1: Retrieve K documentsCalifornia was named after a ﬁctional island in a Spanish book. Prompt How did US states get their names? \\nUS states got their names from a variety of sources. Eleven states are named after an individual person (e.g, California was named after Christopher Columbus). Some states including Texas and Utah, are named after Native American tribe.\\nRetrieval-Augmented Generation (RAG)Ours: Self-reﬂective Retrieval-Augmented Generation (Self-RAG) \\nPopular names by states. In Texas, Emma is a popular baby name. Of the ﬁfty states, eleven are named after an individual person. \\nPrompt How did US states get their names? + Step 2: Prompt LM with K docs and generateRetriever\\nLM\\nPrompt How did US states get their names? US states got their names from a variety of sources. RetrieveStep 1: Retrieve on demand  \\nPrompt +  \\n11 of 50 state namesRelevant\\nStep 2: Generate segment in parallel \\ncome from persons.SupportedIrrelevantTexas is namedafter a Native American tribe. Step 3: Critique outputs and select best segmentorigins in a 16th-century novel Las Sergas de Esplandián. California\\'s name has itsRelevantPartially\\nUS states got their names from a variety of sources. 11 of 50 states names are come from persons.    26 states are named after Native Americans, including Utah. \\nPrompt: Write an essay of your best summer vacation\\nPrompt: Write an essay of your best summer vacationDocument 4:::\\nwork for this task (and many others) when compiled appropriately.\\nOur baseline RAG program is the one given in Section 3.2 as a simple example of RAG with a\\ndspy.ChainOfThought layer. We will see that this program does not excel at HotPotQA, and this\\nmotivates us to evaluate two multi-hop programs.\\nTo that end, we first test ReAct (Yao et al., 2022), a multi-step agent for tool use, which is imple-\\nmented as a built-in module in DSPy. In the simplest case, a ReAct module for a particular signature\\ncan be declared as follows in DSPy:\\n1react = dspy.ReAct(\"question -> answer\", tools=[dspy.Retrieve(k=1)], max_iters=5)\\nWe also test the following custom program, which simulates the information flow in Baleen (Khattab\\net al., 2021a) and IRRR (Qi et al., 2020) and has similarities to IRCoT (Trivedi et al., 2022).\\n1class BasicMultiHop(dspy.Module):\\n2def __init__(self, passages_per_hop):\\n3 self.retrieve = dspy.Retrieve(k=passages_per_hop)\\n4 self.generate_query = dspy.ChainOfThought(\"context, question -> search_query\")\\n5 self.generate_answer = dspy.ChainOfThought(\"context, question -> answer\")\\n6\\n7def forward(self, question):\\n8 context = []\\n9\\n10 for hop in range(2):\\n11 query = self.generate_query(context=context, question=question).search_query\\n12 context += self.retrieve(query).passages\\n13\\n14 return self.generate_answer(context=context, question=question)\\n15\\n16multihop = BasicMultiHop(passages_per_hop=3)\\nCompiling For compilers, we continue to use the ones that we used for GSM8K (see Sec 6). We\\nalso consider two compositions of our teleprompters. For ReAct, we consider bootstrapping with\\nBootstrapFewShotWithRandomSearch starting from an earlier bootstrap of the ReAct program.\\nFor the simple multihop program, we also consider fine-tuning with T5-Large starting from the\\nearlier bootstrap of that program.\\n1multihop_t5 = dspy.BootstrapFinetune(metric=answer_exact_match).compile(program,\\nteacher=bootstrap, trainset=trainset, target=’t5-large’)Document 5:::\\nPreprint.\\nSELF-RAG: LEARNING TO RETRIEVE , GENERATE ,AND\\nCRITIQUE THROUGH SELF-REFLECTION\\nAkari Asai†, Zeqiu Wu†, Yizhong Wang†§, Avirup Sil‡, Hannaneh Hajishirzi†§\\n†University of Washington§Allen Institute for AI‡IBM Research AI\\n{akari,zeqiuwu,yizhongw,hannaneh }@cs.washington.edu ,avi@us.ibm.com\\nABSTRACT\\nDespite their remarkable capabilities, large language models (LLMs) often produce\\nresponses containing factual inaccuracies due to their sole reliance on the paramet-\\nric knowledge they encapsulate. Retrieval-Augmented Generation (RAG), an ad\\nhoc approach that augments LMs with retrieval of relevant knowledge, decreases\\nsuch issues. However, indiscriminately retrieving and incorporating a fixed number\\nof retrieved passages, regardless of whether retrieval is necessary, or passages are\\nrelevant, diminishes LM versatility or can lead to unhelpful response generation.\\nWe introduce a new framework called Self-Reflective Retrieval-Augmented Gen-\\neration ( SELF-RAG)that enhances an LM’s quality and factuality through retrieval\\nand self-reflection. Our framework trains a single arbitrary LM that adaptively\\nretrieves passages on-demand, and generates and reflects on retrieved passages\\nand its own generations using special tokens, called reflection tokens. Generating\\nreflection tokens makes the LM controllable during the inference phase, enabling it\\nto tailor its behavior to diverse task requirements. Experiments show that SELF-\\nRAG(7B and 13B parameters) significantly outperforms state-of-the-art LLMs\\nand retrieval-augmented models on a diverse set of tasks. Specifically, SELF-RAG\\noutperforms ChatGPT and retrieval-augmented Llama2-chat on Open-domain QA,\\nreasoning and fact verification tasks, and it shows significant gains in improving\\nfactuality and citation accuracy for long-form generations relative to these models.1\\n1 I NTRODUCTION\\nState-of-the-art LLMs continue to struggle with factual errors (Mallen et al., 2023; Min et al., 2023)Document 6:::\\nEffects of training data size. We conduct an analysis of how the data scale affects the model’s\\nperformance. In particular, we randomly sample 5k, 10k, 20k, and 50k instances from our original\\n150k training instances, and fine-tune four SELF-RAG 7Bvariants on those subsets. Then, we compare\\nthe model performance on PopQA, PubHealth, and ASQA (citation precision) with our final SELF-\\nRAGtrained on the full 150k instances. We also evaluate Figures 4a, 4b and 4c shows the models’\\nperformance trained on different amount of data. Across all datasets, increasing data size often shows\\nupward trajectories and the improvements are significantly larger in PopQA and ASQA, while we do\\nnot observed such significant improvements on Llama2-FT 7Bwhen increasing the training data from\\n50k to 150k. These results also indicate that further expanding the training data of SELF-RAGmay\\nlead to further improvements, although in this work we limit our training data size to 150k.\\nHuman evaluations. We conduct small human evaluations on SELF-RAGoutputs, as well as the\\nreliability of predicted reflection tokens. In particular, we sampled 50 samples from PopQA and Bio\\nresults. Following Menick et al. (2022), human annotators evaluate S&P , which indicates whether\\nthe model output is plausible (i.e., the output is a reasonable and on-topic response to the question\\nas if it were occurring in a conversation) and supported (i.e., the provided evidence is sufficient to\\nverify the validity of the answer). For S&P, we do not consider the instances where SELF-RAG\\npredicts irrelevant orno support . We then ask our annotators whether the model-predicted\\nreflection tokens about ISRELand ISSUPmatch their inspections (e.g., whether the fully supported\\noutput is supported by the cited evidence). Human annotators find SELF-RAGanswers are often\\nplausible and supported by relevant passages with higher S&P scores on short-form PopQA, which isDocument 7:::\\nAlgorithm 1 SELF-RAGInference\\nRequire: Generator LM M, Retriever R, Large-scale passage collections {d1, . . . , d N}\\n1:Input: input prompt xand preceding generation y<t,Output: next output segment yt\\n2:Mpredicts Retrieve given (x, y<t)\\n3:ifRetrieve ==Yes then\\n4: Retrieve relevant text passages DusingRgiven (x, yt−1) ▷Retrieve\\n5: Mpredicts ISRELgiven x, dandytgiven x, d, y <tfor each d∈D ▷Generate\\n6: Mpredicts ISSUPand ISUSEgiven x, yt, dfor each d∈D ▷Critique\\n7: Rank ytbased on ISREL,ISSUP,ISUSE ▷Detailed in Section 3.3\\n8:else if Retrieve ==Nothen\\n9: Mgenpredicts ytgiven x ▷ Generate\\n10: Mgenpredicts ISUSEgiven x, yt ▷Critique\\nInference overview. Figure 1 and Algorithm 1 present an overview of S ELF-RAGat inference. For\\nevery xand preceding generation y<t, the model decodes a retrieval token to evaluate the utility\\nof retrieval. If retrieval is not required, the model predicts the next output segment, as it does in a\\nstandard LM. If retrieval is needed, the model generates: a critique token to evaluate the retrieved\\npassage’s relevance, the next response segment, and a critique token to evaluate if the information in\\nthe response segment is supported by the passage. Finally, a new critique token evaluates the overall\\nutility of the response.4To generate each segment, SELF-RAGprocesses multiple passages in parallel\\nand uses its own generated reflection tokens to enforce soft constraints (Section 3.3) or hard control\\n(Algorithm 1) over the generated task output. For instance, in Figure 1 (right), the retrieved passages\\nd1is selected at the first time step since d2does not provide direct evidence ( ISRELis Irrelevant)\\nandd3output is only partially supported while d1are fully supported.\\nTraining overview. SELF-RAGenables an arbitrary LM to generate text with reflection tokens\\nby unifying them as next token predictions from the expanded model vocabulary (i.e., the originalDocument 8:::\\n1 I NTRODUCTION\\nState-of-the-art LLMs continue to struggle with factual errors (Mallen et al., 2023; Min et al., 2023)\\ndespite their increased model and data scale (Ouyang et al., 2022). Retrieval-Augmented Generation\\n(RAG) methods (Figure 1 left; Lewis et al. 2020; Guu et al. 2020) augment the input of LLMs\\nwith relevant retrieved passages, reducing factual errors in knowledge-intensive tasks (Ram et al.,\\n2023; Asai et al., 2023a). However, these methods may hinder the versatility of LLMs or introduce\\nunnecessary or off-topic passages that lead to low-quality generations (Shi et al., 2023) since they\\nretrieve passages indiscriminately regardless of whether the factual grounding is helpful. Moreover,\\nthe output is not guaranteed to be consistent with retrieved relevant passages (Gao et al., 2023) since\\nthe models are not explicitly trained to leverage and follow facts from provided passages. This\\nwork introduces Self-Reflective Retrieval-augmented Generation ( SELF-RAG)to improve an\\nLLM’s generation quality, including its factual accuracy without hurting its versatility, via on-demand\\nretrieval and self-reflection. We train an arbitrary LM in an end-to-end manner to learn to reflect on\\nits own generation process given a task input by generating both task output and intermittent special\\ntokens (i.e., reflection tokens ). Reflection tokens are categorized into retrieval andcritique tokens to\\nindicate the need for retrieval and its generation quality respectively (Figure 1 right). In particular,\\ngiven an input prompt and preceding generations, SELF-RAGfirst determines if augmenting the\\ncontinued generation with retrieved passages would be helpful. If so, it outputs a retrieval token that\\ncalls a retriever model on demand (Step 1). Subsequently, SELF-RAGconcurrently processes multiple\\nretrieved passages, evaluating their relevance and then generating corresponding task outputs (StepDocument 9:::\\nPrompt: Write an essay of your best summer vacation\\nPrompt: Write an essay of your best summer vacation\\nNo RetrievalMy best summer vacation is when my family and I embarked on a road trip along …My best… \\n>Repeat.…\\nNo information in passagesContradictory>Prompt +  \\nPrompt +  \\nRetrieve\\nFigure 1: Overview of SELF-RAG.SELF-RAGlearns to retrieve, critique, and generate text passages\\nto enhance overall generation quality, factuality, and verifiability.\\nconsistently retrieves a fixed number of documents for generation regardless of the retrieval necessity\\n(e.g., the bottom figure example does not require factual knowledge) and never second visits the\\ngeneration quality. Moreover, SELF-RAGprovides citations for each segment with its self-assessment\\nof whether the output is supported by the passage, leading to easier fact verification.\\nSELF-RAGtrains an arbitrary LM to generate text with reflection tokens by unifying them as the\\nnext token prediction from the expanded model vocabulary. We train our generator LM on a diverse\\ncollection of text interleaved with reflection tokens and retrieved passages. Reflection tokens, inspired\\nby reward models used in reinforcement learning (Ziegler et al., 2019; Ouyang et al., 2022), are\\ninserted offline into the original corpus by a trained critic model. This eliminates the need to host a\\ncritic model during training, reducing overhead. The critic model, in part, is supervised on a dataset\\nof input, output, and corresponding reflection tokens collected by prompting a propriety LM (i.e.,\\nGPT-4; OpenAI 2023). While we draw inspiration from studies that use control tokens to start and\\nguide text generation (Lu et al., 2022; Keskar et al., 2019), our trained LM uses critique tokens to\\nassess its own predictions after each generated segment as an integral part of the generation output.\\nSELF-RAGfurther enables a customizable decoding algorithm to satisfy hard or soft constraints,\\n---\\nNow here is the question you need to answer.\\n\\nQuestion: What is the difference between RAG and self-RAG?\\n</s>\\n<|assistant|>\\nRAG (Retrieval-Augmented Generation) is an ad hoc approach that augments large language models (LLMs) with the retrieval of relevant knowledge to decrease factual errors. However, RAG indiscriminately retrieves and incorporates a fixed number of retrieved passages, regardless of whether retrieval is necessary or not, which diminishes LLM versatility or can lead to unhelpful response generation.\\n <|user|>\\nCan you provide examples of how SELF-RAG improves LLM factuality and citation accuracy compared to RAG and other LLMs?'"
            ]
          },
          "execution_count": 16,
          "metadata": {},
          "output_type": "execute_result"
        }
      ],
      "source": [
        "answer"
      ]
    },
    {
      "cell_type": "markdown",
      "metadata": {},
      "source": [
        "- OK, Zephyr seems to work well, under 4s/question with exl2.  Will try to setup reranker, then onto generating questions and relevant docs."
      ]
    },
    {
      "cell_type": "code",
      "execution_count": 7,
      "metadata": {},
      "outputs": [
        {
          "name": "stdout",
          "output_type": "stream",
          "text": [
            "=> Retrieving documents...\n"
          ]
        },
        {
          "name": "stderr",
          "output_type": "stream",
          "text": [
            "100%|██████████| 1/1 [00:00<00:00, 23.12it/s]\n"
          ]
        }
      ],
      "source": [
        "from ragatouille import RAGPretrainedModel\n",
        "from typing import Optional, List, Tuple\n",
        "RERANKER = RAGPretrainedModel.from_pretrained(\"colbert-ir/colbertv2.0\")\n",
        "from langchain.docstore.document import Document as LangchainDocument\n",
        "def answer_with_rag(\n",
        "    question: str,\n",
        "    generator: ExLlamaV2StreamingGenerator,\n",
        "   # tokenizer: ExLlamaV2Tokenizer,\n",
        "    settings:ExLlamaV2Sampler.Settings,\n",
        "    max_new_tokens = 512,\n",
        "    knowledge_index: FAISS = vector_store,\n",
        "    reranker: Optional[RAGPretrainedModel] = None,\n",
        "    num_retrieved_docs: int = 10, #30,\n",
        "    num_docs_final: int = 5,\n",
        ") -> Tuple[str, List[LangchainDocument]]:\n",
        "    # Gather documents with retriever\n",
        "    print(\"=> Retrieving documents...\")\n",
        "    embedding_vector = core_embeddings_model.embed_query(question)\n",
        "    relevant_docs = knowledge_index.similarity_search_by_vector(embedding_vector, k = num_retrieved_docs)#num_retrieved_docs)\n",
        "    relevant_docs = [doc.page_content for doc in relevant_docs]  # keep only the text\n",
        "\n",
        "\n",
        "    if reranker:\n",
        "        relevant_docs = reranker.rerank(question, relevant_docs, k=num_docs_final)\n",
        "        relevant_docs = [doc[\"content\"] for doc in relevant_docs]\n",
        "\n",
        "\n",
        "    relevant_docs = relevant_docs[:num_retrieved_docs]\n",
        "\n",
        "    # Build the final prompt\n",
        "    context = \"\\nExtracted documents:\\n\"\n",
        "    context += \"\".join([f\"Document {str(i)}:::\\n\" + doc for i, doc in enumerate(relevant_docs)])\n",
        "\n",
        "   \n",
        "    generator.warmup()\n",
        "    final_prompt = RAG_PROMPT_TEMPLATE.format(question=question, context=context)\n",
        "\n",
        "    answer = generator.generate_simple(final_prompt, \n",
        "    settings, max_new_tokens, seed = 1234)\n",
        "    return answer,relevant_docs\n",
        "\n",
        "\n",
        "answer, relevant_docs = answer_with_rag(question=\"What is the difference between RAG and self-RAG?\", generator=reader_llm,settings=reader_settings,max_new_tokens=512,reranker = RERANKER)"
      ]
    },
    {
      "cell_type": "code",
      "execution_count": 38,
      "metadata": {},
      "outputs": [
        {
          "data": {
            "text/plain": [
              "list"
            ]
          },
          "execution_count": 38,
          "metadata": {},
          "output_type": "execute_result"
        }
      ],
      "source": [
        "type(relevant_docs)"
      ]
    },
    {
      "cell_type": "markdown",
      "metadata": {
        "id": "hiygbqfT9jVP"
      },
      "source": [
        "# 3. Benchmarking the RAG system\n",
        "\n",
        "The RAG system and the evaluation datasets are now ready. The last step is to judge the RAG system's output on this evlauation dataset.\n",
        "\n",
        "To this end, __we setup a judge agent__. ⚖️🤖\n",
        "\n",
        "Out of [the different RAG evaluation metrics](https://docs.ragas.io/en/latest/concepts/metrics/index.html), we choose to focus only on faithfulness since it the best end-to-end metric of our system's performance.\n",
        "\n",
        "> We use GPT4 as a judge for its empirically good performance, but you could try with other models such as [kaist-ai/prometheus-13b-v1.0](https://huggingface.co/kaist-ai/prometheus-13b-v1.0) or [BAAI/JudgeLM-33B-v1.0](https://huggingface.co/BAAI/JudgeLM-33B-v1.0).\n",
        "\n",
        "💡 _In the evaluation prompt, we give a detailed description each metric on the scale 1-5, as is done in [Prometheus's prompt template](https://huggingface.co/kaist-ai/prometheus-13b-v1.0): this helps the model ground its metric precisely. If instead you give the judge LLM a vague scale to work with, the outputs will not be consistent enough between different examples._\n",
        "\n",
        "💡 _Again, prompting the LLM to output rationale before giving its final score gives it more tokens to help it formalize and elaborate a judgement._"
      ]
    },
    {
      "cell_type": "code",
      "execution_count": null,
      "metadata": {},
      "outputs": [],
      "source": [
        "'kaist-ai/prometheus-13b-v1.0'"
      ]
    },
    {
      "cell_type": "code",
      "execution_count": 7,
      "metadata": {},
      "outputs": [],
      "source": [
        "from langchain_core.vectorstores import VectorStore\n",
        "import pandas as pd"
      ]
    },
    {
      "cell_type": "code",
      "execution_count": 12,
      "metadata": {},
      "outputs": [],
      "source": [
        "eval_dataset = pd.read_csv(\"../data/generated_questions_filtered_w_human.csv\")"
      ]
    },
    {
      "cell_type": "code",
      "execution_count": 11,
      "metadata": {},
      "outputs": [
        {
          "data": {
            "text/html": [
              "<div>\n",
              "<style scoped>\n",
              "    .dataframe tbody tr th:only-of-type {\n",
              "        vertical-align: middle;\n",
              "    }\n",
              "\n",
              "    .dataframe tbody tr th {\n",
              "        vertical-align: top;\n",
              "    }\n",
              "\n",
              "    .dataframe thead th {\n",
              "        text-align: right;\n",
              "    }\n",
              "</style>\n",
              "<table border=\"1\" class=\"dataframe\">\n",
              "  <thead>\n",
              "    <tr style=\"text-align: right;\">\n",
              "      <th></th>\n",
              "      <th>context</th>\n",
              "      <th>question</th>\n",
              "      <th>answer</th>\n",
              "      <th>source_doc</th>\n",
              "      <th>groundedness_score</th>\n",
              "      <th>groundedness_eval</th>\n",
              "      <th>relevance_score</th>\n",
              "      <th>relevance_eval</th>\n",
              "      <th>standalone_score</th>\n",
              "      <th>standalone_eval</th>\n",
              "    </tr>\n",
              "  </thead>\n",
              "  <tbody>\n",
              "    <tr>\n",
              "      <th>0</th>\n",
              "      <td>Skeleton-of-Thought: Large Language Models Can Do Parallel Decoding\\nSKELETON -OF-THOUGHT : L ARGE LANGUAGE MOD-\\nELSCANDOPARALLEL DECODING\\nXuefei Ning1∗\\nfoxdoraame@gmail.comZinan Lin2∗\\nlinzinan1995@gmail.com\\nZixuan Zhou1∗\\nzhouzx21@mails.tsinghua.edu.cnZifu Wang3\\nzifu.wang@kuleuven.be\\nHuazhong Yang1\\nyanghz@tsinghua.edu.cnYu Wang1\\nyu-wang@tsinghua.edu.cn\\n1Department of Electronic Engineering, Tsinghua University, Beijing, China\\n2Microsoft Research, Redmond, Washington, USA\\n3ESAT-PSI, KU Leuven, Leuven, Belgium\\nWebsite: https://sites.google.com/view/sot-llm\\nABSTRACT\\nThis work aims at decreasing the end-to-end generation latency of large language\\nmodels (LLMs). One of the major causes of the high generation latency is the\\nsequential decoding approach adopted by almost all state-of-the-art LLMs. In\\nthis work, motivated by the thinking and writing process of humans, we propose\\nSkeleton-of-Thought (SoT) , which first guides LLMs to generate the skeleton of\\nthe answer, and then conducts parallel API calls or batched decoding to com-\\nplete the contents of each skeleton point in parallel . Not only does SoT provide\\nconsiderable speed-ups across 12 LLMs, but it can also potentially improve the\\nanswer quality on several question categories. SoT is an initial attempt at data-\\ncentric optimization for inference efficiency, and further underscores the potential\\nof pushing LLMs to think more like a human for answer quality.\\n1 I NTRODUCTION\\nLarge language models (LLMs) (Brown et al., 2020; Touvron et al., 2023a; Du et al., 2022; OpenAI,\\n2023; Zheng et al., 2023) have shown exceptional performance in natural language processing and\\nchatbot systems. However, the inference process of the state-of-the-art LLMs is slow, hindering their\\ninteractive use. For example, it takes 22 seconds for Claude (Anthropic, 2023) (accessed through\\nSlack API) and 43 seconds for Vicuna-33B V1.3 (a 33B LLaMA-based model, running locally on\\none NVIDIA A100 GPU) to answer the question in Fig. 1.</td>\n",
              "      <td>Can a large language model with parallel decoding be designed to think more like a human for answer quality?\\n\\n</td>\n",
              "      <td>Yes, the proposed Skeleton-of-Thought (SoT) method in the context is an attempt to optimize the inference efficiency of large language models (LLMs) for data-centric optimization, which can potentially improve the answer quality on several question categories. This is achieved by guiding the LLMs to generate the skeleton of the answer first and then conducting parallel API calls or batched decoding to complete the contents of each skeleton point in parallel. The method is an initial attempt at data-centric optimization for inference efficiency and underscores the potential of pushing LLMs to think more like a human for answer quality.</td>\n",
              "      <td>Skeleton-of-Thought_ Large Language Models Can Do Parallel Decoding.pdf</td>\n",
              "      <td>3.0</td>\n",
              "      <td>While the context provides some relevant information about large language models and parallel decoding, it does not directly address the question of whether a large language model with parallel decoding can be designed to think more like a human for answer quality. \\n\\n</td>\n",
              "      <td>3.0</td>\n",
              "      <td>NaN</td>\n",
              "      <td>3.0</td>\n",
              "      <td>NaN</td>\n",
              "    </tr>\n",
              "  </tbody>\n",
              "</table>\n",
              "</div>"
            ],
            "text/plain": [
              "                                                                                                                                                                                                                                                                                                                                                                                                                                                                                                                                                                                                                                                                                                                                                                                                                                                                                                                                                                                                                                                                                                                                                                                                                                                                                                                                                                                                                                                                                                                                                                                                                                                                                                                                                                                                                                                                                                                                                                                                                                                                                               context  \\\n",
              "0  Skeleton-of-Thought: Large Language Models Can Do Parallel Decoding\\nSKELETON -OF-THOUGHT : L ARGE LANGUAGE MOD-\\nELSCANDOPARALLEL DECODING\\nXuefei Ning1∗\\nfoxdoraame@gmail.comZinan Lin2∗\\nlinzinan1995@gmail.com\\nZixuan Zhou1∗\\nzhouzx21@mails.tsinghua.edu.cnZifu Wang3\\nzifu.wang@kuleuven.be\\nHuazhong Yang1\\nyanghz@tsinghua.edu.cnYu Wang1\\nyu-wang@tsinghua.edu.cn\\n1Department of Electronic Engineering, Tsinghua University, Beijing, China\\n2Microsoft Research, Redmond, Washington, USA\\n3ESAT-PSI, KU Leuven, Leuven, Belgium\\nWebsite: https://sites.google.com/view/sot-llm\\nABSTRACT\\nThis work aims at decreasing the end-to-end generation latency of large language\\nmodels (LLMs). One of the major causes of the high generation latency is the\\nsequential decoding approach adopted by almost all state-of-the-art LLMs. In\\nthis work, motivated by the thinking and writing process of humans, we propose\\nSkeleton-of-Thought (SoT) , which first guides LLMs to generate the skeleton of\\nthe answer, and then conducts parallel API calls or batched decoding to com-\\nplete the contents of each skeleton point in parallel . Not only does SoT provide\\nconsiderable speed-ups across 12 LLMs, but it can also potentially improve the\\nanswer quality on several question categories. SoT is an initial attempt at data-\\ncentric optimization for inference efficiency, and further underscores the potential\\nof pushing LLMs to think more like a human for answer quality.\\n1 I NTRODUCTION\\nLarge language models (LLMs) (Brown et al., 2020; Touvron et al., 2023a; Du et al., 2022; OpenAI,\\n2023; Zheng et al., 2023) have shown exceptional performance in natural language processing and\\nchatbot systems. However, the inference process of the state-of-the-art LLMs is slow, hindering their\\ninteractive use. For example, it takes 22 seconds for Claude (Anthropic, 2023) (accessed through\\nSlack API) and 43 seconds for Vicuna-33B V1.3 (a 33B LLaMA-based model, running locally on\\none NVIDIA A100 GPU) to answer the question in Fig. 1.   \n",
              "\n",
              "                                                                                                           question  \\\n",
              "0  Can a large language model with parallel decoding be designed to think more like a human for answer quality?\\n\\n   \n",
              "\n",
              "                                                                                                                                                                                                                                                                                                                                                                                                                                                                                                                                                                                                                                                               answer  \\\n",
              "0  Yes, the proposed Skeleton-of-Thought (SoT) method in the context is an attempt to optimize the inference efficiency of large language models (LLMs) for data-centric optimization, which can potentially improve the answer quality on several question categories. This is achieved by guiding the LLMs to generate the skeleton of the answer first and then conducting parallel API calls or batched decoding to complete the contents of each skeleton point in parallel. The method is an initial attempt at data-centric optimization for inference efficiency and underscores the potential of pushing LLMs to think more like a human for answer quality.   \n",
              "\n",
              "                                                                source_doc  \\\n",
              "0  Skeleton-of-Thought_ Large Language Models Can Do Parallel Decoding.pdf   \n",
              "\n",
              "   groundedness_score  \\\n",
              "0                 3.0   \n",
              "\n",
              "                                                                                                                                                                                                                                                                groundedness_eval  \\\n",
              "0  While the context provides some relevant information about large language models and parallel decoding, it does not directly address the question of whether a large language model with parallel decoding can be designed to think more like a human for answer quality. \\n\\n   \n",
              "\n",
              "   relevance_score relevance_eval  standalone_score standalone_eval  \n",
              "0              3.0            NaN               3.0             NaN  "
            ]
          },
          "execution_count": 11,
          "metadata": {},
          "output_type": "execute_result"
        }
      ],
      "source": [
        "eval_dataset.head(1)"
      ]
    },
    {
      "cell_type": "code",
      "execution_count": 51,
      "metadata": {
        "id": "VrlMh_ZI9jVP"
      },
      "outputs": [],
      "source": [
        "from collections import namedtuple\n",
        "def run_rag_tests(\n",
        "    dataset: pd.DataFrame,\n",
        "    llm: ExLlamaV2StreamingGenerator,\n",
        "    knowledge_index: VectorStore,\n",
        "    #output_file: str,\n",
        "    reranker: Optional[RAGPretrainedModel] = None,\n",
        "    verbose: Optional[bool] = False,\n",
        "    test_settings: Optional[str] = None,  # To document the test settings used\n",
        "):\n",
        "    \"\"\"Runs RAG tests on the given dataset and saves the results to the given output file.\"\"\"\n",
        "\n",
        "    dataset_copy = dataset.copy(deep=True)\n",
        "    dataset_copy['retrieved_docs'] = None\n",
        "    for example_row in tqdm(dataset_copy.iterrows()):\n",
        "        index, example = example_row\n",
        "        question = example[\"question\"]\n",
        "        if dataset_copy.loc[index,'retrieved_docs']: #already retrieved\n",
        "            print(f\"Continue for {index} since already processed\")\n",
        "            continue\n",
        "\n",
        "        generated_answer, relevant_docs =  answer_with_rag(question, knowledge_index=knowledge_index, generator=llm,settings=reader_settings,max_new_tokens=512,reranker = reranker)\n",
        "        if verbose:\n",
        "            print(\"=======================================================\")\n",
        "            print(f\"Question: {question}\")\n",
        "            print(f\"Answer: {answer}\")\n",
        "            print(f'True answer: {example[\"answer\"]}')\n",
        "        dataset_copy.at[index,'retrieved_docs'] = relevant_docs\n",
        "        dataset_copy.loc[index,'true_answer'] = dataset_copy.loc[index,'answer']\n",
        "        dataset_copy.loc[index,'generated_answer'] = generated_answer\n",
        "\n",
        "\n",
        "        if test_settings:\n",
        "            dataset_copy[\"test_settings\"] = test_settings\n",
        "    return dataset_copy #INDENTED ON PURPOSE, TEST RUN!\n"
      ]
    },
    {
      "cell_type": "code",
      "execution_count": 52,
      "metadata": {},
      "outputs": [
        {
          "data": {
            "text/plain": [
              "Index(['context', 'question', 'answer', 'source_doc', 'groundedness_score',\n",
              "       'groundedness_eval', 'relevance_score', 'relevance_eval',\n",
              "       'standalone_score', 'standalone_eval'],\n",
              "      dtype='object')"
            ]
          },
          "execution_count": 52,
          "metadata": {},
          "output_type": "execute_result"
        }
      ],
      "source": [
        "eval_dataset.columns"
      ]
    },
    {
      "cell_type": "code",
      "execution_count": 6,
      "metadata": {},
      "outputs": [],
      "source": [
        "ds_rag = run_rag_tests(eval_dataset,reader_llm,vector_store,reranker = None,test_settings='MistralQs-all_MiniLM_L6_v2Embed-ZephyrRead-2000x200chunks-NoRerank')"
      ]
    },
    {
      "cell_type": "code",
      "execution_count": 57,
      "metadata": {},
      "outputs": [],
      "source": [
        "ds_rag.to_csv(\"../data/MistralQs-all_MiniLM_L6_v2Embed-ZephyrRead-2000x200chunks-NoRerank.csv\", index=False)"
      ]
    },
    {
      "cell_type": "code",
      "execution_count": 56,
      "metadata": {},
      "outputs": [],
      "source": [
        "#ds_rag.head(1)"
      ]
    },
    {
      "cell_type": "code",
      "execution_count": 58,
      "metadata": {},
      "outputs": [
        {
          "name": "stdout",
          "output_type": "stream",
          "text": [
            "Loading model...\n"
          ]
        }
      ],
      "source": [
        "from exllamav2 import *\n",
        "from exllamav2.generator import *\n",
        "\n",
        "judge_config = ExLlamaV2Config()\n",
        "judge_config.model_dir = \"../../PrometheusEval\"\n",
        "#judge_config.model_dir = '/home/mainuser/Desktop/LLMs/Mixtral4bit'\n",
        "judge_config.prepare()\n",
        "\n",
        "judge_model = ExLlamaV2(judge_config)\n",
        "cache = ExLlamaV2Cache(judge_model, lazy = True)\n",
        "\n",
        "print(\"Loading model...\")\n",
        "judge_model.load_autosplit(cache)\n",
        "\n",
        "judge_tokenizer = ExLlamaV2Tokenizer(judge_config)\n",
        "judge_llm = ExLlamaV2StreamingGenerator(judge_model, cache, judge_tokenizer)\n",
        "#judge_llm.set_stop_conditions([judge_tokenizer.eos_token_id])\n",
        "judge_settings = ExLlamaV2Sampler.Settings()\n",
        "judge_settings.temperature = 1.0\n",
        "# judge_settings.top_k = 30\n",
        "# judge_settings.top_p = 0.8\n",
        "# judge_settings.token_repetition_penalty = 1.03"
      ]
    },
    {
      "cell_type": "code",
      "execution_count": 59,
      "metadata": {
        "id": "Ae-3KWzK9jVP"
      },
      "outputs": [],
      "source": [
        "EVALUATION_PROMPT = \"\"\"###Task Description:\n",
        "An instruction (might include an Input inside it), a response to evaluate, a reference answer that gets a score of 5, and a score rubric representing a evaluation criteria are given.\n",
        "1. Write a detailed feedback that assess the quality of the response strictly based on the given score rubric, not evaluating in general.\n",
        "2. After writing a feedback, write a score that is an integer between 1 and 5. You should refer to the score rubric.\n",
        "3. The output format should look as follows: \\\"Feedback: {{write a feedback for criteria}} [RESULT] {{an integer number between 1 and 5}}\\\"\n",
        "4. Please do not generate any other opening, closing, and explanations. Be sure to include [RESULT] in your output.\n",
        "\n",
        "###The instruction to evaluate:\n",
        "{instruction}\n",
        "\n",
        "###Response to evaluate:\n",
        "{response}\n",
        "\n",
        "###Reference Answer (Score 5):\n",
        "{reference_answer}\n",
        "\n",
        "###Score Rubrics:\n",
        "[Is the response correct, accurate, and factual based on the reference answer?]\n",
        "Score 1: The response is completely incorrect, inaccurate, and/or not factual.\n",
        "Score 2: The response is mostly incorrect, inaccurate, and/or not factual.\n",
        "Score 3: The response is somewhat correct, accurate, and/or factual.\n",
        "Score 4: The response is mostly correct, accurate, and factual.\n",
        "Score 5: The response is completely correct, accurate, and factual.\n",
        "\n",
        "###Feedback:\"\"\"\n",
        "\n",
        "from langchain.prompts.chat import (\n",
        "    ChatPromptTemplate,\n",
        "    HumanMessagePromptTemplate,\n",
        ")\n",
        "from langchain.schema import SystemMessage\n",
        "\n",
        "\n",
        "evaluation_prompt_template = ChatPromptTemplate.from_messages(\n",
        "    [\n",
        "        SystemMessage(content=\"You are a fair evaluator language model.\"),\n",
        "        HumanMessagePromptTemplate.from_template(EVALUATION_PROMPT),\n",
        "    ]\n",
        ")"
      ]
    },
    {
      "cell_type": "code",
      "execution_count": null,
      "metadata": {},
      "outputs": [
        {
          "name": "stdout",
          "output_type": "stream",
          "text": [
            "=> Retrieving documents...\n"
          ]
        }
      ],
      "source": [
        "\n",
        "# def answer_with_rag(\n",
        "#     question: str,\n",
        "#     generator: ExLlamaV2StreamingGenerator,\n",
        "#    # tokenizer: ExLlamaV2Tokenizer,\n",
        "#     settings:ExLlamaV2Sampler.Settings,\n",
        "#     max_new_tokens = 512,\n",
        "#     knowledge_index: FAISS = vector_store,\n",
        "#     reranker: Optional[RAGPretrainedModel] = None,\n",
        "#     num_retrieved_docs: int = 10, #30,\n",
        "#     #num_docs_final: int = 5,\n",
        "# ) -> Tuple[str, List[LangchainDocument]]:\n",
        "#     # Gather documents with retriever\n",
        "#     print(\"=> Retrieving documents...\")\n",
        "#     embedding_vector = core_embeddings_model.embed_query(question)\n",
        "#     relevant_docs = knowledge_index.similarity_search_by_vector(embedding_vector, k = num_retrieved_docs)#num_retrieved_docs)\n",
        "#     relevant_docs = [doc.page_content for doc in relevant_docs]  # keep only the text\n",
        "\n",
        "#     # Optionally rerank results\n",
        "#     # if reranker:\n",
        "#     #     print(\"=> Reranking documents...\")\n",
        "#     #     relevant_docs = reranker.rerank(question, relevant_docs, k=num_docs_final)\n",
        "#     #     #print(f\"Type is : {type(relevant_docs[0])}\")\n",
        "#     #     print(dir(relevant_docs[0]))\n",
        "#     #     relevant_docs = [doc['page_content'] for doc in relevant_docs]\n",
        "\n",
        "#     relevant_docs = relevant_docs[:num_retrieved_docs]\n",
        "\n",
        "#     # Build the final prompt\n",
        "#     context = \"\\nExtracted documents:\\n\"\n",
        "#     context += \"\".join([f\"Document {str(i)}:::\\n\" + doc for i, doc in enumerate(relevant_docs)])\n",
        "\n",
        "   \n",
        "#     generator.warmup()\n",
        "#     final_prompt = RAG_PROMPT_TEMPLATE.format(question=question, context=context)\n",
        "\n",
        "#     answer = generator.generate_simple(final_prompt, \n",
        "#     settings, max_new_tokens, seed = 1234)\n",
        "#     # print(answer)\n",
        "#     return answer,relevant_docs\n",
        "\n",
        "\n",
        "# answer, relevant_docs = answer_with_rag(question=\"What is the difference between RAG and self-RAG?\", generator=reader_llm,settings=reader_settings,max_new_tokens=512)"
      ]
    },
    {
      "cell_type": "code",
      "execution_count": 95,
      "metadata": {
        "id": "ia9Mvn859jVP"
      },
      "outputs": [],
      "source": [
        "import re\n",
        "\n",
        "def evaluate_answers(\n",
        "    answer_path: str,\n",
        "    eval_chat_model:ExLlamaV2StreamingGenerator,\n",
        "    settings:ExLlamaV2Sampler.Settings,\n",
        "    evaluation_prompt: str\n",
        ") -> None:\n",
        "    \"\"\"Evaluates generated answers. Modifies the given answer file in place for better checkpointing.\"\"\"\n",
        "    answers = []\n",
        "    if os.path.isfile(answer_path):  # load previous generations if they exist\n",
        "        answers = pd.read_csv(answer_path)\n",
        "    for example_row in tqdm(answers.iterrows()):\n",
        "        index, example = example_row\n",
        "        if f\"eval_score\" in example:\n",
        "            continue\n",
        "\n",
        "        eval_prompt = evaluation_prompt.format(\n",
        "            instruction=example[\"question\"],\n",
        "            response=example[\"generated_answer\"],\n",
        "            reference_answer=example[\"true_answer\"],\n",
        "        )\n",
        "\n",
        "        eval_chat_model.warmup()\n",
        "        \n",
        "        eval_result = eval_chat_model.generate_simple(eval_prompt, \n",
        "        settings, num_tokens=1024, seed = 1234) #max_new_tokens=1024,\n",
        "        feedback = re.search(r'###Feedback:\\s*(.*)',eval_result,re.DOTALL).group(1)\n",
        "        try:\n",
        "            #score = re.search(r'(\\d+)', feedback).group(1)\n",
        "            score = re.search(r'overall score is (\\d)', feedback).group(1)\n",
        "        except AttributeError:\n",
        "            score = 'NaN'\n",
        "        answers.loc[index,f\"eval_score\"] = score\n",
        "        answers.loc[index,f\"eval_feedback\"] = feedback\n",
        "        print(f'Score: {score}')\n",
        "        print(f'Feedback: {feedback}')\n",
        "    return answers #INDENTED ON PURPOSE, TEST RUN!\n",
        "        # with open(answer_path, \"w\") as f:\n",
        "        #     json.dump(answers, f)"
      ]
    },
    {
      "cell_type": "code",
      "execution_count": 4,
      "metadata": {},
      "outputs": [],
      "source": [
        "temp=evaluate_answers(answer_path='../data/MistralQs-all_MiniLM_L6_v2Embed-ZephyrRead-2000x200chunks-NoRerank.csv',\n",
        "                 eval_chat_model=judge_llm,settings=judge_settings,evaluation_prompt=EVALUATION_PROMPT)"
      ]
    },
    {
      "cell_type": "markdown",
      "metadata": {
        "id": "EXH-szLe9jVP"
      },
      "source": [
        "🚀 Let's run the tests and evaluate answers!👇"
      ]
    },
    {
      "cell_type": "code",
      "execution_count": 5,
      "metadata": {},
      "outputs": [],
      "source": [
        "temp = pd.read_csv('../data/MistralQs-all_MiniLM_L6_v2Embed-ZephyrRead-2000x200chunks-NoRerank.csv')"
      ]
    },
    {
      "cell_type": "code",
      "execution_count": 6,
      "metadata": {},
      "outputs": [
        {
          "data": {
            "text/plain": [
              "Index(['context', 'question', 'answer', 'source_doc', 'groundedness_score',\n",
              "       'groundedness_eval', 'relevance_score', 'relevance_eval',\n",
              "       'standalone_score', 'standalone_eval', 'retrieved_docs', 'true_answer',\n",
              "       'generated_answer', 'test_settings'],\n",
              "      dtype='object')"
            ]
          },
          "execution_count": 6,
          "metadata": {},
          "output_type": "execute_result"
        }
      ],
      "source": [
        "temp.columns"
      ]
    },
    {
      "cell_type": "code",
      "execution_count": 8,
      "metadata": {},
      "outputs": [],
      "source": [
        "temp.eval_score_PrometheusEval.sort_values().hist()"
      ]
    },
    {
      "cell_type": "code",
      "execution_count": null,
      "metadata": {
        "id": "jW2nnvUT9jVQ"
      },
      "outputs": [],
      "source": [
        "if not os.path.exists(\"./output\"):\n",
        "    os.mkdir(\"./output\")\n",
        "\n",
        "for chunk_size in [200]:  # Add other chunk sizes (in tokens) as needed\n",
        "    for embeddings in [\"thenlper/gte-small\"]:  # Add other embeddings as needed\n",
        "        for rerank in [True, False]:\n",
        "            settings_name = f\"chunk:{chunk_size}_embeddings:{embeddings.replace('/', '~')}_rerank:{rerank}_reader-model:{READER_MODEL_NAME}\"\n",
        "            output_file_name = f\"./output/rag_{settings_name}.json\"\n",
        "\n",
        "            print(f\"Running evaluation for {settings_name}:\")\n",
        "\n",
        "            print(\"Loading knowledge base embeddings...\")\n",
        "            knowledge_index = load_embeddings(\n",
        "                RAW_KNOWLEDGE_BASE,\n",
        "                chunk_size=chunk_size,\n",
        "                embedding_model_name=embeddings,\n",
        "            )\n",
        "\n",
        "            print(\"Running RAG...\")\n",
        "            reranker = (\n",
        "                RAGPretrainedModel.from_pretrained(\"colbert-ir/colbertv2.0\")\n",
        "                if rerank\n",
        "                else None\n",
        "            )\n",
        "            run_rag_tests(\n",
        "                eval_dataset=eval_dataset,\n",
        "                llm=READER_LLM,\n",
        "                knowledge_index=knowledge_index,\n",
        "                output_file=output_file_name,\n",
        "                reranker=reranker,\n",
        "                verbose=False,\n",
        "                test_settings=settings_name,\n",
        "            )\n",
        "\n",
        "            print(\"Running evaluation...\")\n",
        "            evaluate_answers(\n",
        "                output_file_name,\n",
        "                eval_chat_model,\n",
        "                evaluator_name,\n",
        "                evaluation_prompt_template,\n",
        "            )"
      ]
    },
    {
      "cell_type": "markdown",
      "metadata": {
        "id": "tytXV5-h9jVT"
      },
      "source": [
        "### Inspect results"
      ]
    },
    {
      "cell_type": "code",
      "execution_count": null,
      "metadata": {
        "id": "D4YDSfmr9jVT"
      },
      "outputs": [],
      "source": [
        "import glob\n",
        "\n",
        "outputs = []\n",
        "for file in glob.glob(\"./output/*.json\"):\n",
        "    output = pd.DataFrame(json.load(open(file, \"r\")))\n",
        "    output[\"settings\"] = file\n",
        "    outputs.append(output)\n",
        "result = pd.concat(outputs)"
      ]
    },
    {
      "cell_type": "code",
      "execution_count": null,
      "metadata": {
        "id": "CdkXMNvS9jVT"
      },
      "outputs": [],
      "source": [
        "result[\"eval_score_GPT4\"] = result[\"eval_score_GPT4\"].apply(\n",
        "    lambda x: int(x) if isinstance(x, str) else 1\n",
        ")\n",
        "result[\"eval_score_GPT4\"] = (result[\"eval_score_GPT4\"] - 1) / 4"
      ]
    },
    {
      "cell_type": "code",
      "execution_count": null,
      "metadata": {
        "id": "lgxBpid29jVT",
        "outputId": "9a3bcf32-4b0c-4df1-c76c-3ebbca82929d"
      },
      "outputs": [
        {
          "data": {
            "text/plain": [
              "settings\n",
              "./output/rag_chunk:200_embeddings:thenlper~gte-small_rerank:False_reader-model:zephyr-7b-beta.json       0.884328\n",
              "./output/rag_chunk:200_embeddings:BAAI~bge-base-en-v1.5_rerank:False_reader-model:zephyr-7b-beta.json    0.906716\n",
              "./output/rag_chunk:200_embeddings:BAAI~bge-base-en-v1.5_rerank:True_reader-model:zephyr-7b-beta.json     0.906716\n",
              "./output/rag_chunk:200_embeddings:thenlper~gte-small_rerank:True_reader-model:mixtral.json               0.906716\n",
              "./output/rag_chunk:200_embeddings:thenlper~gte-small_rerank:True_reader-model:zephyr-7b-beta.json        0.921642\n",
              "./output/rag_chunk:200_embeddings:thenlper~gte-small_rerank:True_reader-model:mixtral0.json              0.947761\n",
              "Name: eval_score_GPT4, dtype: float64"
            ]
          },
          "execution_count": 24,
          "metadata": {},
          "output_type": "execute_result"
        }
      ],
      "source": [
        "average_scores = result.groupby(\"settings\")[\"eval_score_GPT4\"].mean()\n",
        "average_scores.sort_values()"
      ]
    },
    {
      "cell_type": "markdown",
      "metadata": {
        "id": "pSPH9DYI9jVT"
      },
      "source": [
        "## Example results\n",
        "\n",
        "Let us load the results that I obtained by tweaking the different options available in this notebook.\n",
        "For more detail on why these options could work on not, see the notebook on [advanced_RAG](advanced_rag).\n",
        "\n",
        "As you can see in the graph below, some tweaks do not bring any improvement, some give huge performance boosts.\n",
        "\n",
        "➡️ ___There is no single good recipe: you should try several different directions when tuning your RAG systems.___\n"
      ]
    },
    {
      "cell_type": "code",
      "execution_count": null,
      "metadata": {
        "id": "RVOxatv99jVT"
      },
      "outputs": [],
      "source": [
        "import plotly.express as px\n",
        "\n",
        "scores = datasets.load_dataset(\"m-ric/rag_scores_cookbook\", split=\"train\")\n",
        "scores = pd.Series(scores[\"score\"], index=scores[\"settings\"])"
      ]
    },
    {
      "cell_type": "code",
      "execution_count": null,
      "metadata": {
        "id": "vqK0Dg2Q9jVT"
      },
      "outputs": [],
      "source": [
        "fig = px.bar(\n",
        "    scores,\n",
        "    color=scores,\n",
        "    labels={\n",
        "        \"value\": \"Accuracy\",\n",
        "        \"settings\": \"Configuration\",\n",
        "    },\n",
        "    color_continuous_scale=\"bluered\",\n",
        ")\n",
        "fig.update_layout(w\n",
        "    width=1000,\n",
        "    height=600,\n",
        "    barmode=\"group\",\n",
        "    yaxis_range=[0, 100],\n",
        "    title=\"<b>Accuracy of different RAG configurations</b>\",\n",
        "    xaxis_title=\"RAG settings\",\n",
        "    font=dict(size=15),\n",
        ")\n",
        "fig.layout.yaxis.ticksuffix = \"%\"\n",
        "fig.update_coloraxes(showscale=False)\n",
        "fig.update_traces(texttemplate=\"%{y:.1f}\", textposition=\"outside\")\n",
        "fig.show()"
      ]
    }
  ],
  "metadata": {
    "colab": {
      "provenance": []
    },
    "kernelspec": {
      "display_name": "dl",
      "language": "python",
      "name": "python3"
    },
    "language_info": {
      "codemirror_mode": {
        "name": "ipython",
        "version": 3
      },
      "file_extension": ".py",
      "mimetype": "text/x-python",
      "name": "python",
      "nbconvert_exporter": "python",
      "pygments_lexer": "ipython3",
      "version": "3.12.2"
    }
  },
  "nbformat": 4,
  "nbformat_minor": 0
}
